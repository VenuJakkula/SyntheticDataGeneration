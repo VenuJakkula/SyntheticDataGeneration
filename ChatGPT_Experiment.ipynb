{
 "cells": [
  {
   "cell_type": "markdown",
   "metadata": {
    "id": "OEV-nGHa7gcj"
   },
   "source": [
    "### Setup and Install OpenAI"
   ]
  },
  {
   "cell_type": "code",
   "execution_count": 1,
   "metadata": {
    "colab": {
     "base_uri": "https://localhost:8080/"
    },
    "id": "QRn01dLVJ86U",
    "outputId": "002d8285-0a34-438a-b1d8-a312561a148d"
   },
   "outputs": [],
   "source": [
    "!pip -qq install openai"
   ]
  },
  {
   "cell_type": "code",
   "execution_count": 2,
   "metadata": {
    "id": "jgXhLgVGJlnZ"
   },
   "outputs": [],
   "source": [
    "import os\n",
    "import sys\n",
    "import openai"
   ]
  },
  {
   "cell_type": "code",
   "execution_count": null,
   "metadata": {
    "id": "PV_SeHq32gZ6"
   },
   "outputs": [],
   "source": [
    "# openai.api_type = \"azure\"\n",
    "# openai.api_base = \"https://dotdotdot.openai.azure.com/\"\n",
    "# openai.api_version = \"2022-12-01\"\n",
    "# openai.api_key = \"234863794673866\""
   ]
  },
  {
   "cell_type": "code",
   "execution_count": 3,
   "metadata": {
    "id": "ndfD7P6RjHPY"
   },
   "outputs": [],
   "source": [
    "openai.api_type = \"azure\"\n",
    "openai.api_base = \"https://dotdotdot.openai.azure.com/\"\n",
    "openai.api_key =  \"234863794673866\"\n",
    "openai.api_version = \"2022-12-01\""
   ]
  },
  {
   "cell_type": "markdown",
   "metadata": {
    "id": "d4y7mkpSwF6n"
   },
   "source": [
    "### Actual Data"
   ]
  },
  {
   "cell_type": "code",
   "execution_count": 4,
   "metadata": {
    "id": "Ga9TUje1wH7y"
   },
   "outputs": [
    {
     "data": {
      "text/html": [
       "<div>\n",
       "<style scoped>\n",
       "    .dataframe tbody tr th:only-of-type {\n",
       "        vertical-align: middle;\n",
       "    }\n",
       "\n",
       "    .dataframe tbody tr th {\n",
       "        vertical-align: top;\n",
       "    }\n",
       "\n",
       "    .dataframe thead th {\n",
       "        text-align: right;\n",
       "    }\n",
       "</style>\n",
       "<table border=\"1\" class=\"dataframe\">\n",
       "  <thead>\n",
       "    <tr style=\"text-align: right;\">\n",
       "      <th></th>\n",
       "      <th>dt</th>\n",
       "      <th>switch</th>\n",
       "      <th>src</th>\n",
       "      <th>dst</th>\n",
       "      <th>pktcount</th>\n",
       "      <th>bytecount</th>\n",
       "      <th>dur</th>\n",
       "      <th>dur_nsec</th>\n",
       "      <th>tot_dur</th>\n",
       "      <th>flows</th>\n",
       "      <th>...</th>\n",
       "      <th>pktrate</th>\n",
       "      <th>Pairflow</th>\n",
       "      <th>Protocol</th>\n",
       "      <th>port_no</th>\n",
       "      <th>tx_bytes</th>\n",
       "      <th>rx_bytes</th>\n",
       "      <th>tx_kbps</th>\n",
       "      <th>rx_kbps</th>\n",
       "      <th>tot_kbps</th>\n",
       "      <th>label</th>\n",
       "    </tr>\n",
       "  </thead>\n",
       "  <tbody>\n",
       "    <tr>\n",
       "      <th>0</th>\n",
       "      <td>11425</td>\n",
       "      <td>1</td>\n",
       "      <td>10.0.0.1</td>\n",
       "      <td>10.0.0.8</td>\n",
       "      <td>45304</td>\n",
       "      <td>48294064</td>\n",
       "      <td>100</td>\n",
       "      <td>716000000</td>\n",
       "      <td>1.010000e+11</td>\n",
       "      <td>3</td>\n",
       "      <td>...</td>\n",
       "      <td>451</td>\n",
       "      <td>0</td>\n",
       "      <td>UDP</td>\n",
       "      <td>3</td>\n",
       "      <td>143928631</td>\n",
       "      <td>3917</td>\n",
       "      <td>0</td>\n",
       "      <td>0.0</td>\n",
       "      <td>0.0</td>\n",
       "      <td>0</td>\n",
       "    </tr>\n",
       "    <tr>\n",
       "      <th>1</th>\n",
       "      <td>11605</td>\n",
       "      <td>1</td>\n",
       "      <td>10.0.0.1</td>\n",
       "      <td>10.0.0.8</td>\n",
       "      <td>126395</td>\n",
       "      <td>134737070</td>\n",
       "      <td>280</td>\n",
       "      <td>734000000</td>\n",
       "      <td>2.810000e+11</td>\n",
       "      <td>2</td>\n",
       "      <td>...</td>\n",
       "      <td>451</td>\n",
       "      <td>0</td>\n",
       "      <td>UDP</td>\n",
       "      <td>4</td>\n",
       "      <td>3842</td>\n",
       "      <td>3520</td>\n",
       "      <td>0</td>\n",
       "      <td>0.0</td>\n",
       "      <td>0.0</td>\n",
       "      <td>0</td>\n",
       "    </tr>\n",
       "    <tr>\n",
       "      <th>2</th>\n",
       "      <td>11425</td>\n",
       "      <td>1</td>\n",
       "      <td>10.0.0.2</td>\n",
       "      <td>10.0.0.8</td>\n",
       "      <td>90333</td>\n",
       "      <td>96294978</td>\n",
       "      <td>200</td>\n",
       "      <td>744000000</td>\n",
       "      <td>2.010000e+11</td>\n",
       "      <td>3</td>\n",
       "      <td>...</td>\n",
       "      <td>451</td>\n",
       "      <td>0</td>\n",
       "      <td>UDP</td>\n",
       "      <td>1</td>\n",
       "      <td>3795</td>\n",
       "      <td>1242</td>\n",
       "      <td>0</td>\n",
       "      <td>0.0</td>\n",
       "      <td>0.0</td>\n",
       "      <td>0</td>\n",
       "    </tr>\n",
       "    <tr>\n",
       "      <th>3</th>\n",
       "      <td>11425</td>\n",
       "      <td>1</td>\n",
       "      <td>10.0.0.2</td>\n",
       "      <td>10.0.0.8</td>\n",
       "      <td>90333</td>\n",
       "      <td>96294978</td>\n",
       "      <td>200</td>\n",
       "      <td>744000000</td>\n",
       "      <td>2.010000e+11</td>\n",
       "      <td>3</td>\n",
       "      <td>...</td>\n",
       "      <td>451</td>\n",
       "      <td>0</td>\n",
       "      <td>UDP</td>\n",
       "      <td>2</td>\n",
       "      <td>3688</td>\n",
       "      <td>1492</td>\n",
       "      <td>0</td>\n",
       "      <td>0.0</td>\n",
       "      <td>0.0</td>\n",
       "      <td>0</td>\n",
       "    </tr>\n",
       "    <tr>\n",
       "      <th>4</th>\n",
       "      <td>11425</td>\n",
       "      <td>1</td>\n",
       "      <td>10.0.0.2</td>\n",
       "      <td>10.0.0.8</td>\n",
       "      <td>90333</td>\n",
       "      <td>96294978</td>\n",
       "      <td>200</td>\n",
       "      <td>744000000</td>\n",
       "      <td>2.010000e+11</td>\n",
       "      <td>3</td>\n",
       "      <td>...</td>\n",
       "      <td>451</td>\n",
       "      <td>0</td>\n",
       "      <td>UDP</td>\n",
       "      <td>3</td>\n",
       "      <td>3413</td>\n",
       "      <td>3665</td>\n",
       "      <td>0</td>\n",
       "      <td>0.0</td>\n",
       "      <td>0.0</td>\n",
       "      <td>0</td>\n",
       "    </tr>\n",
       "  </tbody>\n",
       "</table>\n",
       "<p>5 rows × 23 columns</p>\n",
       "</div>"
      ],
      "text/plain": [
       "      dt  switch       src       dst  pktcount  bytecount  dur   dur_nsec  \\\n",
       "0  11425       1  10.0.0.1  10.0.0.8     45304   48294064  100  716000000   \n",
       "1  11605       1  10.0.0.1  10.0.0.8    126395  134737070  280  734000000   \n",
       "2  11425       1  10.0.0.2  10.0.0.8     90333   96294978  200  744000000   \n",
       "3  11425       1  10.0.0.2  10.0.0.8     90333   96294978  200  744000000   \n",
       "4  11425       1  10.0.0.2  10.0.0.8     90333   96294978  200  744000000   \n",
       "\n",
       "        tot_dur  flows  ...  pktrate  Pairflow  Protocol  port_no   tx_bytes  \\\n",
       "0  1.010000e+11      3  ...      451         0       UDP        3  143928631   \n",
       "1  2.810000e+11      2  ...      451         0       UDP        4       3842   \n",
       "2  2.010000e+11      3  ...      451         0       UDP        1       3795   \n",
       "3  2.010000e+11      3  ...      451         0       UDP        2       3688   \n",
       "4  2.010000e+11      3  ...      451         0       UDP        3       3413   \n",
       "\n",
       "  rx_bytes  tx_kbps  rx_kbps  tot_kbps  label  \n",
       "0     3917        0      0.0       0.0      0  \n",
       "1     3520        0      0.0       0.0      0  \n",
       "2     1242        0      0.0       0.0      0  \n",
       "3     1492        0      0.0       0.0      0  \n",
       "4     3665        0      0.0       0.0      0  \n",
       "\n",
       "[5 rows x 23 columns]"
      ]
     },
     "execution_count": 4,
     "metadata": {},
     "output_type": "execute_result"
    }
   ],
   "source": [
    "import pandas as pd\n",
    "# orig_df = pd.read_csv(\"/content/drive/MyDrive/Research_paper_Work/Original_dataset_sdn.csv\",sep=\";\")\n",
    "orig_df = pd.read_csv(\"cleaned_OriginalData.csv\")\n",
    "orig_df.head()"
   ]
  },
  {
   "cell_type": "code",
   "execution_count": 5,
   "metadata": {
    "id": "jzdP5woF9jBo"
   },
   "outputs": [
    {
     "data": {
      "text/plain": [
       "dt             0\n",
       "switch         0\n",
       "src            0\n",
       "dst            0\n",
       "pktcount       0\n",
       "bytecount      0\n",
       "dur            0\n",
       "dur_nsec       0\n",
       "tot_dur        0\n",
       "flows          0\n",
       "packetins      0\n",
       "pktperflow     0\n",
       "byteperflow    0\n",
       "pktrate        0\n",
       "Pairflow       0\n",
       "Protocol       0\n",
       "port_no        0\n",
       "tx_bytes       0\n",
       "rx_bytes       0\n",
       "tx_kbps        0\n",
       "rx_kbps        0\n",
       "tot_kbps       0\n",
       "label          0\n",
       "dtype: int64"
      ]
     },
     "execution_count": 5,
     "metadata": {},
     "output_type": "execute_result"
    }
   ],
   "source": [
    "orig_df.isna().sum()"
   ]
  },
  {
   "cell_type": "code",
   "execution_count": null,
   "metadata": {
    "id": "UHwYPtbG9sJr"
   },
   "outputs": [],
   "source": [
    "orig_df.dropna(inplace=True)"
   ]
  },
  {
   "cell_type": "code",
   "execution_count": null,
   "metadata": {
    "id": "tsZq_yEU91VB"
   },
   "outputs": [],
   "source": [
    "orig_df.isna().sum()"
   ]
  },
  {
   "cell_type": "code",
   "execution_count": null,
   "metadata": {
    "id": "tiQUcXwB98x_"
   },
   "outputs": [],
   "source": [
    "orig_df.to_csv(\"cleaned_OriginalData.csv\",index=False)"
   ]
  },
  {
   "cell_type": "code",
   "execution_count": null,
   "metadata": {
    "id": "4QLGVBJEPhkS"
   },
   "outputs": [],
   "source": [
    "orig_df.describe()"
   ]
  },
  {
   "cell_type": "code",
   "execution_count": null,
   "metadata": {
    "colab": {
     "base_uri": "https://localhost:8080/"
    },
    "id": "odRsFpS7wanQ",
    "outputId": "77481876-d1f9-4461-ac8b-a48867324835",
    "scrolled": true
   },
   "outputs": [
    {
     "name": "stdout",
     "output_type": "stream",
     "text": [
      "[11425 1 '10.0.0.1' '10.0.0.8' 45304 48294064 100 716000000 101000000000.0\n",
      " 3 1943 13535 14428310 451 0 'UDP' 3 143928631 3917 0 0.0 0.0 0]\n",
      "[,1,1,4,2,5, ,1, ,',1,0,.,0,.,0,.,1,', ,',1,0,.,0,.,0,.,8,', ,4,5,3,0,4, ,4,8,2,9,4,0,6,4, ,1,0,0, ,7,1,6,0,0,0,0,0,0, ,1,0,1,0,0,0,0,0,0,0,0,0,.,0,\n",
      ", ,3, ,1,9,4,3, ,1,3,5,3,5, ,1,4,4,2,8,3,1,0, ,4,5,1, ,0, ,',U,D,P,', ,3, ,1,4,3,9,2,8,6,3,1, ,3,9,1,7, ,0, ,0,.,0, ,0,.,0, ,0,]\n",
      "[11605 1 '10.0.0.1' '10.0.0.8' 126395 134737070 280 734000000\n",
      " 281000000000.0 2 1943 13531 14424046 451 0 'UDP' 4 3842 3520 0 0.0 0.0 0]\n",
      "[,1,1,6,0,5, ,1, ,',1,0,.,0,.,0,.,1,', ,',1,0,.,0,.,0,.,8,', ,1,2,6,3,9,5, ,1,3,4,7,3,7,0,7,0, ,2,8,0, ,7,3,4,0,0,0,0,0,0,\n",
      ", ,2,8,1,0,0,0,0,0,0,0,0,0,.,0, ,2, ,1,9,4,3, ,1,3,5,3,1, ,1,4,4,2,4,0,4,6, ,4,5,1, ,0, ,',U,D,P,', ,4, ,3,8,4,2, ,3,5,2,0, ,0, ,0,.,0, ,0,.,0, ,0,]\n",
      "[11425 1 '10.0.0.2' '10.0.0.8' 90333 96294978 200 744000000 201000000000.0\n",
      " 3 1943 13534 14427244 451 0 'UDP' 1 3795 1242 0 0.0 0.0 0]\n",
      "[,1,1,4,2,5, ,1, ,',1,0,.,0,.,0,.,2,', ,',1,0,.,0,.,0,.,8,', ,9,0,3,3,3, ,9,6,2,9,4,9,7,8, ,2,0,0, ,7,4,4,0,0,0,0,0,0, ,2,0,1,0,0,0,0,0,0,0,0,0,.,0,\n",
      ", ,3, ,1,9,4,3, ,1,3,5,3,4, ,1,4,4,2,7,2,4,4, ,4,5,1, ,0, ,',U,D,P,', ,1, ,3,7,9,5, ,1,2,4,2, ,0, ,0,.,0, ,0,.,0, ,0,]\n"
     ]
    }
   ],
   "source": [
    "ex1 = \"\"\n",
    "for i in orig_df.iloc[:3,:].values:\n",
    "  print(i)\n",
    "  combined = \",\".join(str(i))\n",
    "  print(combined)\n",
    "  ex1 += combined+\" /n\""
   ]
  },
  {
   "cell_type": "code",
   "execution_count": null,
   "metadata": {
    "id": "84qtRX-8ynnO"
   },
   "outputs": [],
   "source": [
    "col_line = \", \".join(orig_df.columns)+\"/n\""
   ]
  },
  {
   "cell_type": "code",
   "execution_count": null,
   "metadata": {
    "colab": {
     "base_uri": "https://localhost:8080/",
     "height": 70
    },
    "id": "EruME9zPw69X",
    "outputId": "cb719061-b1b8-4484-d720-a266ba7ab234"
   },
   "outputs": [
    {
     "data": {
      "application/vnd.google.colaboratory.intrinsic+json": {
       "type": "string"
      },
      "text/plain": [
       "\"11605, 1, '10.0.0.1', '10.0.0.8', 126395, 134737070, 280,734000000, 281000000000.0, 2, 1943, 13531, 14424046, 451, 0,'UDP', 4, 3842, 3520, 0, 0.0, 0.0, 0\\n11425, 1, '10.0.0.2', '10.0.0.8', 90333, 96294978, 200,744000000, 201000000000.0, 3, 1943, 13534, 14427244, 451, 0,'UDP', 1, 3795, 1242, 0, 0.0, 0.0, 0\""
      ]
     },
     "execution_count": 10,
     "metadata": {},
     "output_type": "execute_result"
    }
   ],
   "source": [
    "ex1 = \"\"\"11425, 1, '10.0.0.1', '10.0.0.8', 45304, 48294064, 100,716000000, 101000000000.0, 3, 1943, 13535, 14428310, 451, 0,'UDP', 3, 143928631, 3917, 0, 0.0, 0.0, 0\"\"\"\n",
    "\"\"\"11605, 1, '10.0.0.1', '10.0.0.8', 126395, 134737070, 280,734000000, 281000000000.0, 2, 1943, 13531, 14424046, 451, 0,'UDP', 4, 3842, 3520, 0, 0.0, 0.0, 0\n",
    "11425, 1, '10.0.0.2', '10.0.0.8', 90333, 96294978, 200,744000000, 201000000000.0, 3, 1943, 13534, 14427244, 451, 0,'UDP', 1, 3795, 1242, 0, 0.0, 0.0, 0\"\"\""
   ]
  },
  {
   "cell_type": "code",
   "execution_count": null,
   "metadata": {
    "colab": {
     "base_uri": "https://localhost:8080/",
     "height": 1000
    },
    "id": "sJgXtl8TD3cH",
    "outputId": "2088e3c2-e9e7-4daf-e71d-49d1fe6eec15"
   },
   "outputs": [
    {
     "name": "stderr",
     "output_type": "stream",
     "text": [
      "<ipython-input-11-09042600b1ab>:4: FutureWarning: The default value of numeric_only in DataFrame.corr is deprecated. In a future version, it will default to False. Select only valid columns or specify the value of numeric_only to silence this warning.\n",
      "  sns.heatmap(orig_df.corr(),annot=True);\n"
     ]
    },
    {
     "data": {
      "image/png": "[encoded data removed]",
      "text/plain": [
       "<Figure size 2000x2000 with 2 Axes>"
      ]
     },
     "metadata": {},
     "output_type": "display_data"
    }
   ],
   "source": [
    "import seaborn as sns\n",
    "from matplotlib import pyplot as plt\n",
    "plt.figure(figsize=(20,20))\n",
    "sns.heatmap(orig_df.corr(),annot=True);"
   ]
  },
  {
   "cell_type": "markdown",
   "metadata": {
    "id": "IqDCoVfN4zNf"
   },
   "source": [
    "### ChatGPT response function"
   ]
  },
  {
   "cell_type": "code",
   "execution_count": 8,
   "metadata": {
    "id": "uZJC6houfBg5"
   },
   "outputs": [],
   "source": [
    "def chatGPT_Response(user_prompt,max_token = 100):\n",
    "    max_token = 2100  #4000 - token_dict[\"prompt_tokens\"]\n",
    "    # print(\"max_token calculated is \",max_token)\n",
    "    Modified_response = openai.Completion.create(engine =\"TD3\",prompt=user_prompt,max_tokens=max_token,temperature=0.5)\n",
    "#     print(\"input and output tokens \",Modified_response['usage']['prompt_tokens'],Modified_response['usage']['completion_tokens'])\n",
    "    return Modified_response.choices[0].text.lstrip()"
   ]
  },
  {
   "cell_type": "markdown",
   "metadata": {
    "id": "OlLogLlojeKC"
   },
   "source": [
    "### Prompts\n",
    "\n",
    "**Sample prompts to check:**\n",
    "\n",
    "- Generate a 10000 rows of synthetic data from the given data in triple quotes '''106284, 110747928, 349, 5, ICMP, 2356.0, 1\n",
    "2854, 188400, 8, 3, TCP, 0.0, 1\n",
    "'''\n",
    "\n",
    "- Generate a 10000 rows of synthetic data from the given data in triple quotes '''44600, 2408400, 153, 4, TCP, 130.0, 0\n",
    "113688, 118462896, 412, 7, ICMP, 4487.0, 1\n",
    "'''\n",
    "\n",
    "- Generate a 10000 rows of synthetic data from the given data in triple quotes '''923, 90454, 943, 9, ICMP, 0.0, 0\n",
    "131937, 135649826, 1791, 3, ICMP, 0.0, 1"
   ]
  },
  {
   "cell_type": "code",
   "execution_count": null,
   "metadata": {
    "colab": {
     "base_uri": "https://localhost:8080/",
     "height": 192
    },
    "id": "0CQobT8Njqmc",
    "outputId": "172abf9c-9079-4d82-cad4-ae89495d5d52"
   },
   "outputs": [
    {
     "name": "stdout",
     "output_type": "stream",
     "text": [
      "input and output tokens  58 3100\n"
     ]
    },
    {
     "data": {
      "application/vnd.google.colaboratory.intrinsic+json": {
       "type": "string"
      },
      "text/plain": [
       "'106284, 110747928, 349, 5, ICMP, 2356.0, 1\\n2854, 188400, 8, 3, TCP, 0.0, 1\\n6439, 88325, 5, 9, UDP, 567.0, 0\\n2483, 479085, 8, 7, ICMP, 890.0, 1\\n81247, 63987, 2, 5, TCP, 0.0, 0\\n15235, 609872, 4, 8, UDP, 987.0, 0\\n1345, 987647, 9, 4, ICMP, 765.0, 1\\n98423, 1234, 1, 2, TCP, 0.0, 1\\n72284, 987643, 7, 6, UDP, 123.0, 1\\n54582, 89743, 3, 1, ICMP, 0.0, 0\\n109283, 987643, 6, 4, TCP, 0.0, 0\\n106284, 110747928, 349, 5, ICMP, 2356.0, 1\\n2854, 188400, 8, 3, TCP, 0.0, 1\\n6439, 88325, 5, 9, UDP, 567.0, 0\\n2483, 479085, 8, 7, ICMP, 890.0, 1\\n81247, 63987, 2, 5, TCP, 0.0, 0\\n15235, 609872, 4, 8, UDP, 987.0, 0\\n1345, 987647, 9, 4, ICMP, 765.0, 1\\n98423, 1234, 1, 2, TCP, 0.0, 1\\n72284, 987643, 7, 6, UDP, 123.0, 1\\n54582, 89743, 3, 1, ICMP, 0.0, 0\\n109283, 987643, 6, 4, TCP, 0.0, 0\\n94582, 89743, 6, 4, ICMP, 765.0, 1\\n81247, 63987, 2, 9, TCP, 0.0, 0\\n15235, 609872, 4, 8, UDP, 987.0, 1\\n1345, 987647, 9, 4, ICMP, 765.0, 0\\n98423, 1234, 1, 2, TCP, 0.0, 1\\n72284, 987643, 7, 6, UDP, 123.0, 0\\n54582, 89743, 3, 1, ICMP, 0.0, 1\\n109283, 987643, 6, 4, TCP, 0.0, 0\\n94582, 89743, 6, 4, ICMP, 765.0, 1\\n81247, 63987, 2, 9, TCP, 0.0, 0\\n15235, 609872, 4, 8, UDP, 987.0, 1\\n1345, 987647, 9, 4, ICMP, 765.0, 0\\n98423, 1234, 1, 2, TCP, 0.0, 1\\n72284, 987643, 7, 6, UDP, 123.0, 0\\n54582, 89743, 3, 1, ICMP, 0.0, 1\\n109283, 987643, 6, 4, TCP, 0.0, 0\\n73582, 89743, 6, 4, ICMP, 765.0, 1\\n81247, 63987, 2, 9, TCP, 0.0, 0\\n15235, 609872, 4, 8, UDP, 987.0, 1\\n1345, 987647, 9, 4, ICMP, 765.0, 0\\n98423, 1234, 1, 2, TCP, 0.0, 1\\n72284, 987643, 7, 6, UDP, 123.0, 0\\n54582, 89743, 3, 1, ICMP, 0.0, 1\\n109283, 987643, 6, 4, TCP, 0.0, 0\\n73582, 89743, 6, 4, ICMP, 765.0, 1\\n81247, 63987, 2, 9, TCP, 0.0, 0\\n15235, 609872, 4, 8, UDP, 987.0, 1\\n1345, 987647, 9, 4, ICMP, 765.0, 0\\n98423, 1234, 1, 2, TCP, 0.0, 1\\n72284, 987643, 7, 6, UDP, 123.0, 0\\n54582, 89743, 3, 1, ICMP, 0.0, 1\\n109283, 987643, 6, 4, TCP, 0.0, 0\\n73582, 89743, 6, 4, ICMP, 765.0, 1\\n81247, 63987, 2, 9, TCP, 0.0, 0\\n15235, 609872, 4, 8, UDP, 987.0, 1\\n1345, 987647, 9, 4, ICMP, 765.0, 0\\n98423, 1234, 1, 2, TCP, 0.0, 1\\n72284, 987643, 7, 6, UDP, 123.0, 0\\n54582, 89743, 3, 1, ICMP, 0.0, 1\\n109283, 987643, 6, 4, TCP, 0.0, 0\\n94582, 89743, 6, 4, ICMP, 765.0, 1\\n81247, 63987, 2, 9, TCP, 0.0, 0\\n15235, 609872, 4, 8, UDP, 987.0, 1\\n1345, 987647, 9, 4, ICMP, 765.0, 0\\n98423, 1234, 1, 2, TCP, 0.0, 1\\n72284, 987643, 7, 6, UDP, 123.0, 0\\n54582, 89743, 3, 1, ICMP, 0.0, 1\\n109283, 987643, 6, 4, TCP, 0.0, 0\\n94582, 89743, 6, 4, ICMP, 765.0, 1\\n81247, 63987, 2, 9, TCP, 0.0, 0\\n15235, 609872, 4, 8, UDP, 987.0, 1\\n1345, 987647, 9, 4, ICMP, 765.0, 0\\n98423, 1234, 1, 2, TCP, 0.0, 1\\n72284, 987643, 7, 6, UDP, 123.0, 0\\n54582, 89743, 3, 1, ICMP, 0.0, 1\\n109283, 987643, 6, 4, TCP, 0.0, 0\\n73582, 89743, 6, 4, ICMP, 765.0, 1\\n81247, 63987, 2, 9, TCP, 0.0, 0\\n15235, 609872, 4, 8, UDP, 987.0, 1\\n1345, 987647, 9, 4, ICMP, 765.0, 0\\n98423, 1234, 1, 2, TCP, 0.0, 1\\n72284, 987643, 7, 6, UDP, 123.0, 0\\n54582, 89743, 3, 1, ICMP, 0.0, 1\\n109283, 987643, 6, 4, TCP, 0.0, 0\\n73582, 89743, 6, 4, ICMP, 765.0, 1\\n81247, 63987, 2, 9, TCP, 0.0, 0\\n15235, 609872, 4, 8, UDP, 987.0, 1\\n1345, 987647, 9, 4, ICMP, 765.0, 0\\n98423, 1234, 1, 2, TCP, 0.0, 1\\n72284, 987643, 7, 6, UDP, 123.0, 0\\n54582, 89743, 3, 1, ICMP, 0.0, 1\\n109283, 987643, 6, 4, TCP, 0.0, 0\\n94582, 89743, 6, 4, ICMP, 765.0, 1\\n81247, 63987, 2, 9, TCP, 0.0, 0\\n15235, 609872, 4, 8, UDP, 987.0, 1\\n1345, 987647, 9, 4, ICMP, 765.0, 0\\n98423, 1234, 1, 2, TCP, 0.0, 1\\n72284, 987643, 7, 6, UDP, 123.0, 0\\n54582, 89743, 3, 1, ICMP, 0.0, 1\\n109283, 987643, 6, 4, TCP, 0.0, 0\\n73582, 89743, 6, 4, ICMP, 765.0, 1\\n81247, 63987, 2, 9, TCP, 0.0, 0\\n15235, 609872, 4, 8, UDP, 987.0, 1\\n1345, 987647, 9, 4, ICMP, 765.0, 0\\n98423, 1234, 1, 2, TCP, 0.0, 1\\n72284, 987643, 7, 6, UDP, 123.0, 0\\n54582, 89743, 3, 1, ICMP, 0.0, 1\\n109283, 987643, 6, 4, TCP, 0.0, 0\\n106284, 110747928, 349, 5, ICMP, 2356.0, 1\\n2854, 188400, 8, 3, TCP, 0.0, 1\\n6439, 88325, 5, 9, UDP, 567.0, 0\\n2483, 479085, 8, 7, ICMP, 890.0, 1\\n81247, 63987, 2, 5, TCP, 0.0, 0\\n15235, 609872, 4, 8, UDP, 987.0, 0\\n1345, 987647, 9, 4, ICMP, 765.0, 1\\n98423, 1234, 1, 2, TCP, 0.0, 1\\n72284, 987643, 7, 6, UDP, 123.0, 1\\n54582, 89743, 3, 1, ICMP, 0.0, 0\\n109283, 987643, 6, 4, TCP, 0.0, 0\\n94582, 89743, 6, 4, ICMP, 765.0, 1\\n81247, 63987, 2, 9, TCP, 0.0, 0\\n15235, 609872, 4, 8, UDP, 987.0, 1\\n1345, 987647, 9, 4, ICMP, 765.0, 0\\n98423, 1234, 1, 2, TCP, 0.0, 1\\n72284, 987643, 7, 6, UDP, 123.0, 0\\n54582, 89743, 3, 1, ICMP, 0.0, 1\\n109283, 987643, 6, 4, TCP, 0.0, 0\\n94582, 89743, 6, 4, ICMP, 765.0, 1\\n81247, 63987, 2, 9, TCP, 0.0, 0\\n15235, 609872, 4, 8, UDP, 987.0, 1\\n1345, 987647, 9, 4, ICMP, 765.0, 0\\n98423, 1234, 1, 2, TCP, 0.0, 1\\n72284, 987643, 7, 6, UDP, 123.0, 0\\n54582, 89743, 3, 1, ICMP, 0.0, 1\\n109283, 987643, 6, 4, TCP, 0.0, 0\\n73582, 89743, 6, 4, ICMP, 765.0, 1\\n81247, 63987, 2, 9, TCP, 0.0, 0\\n15235, 609872, 4, 8, UDP, 987.0, 1\\n1345, 987647, 9, 4, ICMP, 765.0, 0\\n98423, 1234, 1, 2, TCP, 0.0, 1\\n72284, 987643, 7, 6, UDP, 123.0, 0\\n54582, 89743, 3, 1, ICMP, 0.0, 1\\n109283, 987643, 6, 4, TCP, 0.0, 0\\n73582, 89743, 6, 4, ICMP, 765.0, 1\\n81247, 63987, 2, 9, TCP, 0.0, 0\\n15235, 609872, 4, 8, UDP, 987.0, 1\\n1345, 987647, 9, 4, ICMP, 765.0, 0\\n98423, 1234, 1, 2, TCP, 0.0, 1\\n72284, 987643, 7, 6, UDP, 123.0, 0\\n54582, 89743, 3, 1, ICMP, 0.0, 1\\n109283, 987643, 6, 4, TCP, 0.0, 0\\n94582, 89743, 6, 4, ICMP, 765'"
      ]
     },
     "execution_count": 13,
     "metadata": {},
     "output_type": "execute_result"
    }
   ],
   "source": [
    "chatGPT_Response(\"Generate a 10000 rows of synthetic data from the given data in triple quotes '''106284, 110747928, 349, 5, ICMP, 2356.0, 1 2854, 188400, 8, 3, TCP, 0.0, 1 '''\")"
   ]
  },
  {
   "cell_type": "code",
   "execution_count": null,
   "metadata": {
    "colab": {
     "base_uri": "https://localhost:8080/",
     "height": 174
    },
    "id": "Gu9lpKutJOnE",
    "outputId": "50086495-985b-4f59-d420-237ac744a482"
   },
   "outputs": [
    {
     "name": "stdout",
     "output_type": "stream",
     "text": [
      "input and output tokens  85 572\n"
     ]
    },
    {
     "data": {
      "application/vnd.google.colaboratory.intrinsic+json": {
       "type": "string"
      },
      "text/plain": [
       "'pktcount,bytecount,dur,flows,Protocol,tot_kbps,label\\n54320,50491258,105,4,UDP,0.0,0\\n25987,1529698,49,3,TCP,144,1\\n50400,55487400,110,5,UDP,0.0,0\\n38721,2039598,59,4,TCP,178,1\\n45304,48294064,100,3,UDP,0.0,0\\n27987,1339698,44,3,TCP,122,1\\n30400,35487400,90,4,UDP,0.0,0\\n48721,3039598,69,5,TCP,208,1\\n55304,58294064,105,3,UDP,0.0,0\\n29987,1739698,54,3,TCP,132,1\\n60400,65487400,120,4,UDP,0.0,0\\n58721,4039598,79,5,TCP,238,1\\n65304,68294064,110,3,UDP,0.0,0\\n39987,2139698,59,3,TCP,152,1\\n70400,75487400,130,4,UDP,0.0,0\\n68721,5039598,89,5,TCP,268,1\\n75304,78294064,115,3,UDP,0.0,0\\n49987,2539698,64,3,TCP,172,1\\n80400,85487400,140,4,UDP,0.0,0\\n78721,6039598,99,5,TCP,298,1\\n85304,88294064,120,3,UDP,0.0,0\\n59987,2939698,69,3,TCP,192,1\\n90400,95487400,150,4,UDP,0.0,0\\n88721,7039598,109,5,TCP,328,1\\n95304,98294064,125,3,UDP,0.0,0\\n69987,3339698,74,3,TCP,212,1\\n100400,104487400,160,4,UDP,0.0,0\\n98721,8039598,119,5,TCP,358,1'"
      ]
     },
     "execution_count": 14,
     "metadata": {},
     "output_type": "execute_result"
    }
   ],
   "source": [
    "chatGPT_Response(\"\"\"Generate a 10000 rows of synthetic data from the below given data in triple quotes\n",
    "            '''pktcount,bytecount,dur,flows,Protocol,tot_kbps,label\\n\n",
    "                45304,48294064,100,3,UDP,0.0,0\\n\n",
    "                31937,1724598,54,3,TCP,131,1'''\"\"\")"
   ]
  },
  {
   "cell_type": "markdown",
   "metadata": {
    "id": "qLsAzaLuItGE"
   },
   "source": [
    "### Make Random examples\n",
    "\n",
    "Below Function takes original dataframe and number of columns to create random set of examples as a string to embed in input to GPT"
   ]
  },
  {
   "cell_type": "code",
   "execution_count": null,
   "metadata": {
    "colab": {
     "base_uri": "https://localhost:8080/",
     "height": 801
    },
    "id": "C2fuY3V9FSaE",
    "outputId": "a2234585-3523-4a3e-eaba-49a6831db12e"
   },
   "outputs": [
    {
     "data": {
      "text/html": [
       "\n",
       "  <div id=\"df-aa092d7a-d2ce-4894-ad54-e15726bdfac0\">\n",
       "    <div class=\"colab-df-container\">\n",
       "      <div>\n",
       "<style scoped>\n",
       "    .dataframe tbody tr th:only-of-type {\n",
       "        vertical-align: middle;\n",
       "    }\n",
       "\n",
       "    .dataframe tbody tr th {\n",
       "        vertical-align: top;\n",
       "    }\n",
       "\n",
       "    .dataframe thead th {\n",
       "        text-align: right;\n",
       "    }\n",
       "</style>\n",
       "<table border=\"1\" class=\"dataframe\">\n",
       "  <thead>\n",
       "    <tr style=\"text-align: right;\">\n",
       "      <th></th>\n",
       "      <th></th>\n",
       "      <th>dt</th>\n",
       "      <th>switch</th>\n",
       "      <th>src</th>\n",
       "      <th>dst</th>\n",
       "      <th>pktcount</th>\n",
       "      <th>bytecount</th>\n",
       "      <th>dur</th>\n",
       "      <th>dur_nsec</th>\n",
       "      <th>tot_dur</th>\n",
       "      <th>flows</th>\n",
       "      <th>...</th>\n",
       "      <th>pktrate</th>\n",
       "      <th>Pairflow</th>\n",
       "      <th>Protocol</th>\n",
       "      <th>port_no</th>\n",
       "      <th>tx_bytes</th>\n",
       "      <th>rx_bytes</th>\n",
       "      <th>tx_kbps</th>\n",
       "      <th>rx_kbps</th>\n",
       "      <th>tot_kbps</th>\n",
       "      <th>label</th>\n",
       "    </tr>\n",
       "    <tr>\n",
       "      <th>label</th>\n",
       "      <th></th>\n",
       "      <th></th>\n",
       "      <th></th>\n",
       "      <th></th>\n",
       "      <th></th>\n",
       "      <th></th>\n",
       "      <th></th>\n",
       "      <th></th>\n",
       "      <th></th>\n",
       "      <th></th>\n",
       "      <th></th>\n",
       "      <th></th>\n",
       "      <th></th>\n",
       "      <th></th>\n",
       "      <th></th>\n",
       "      <th></th>\n",
       "      <th></th>\n",
       "      <th></th>\n",
       "      <th></th>\n",
       "      <th></th>\n",
       "      <th></th>\n",
       "      <th></th>\n",
       "    </tr>\n",
       "  </thead>\n",
       "  <tbody>\n",
       "    <tr>\n",
       "      <th rowspan=\"10\" valign=\"top\">0</th>\n",
       "      <th>67175</th>\n",
       "      <td>30462</td>\n",
       "      <td>2</td>\n",
       "      <td>10.0.0.7</td>\n",
       "      <td>10.0.0.4</td>\n",
       "      <td>9</td>\n",
       "      <td>882</td>\n",
       "      <td>9</td>\n",
       "      <td>729000000</td>\n",
       "      <td>9.729000e+09</td>\n",
       "      <td>7</td>\n",
       "      <td>...</td>\n",
       "      <td>0</td>\n",
       "      <td>1</td>\n",
       "      <td>ICMP</td>\n",
       "      <td>4</td>\n",
       "      <td>135801355</td>\n",
       "      <td>271248061</td>\n",
       "      <td>1</td>\n",
       "      <td>1.0</td>\n",
       "      <td>2.0</td>\n",
       "      <td>0</td>\n",
       "    </tr>\n",
       "    <tr>\n",
       "      <th>48908</th>\n",
       "      <td>27528</td>\n",
       "      <td>4</td>\n",
       "      <td>10.0.0.7</td>\n",
       "      <td>10.0.0.6</td>\n",
       "      <td>107</td>\n",
       "      <td>10486</td>\n",
       "      <td>111</td>\n",
       "      <td>104000000</td>\n",
       "      <td>1.110000e+11</td>\n",
       "      <td>15</td>\n",
       "      <td>...</td>\n",
       "      <td>0</td>\n",
       "      <td>1</td>\n",
       "      <td>ICMP</td>\n",
       "      <td>3</td>\n",
       "      <td>13893118</td>\n",
       "      <td>151017094</td>\n",
       "      <td>1973</td>\n",
       "      <td>1973.0</td>\n",
       "      <td>3946.0</td>\n",
       "      <td>0</td>\n",
       "    </tr>\n",
       "    <tr>\n",
       "      <th>53370</th>\n",
       "      <td>28578</td>\n",
       "      <td>3</td>\n",
       "      <td>10.0.0.5</td>\n",
       "      <td>10.0.0.7</td>\n",
       "      <td>283</td>\n",
       "      <td>27734</td>\n",
       "      <td>290</td>\n",
       "      <td>985000000</td>\n",
       "      <td>2.910000e+11</td>\n",
       "      <td>7</td>\n",
       "      <td>...</td>\n",
       "      <td>0</td>\n",
       "      <td>1</td>\n",
       "      <td>ICMP</td>\n",
       "      <td>1</td>\n",
       "      <td>34185</td>\n",
       "      <td>29942</td>\n",
       "      <td>0</td>\n",
       "      <td>0.0</td>\n",
       "      <td>0.0</td>\n",
       "      <td>0</td>\n",
       "    </tr>\n",
       "    <tr>\n",
       "      <th>76783</th>\n",
       "      <td>41975</td>\n",
       "      <td>5</td>\n",
       "      <td>10.0.0.12</td>\n",
       "      <td>10.0.0.5</td>\n",
       "      <td>47801</td>\n",
       "      <td>54410762</td>\n",
       "      <td>111</td>\n",
       "      <td>335000000</td>\n",
       "      <td>1.110000e+11</td>\n",
       "      <td>5</td>\n",
       "      <td>...</td>\n",
       "      <td>447</td>\n",
       "      <td>1</td>\n",
       "      <td>TCP</td>\n",
       "      <td>2</td>\n",
       "      <td>5484</td>\n",
       "      <td>1312</td>\n",
       "      <td>0</td>\n",
       "      <td>0.0</td>\n",
       "      <td>0.0</td>\n",
       "      <td>0</td>\n",
       "    </tr>\n",
       "    <tr>\n",
       "      <th>88152</th>\n",
       "      <td>30801</td>\n",
       "      <td>3</td>\n",
       "      <td>10.0.0.5</td>\n",
       "      <td>10.0.0.10</td>\n",
       "      <td>638</td>\n",
       "      <td>62524</td>\n",
       "      <td>653</td>\n",
       "      <td>201000000</td>\n",
       "      <td>6.530000e+11</td>\n",
       "      <td>6</td>\n",
       "      <td>...</td>\n",
       "      <td>0</td>\n",
       "      <td>1</td>\n",
       "      <td>ICMP</td>\n",
       "      <td>3</td>\n",
       "      <td>133895763</td>\n",
       "      <td>266871383</td>\n",
       "      <td>0</td>\n",
       "      <td>2276.0</td>\n",
       "      <td>2276.0</td>\n",
       "      <td>0</td>\n",
       "    </tr>\n",
       "    <tr>\n",
       "      <th>90482</th>\n",
       "      <td>24900</td>\n",
       "      <td>5</td>\n",
       "      <td>10.0.0.2</td>\n",
       "      <td>10.0.0.8</td>\n",
       "      <td>451</td>\n",
       "      <td>44198</td>\n",
       "      <td>463</td>\n",
       "      <td>204000000</td>\n",
       "      <td>4.630000e+11</td>\n",
       "      <td>11</td>\n",
       "      <td>...</td>\n",
       "      <td>0</td>\n",
       "      <td>1</td>\n",
       "      <td>ICMP</td>\n",
       "      <td>2</td>\n",
       "      <td>103823076</td>\n",
       "      <td>105548544</td>\n",
       "      <td>2403</td>\n",
       "      <td>2403.0</td>\n",
       "      <td>4806.0</td>\n",
       "      <td>0</td>\n",
       "    </tr>\n",
       "    <tr>\n",
       "      <th>26811</th>\n",
       "      <td>3939</td>\n",
       "      <td>4</td>\n",
       "      <td>10.0.0.8</td>\n",
       "      <td>10.0.0.5</td>\n",
       "      <td>52540</td>\n",
       "      <td>56007640</td>\n",
       "      <td>116</td>\n",
       "      <td>687000000</td>\n",
       "      <td>1.170000e+11</td>\n",
       "      <td>3</td>\n",
       "      <td>...</td>\n",
       "      <td>447</td>\n",
       "      <td>0</td>\n",
       "      <td>UDP</td>\n",
       "      <td>2</td>\n",
       "      <td>756525361</td>\n",
       "      <td>6119</td>\n",
       "      <td>3839</td>\n",
       "      <td>0.0</td>\n",
       "      <td>3839.0</td>\n",
       "      <td>0</td>\n",
       "    </tr>\n",
       "    <tr>\n",
       "      <th>94466</th>\n",
       "      <td>30411</td>\n",
       "      <td>8</td>\n",
       "      <td>10.0.0.8</td>\n",
       "      <td>10.0.0.12</td>\n",
       "      <td>908</td>\n",
       "      <td>88984</td>\n",
       "      <td>933</td>\n",
       "      <td>272000000</td>\n",
       "      <td>9.330000e+11</td>\n",
       "      <td>5</td>\n",
       "      <td>...</td>\n",
       "      <td>0</td>\n",
       "      <td>1</td>\n",
       "      <td>ICMP</td>\n",
       "      <td>4</td>\n",
       "      <td>30951000</td>\n",
       "      <td>4746</td>\n",
       "      <td>2322</td>\n",
       "      <td>0.0</td>\n",
       "      <td>2322.0</td>\n",
       "      <td>0</td>\n",
       "    </tr>\n",
       "    <tr>\n",
       "      <th>11036</th>\n",
       "      <td>9816</td>\n",
       "      <td>4</td>\n",
       "      <td>10.0.0.12</td>\n",
       "      <td>10.0.0.7</td>\n",
       "      <td>59724</td>\n",
       "      <td>63665784</td>\n",
       "      <td>131</td>\n",
       "      <td>861000000</td>\n",
       "      <td>1.320000e+11</td>\n",
       "      <td>4</td>\n",
       "      <td>...</td>\n",
       "      <td>451</td>\n",
       "      <td>0</td>\n",
       "      <td>UDP</td>\n",
       "      <td>4</td>\n",
       "      <td>3320</td>\n",
       "      <td>3022</td>\n",
       "      <td>0</td>\n",
       "      <td>0.0</td>\n",
       "      <td>0.0</td>\n",
       "      <td>0</td>\n",
       "    </tr>\n",
       "    <tr>\n",
       "      <th>7395</th>\n",
       "      <td>9876</td>\n",
       "      <td>3</td>\n",
       "      <td>10.0.0.3</td>\n",
       "      <td>10.0.0.7</td>\n",
       "      <td>64410</td>\n",
       "      <td>68661060</td>\n",
       "      <td>142</td>\n",
       "      <td>89000000</td>\n",
       "      <td>1.420000e+11</td>\n",
       "      <td>3</td>\n",
       "      <td>...</td>\n",
       "      <td>450</td>\n",
       "      <td>0</td>\n",
       "      <td>UDP</td>\n",
       "      <td>4</td>\n",
       "      <td>3362</td>\n",
       "      <td>3236</td>\n",
       "      <td>0</td>\n",
       "      <td>0.0</td>\n",
       "      <td>0.0</td>\n",
       "      <td>0</td>\n",
       "    </tr>\n",
       "    <tr>\n",
       "      <th rowspan=\"10\" valign=\"top\">1</th>\n",
       "      <th>77314</th>\n",
       "      <td>42095</td>\n",
       "      <td>7</td>\n",
       "      <td>10.0.0.16</td>\n",
       "      <td>10.0.0.5</td>\n",
       "      <td>19847</td>\n",
       "      <td>1071738</td>\n",
       "      <td>67</td>\n",
       "      <td>925000000</td>\n",
       "      <td>6.792500e+10</td>\n",
       "      <td>3</td>\n",
       "      <td>...</td>\n",
       "      <td>285</td>\n",
       "      <td>1</td>\n",
       "      <td>TCP</td>\n",
       "      <td>2</td>\n",
       "      <td>7545436</td>\n",
       "      <td>7012510</td>\n",
       "      <td>0</td>\n",
       "      <td>0.0</td>\n",
       "      <td>0.0</td>\n",
       "      <td>1</td>\n",
       "    </tr>\n",
       "    <tr>\n",
       "      <th>12307</th>\n",
       "      <td>9906</td>\n",
       "      <td>4</td>\n",
       "      <td>10.0.0.10</td>\n",
       "      <td>10.0.0.7</td>\n",
       "      <td>7247</td>\n",
       "      <td>7551374</td>\n",
       "      <td>23</td>\n",
       "      <td>327000000</td>\n",
       "      <td>2.332700e+10</td>\n",
       "      <td>6</td>\n",
       "      <td>...</td>\n",
       "      <td>0</td>\n",
       "      <td>0</td>\n",
       "      <td>UDP</td>\n",
       "      <td>3</td>\n",
       "      <td>3446</td>\n",
       "      <td>35265576</td>\n",
       "      <td>0</td>\n",
       "      <td>3840.0</td>\n",
       "      <td>3840.0</td>\n",
       "      <td>1</td>\n",
       "    </tr>\n",
       "    <tr>\n",
       "      <th>89706</th>\n",
       "      <td>30501</td>\n",
       "      <td>4</td>\n",
       "      <td>10.0.0.13</td>\n",
       "      <td>10.0.0.10</td>\n",
       "      <td>41914</td>\n",
       "      <td>43674388</td>\n",
       "      <td>152</td>\n",
       "      <td>748000000</td>\n",
       "      <td>1.530000e+11</td>\n",
       "      <td>9</td>\n",
       "      <td>...</td>\n",
       "      <td>298</td>\n",
       "      <td>1</td>\n",
       "      <td>ICMP</td>\n",
       "      <td>3</td>\n",
       "      <td>236865343</td>\n",
       "      <td>133896155</td>\n",
       "      <td>4975</td>\n",
       "      <td>2.0</td>\n",
       "      <td>4977.0</td>\n",
       "      <td>1</td>\n",
       "    </tr>\n",
       "    <tr>\n",
       "      <th>22085</th>\n",
       "      <td>2919</td>\n",
       "      <td>2</td>\n",
       "      <td>10.0.0.4</td>\n",
       "      <td>10.0.0.3</td>\n",
       "      <td>108149</td>\n",
       "      <td>112691258</td>\n",
       "      <td>387</td>\n",
       "      <td>472000000</td>\n",
       "      <td>3.870000e+11</td>\n",
       "      <td>3</td>\n",
       "      <td>...</td>\n",
       "      <td>278</td>\n",
       "      <td>0</td>\n",
       "      <td>UDP</td>\n",
       "      <td>2</td>\n",
       "      <td>4123</td>\n",
       "      <td>1312</td>\n",
       "      <td>0</td>\n",
       "      <td>0.0</td>\n",
       "      <td>0.0</td>\n",
       "      <td>1</td>\n",
       "    </tr>\n",
       "    <tr>\n",
       "      <th>32244</th>\n",
       "      <td>2919</td>\n",
       "      <td>7</td>\n",
       "      <td>10.0.0.10</td>\n",
       "      <td>10.0.0.3</td>\n",
       "      <td>122940</td>\n",
       "      <td>128103480</td>\n",
       "      <td>437</td>\n",
       "      <td>524000000</td>\n",
       "      <td>4.380000e+11</td>\n",
       "      <td>2</td>\n",
       "      <td>...</td>\n",
       "      <td>277</td>\n",
       "      <td>0</td>\n",
       "      <td>UDP</td>\n",
       "      <td>2</td>\n",
       "      <td>4053</td>\n",
       "      <td>1242</td>\n",
       "      <td>0</td>\n",
       "      <td>0.0</td>\n",
       "      <td>0.0</td>\n",
       "      <td>1</td>\n",
       "    </tr>\n",
       "    <tr>\n",
       "      <th>15138</th>\n",
       "      <td>10176</td>\n",
       "      <td>4</td>\n",
       "      <td>10.0.0.10</td>\n",
       "      <td>10.0.0.7</td>\n",
       "      <td>91459</td>\n",
       "      <td>95300278</td>\n",
       "      <td>293</td>\n",
       "      <td>350000000</td>\n",
       "      <td>2.930000e+11</td>\n",
       "      <td>3</td>\n",
       "      <td>...</td>\n",
       "      <td>310</td>\n",
       "      <td>0</td>\n",
       "      <td>UDP</td>\n",
       "      <td>3</td>\n",
       "      <td>3199</td>\n",
       "      <td>3539</td>\n",
       "      <td>0</td>\n",
       "      <td>0.0</td>\n",
       "      <td>0.0</td>\n",
       "      <td>1</td>\n",
       "    </tr>\n",
       "    <tr>\n",
       "      <th>5902</th>\n",
       "      <td>11515</td>\n",
       "      <td>3</td>\n",
       "      <td>10.0.0.10</td>\n",
       "      <td>10.0.0.8</td>\n",
       "      <td>43326</td>\n",
       "      <td>45145692</td>\n",
       "      <td>140</td>\n",
       "      <td>490000000</td>\n",
       "      <td>1.400000e+11</td>\n",
       "      <td>5</td>\n",
       "      <td>...</td>\n",
       "      <td>303</td>\n",
       "      <td>0</td>\n",
       "      <td>UDP</td>\n",
       "      <td>2</td>\n",
       "      <td>3795</td>\n",
       "      <td>1402</td>\n",
       "      <td>0</td>\n",
       "      <td>0.0</td>\n",
       "      <td>0.0</td>\n",
       "      <td>1</td>\n",
       "    </tr>\n",
       "    <tr>\n",
       "      <th>15759</th>\n",
       "      <td>10056</td>\n",
       "      <td>4</td>\n",
       "      <td>10.0.0.18</td>\n",
       "      <td>10.0.0.7</td>\n",
       "      <td>85575</td>\n",
       "      <td>89169150</td>\n",
       "      <td>273</td>\n",
       "      <td>432000000</td>\n",
       "      <td>2.730000e+11</td>\n",
       "      <td>5</td>\n",
       "      <td>...</td>\n",
       "      <td>307</td>\n",
       "      <td>0</td>\n",
       "      <td>UDP</td>\n",
       "      <td>2</td>\n",
       "      <td>3413</td>\n",
       "      <td>3539</td>\n",
       "      <td>0</td>\n",
       "      <td>0.0</td>\n",
       "      <td>0.0</td>\n",
       "      <td>1</td>\n",
       "    </tr>\n",
       "    <tr>\n",
       "      <th>74875</th>\n",
       "      <td>41133</td>\n",
       "      <td>8</td>\n",
       "      <td>10.0.0.3</td>\n",
       "      <td>10.0.0.15</td>\n",
       "      <td>8914</td>\n",
       "      <td>517012</td>\n",
       "      <td>27</td>\n",
       "      <td>816000000</td>\n",
       "      <td>2.781600e+10</td>\n",
       "      <td>3</td>\n",
       "      <td>...</td>\n",
       "      <td>288</td>\n",
       "      <td>1</td>\n",
       "      <td>TCP</td>\n",
       "      <td>2</td>\n",
       "      <td>4612</td>\n",
       "      <td>1242</td>\n",
       "      <td>0</td>\n",
       "      <td>0.0</td>\n",
       "      <td>0.0</td>\n",
       "      <td>1</td>\n",
       "    </tr>\n",
       "    <tr>\n",
       "      <th>97987</th>\n",
       "      <td>6192</td>\n",
       "      <td>5</td>\n",
       "      <td>10.0.0.14</td>\n",
       "      <td>10.0.0.9</td>\n",
       "      <td>41433</td>\n",
       "      <td>43173186</td>\n",
       "      <td>139</td>\n",
       "      <td>537000000</td>\n",
       "      <td>1.400000e+11</td>\n",
       "      <td>13</td>\n",
       "      <td>...</td>\n",
       "      <td>301</td>\n",
       "      <td>1</td>\n",
       "      <td>ICMP</td>\n",
       "      <td>4</td>\n",
       "      <td>28801366</td>\n",
       "      <td>208044682</td>\n",
       "      <td>2505</td>\n",
       "      <td>5010.0</td>\n",
       "      <td>7515.0</td>\n",
       "      <td>1</td>\n",
       "    </tr>\n",
       "  </tbody>\n",
       "</table>\n",
       "<p>20 rows × 23 columns</p>\n",
       "</div>\n",
       "      <button class=\"colab-df-convert\" onclick=\"convertToInteractive('df-aa092d7a-d2ce-4894-ad54-e15726bdfac0')\"\n",
       "              title=\"Convert this dataframe to an interactive table.\"\n",
       "              style=\"display:none;\">\n",
       "        \n",
       "  <svg xmlns=\"http://www.w3.org/2000/svg\" height=\"24px\"viewBox=\"0 0 24 24\"\n",
       "       width=\"24px\">\n",
       "    <path d=\"M0 0h24v24H0V0z\" fill=\"none\"/>\n",
       "    <path d=\"M18.56 5.44l.94 2.06.94-2.06 2.06-.94-2.06-.94-.94-2.06-.94 2.06-2.06.94zm-11 1L8.5 8.5l.94-2.06 2.06-.94-2.06-.94L8.5 2.5l-.94 2.06-2.06.94zm10 10l.94 2.06.94-2.06 2.06-.94-2.06-.94-.94-2.06-.94 2.06-2.06.94z\"/><path d=\"M17.41 7.96l-1.37-1.37c-.4-.4-.92-.59-1.43-.59-.52 0-1.04.2-1.43.59L10.3 9.45l-7.72 7.72c-.78.78-.78 2.05 0 2.83L4 21.41c.39.39.9.59 1.41.59.51 0 1.02-.2 1.41-.59l7.78-7.78 2.81-2.81c.8-.78.8-2.07 0-2.86zM5.41 20L4 18.59l7.72-7.72 1.47 1.35L5.41 20z\"/>\n",
       "  </svg>\n",
       "      </button>\n",
       "      \n",
       "  <style>\n",
       "    .colab-df-container {\n",
       "      display:flex;\n",
       "      flex-wrap:wrap;\n",
       "      gap: 12px;\n",
       "    }\n",
       "\n",
       "    .colab-df-convert {\n",
       "      background-color: #E8F0FE;\n",
       "      border: none;\n",
       "      border-radius: 50%;\n",
       "      cursor: pointer;\n",
       "      display: none;\n",
       "      fill: #1967D2;\n",
       "      height: 32px;\n",
       "      padding: 0 0 0 0;\n",
       "      width: 32px;\n",
       "    }\n",
       "\n",
       "    .colab-df-convert:hover {\n",
       "      background-color: #E2EBFA;\n",
       "      box-shadow: 0px 1px 2px rgba(60, 64, 67, 0.3), 0px 1px 3px 1px rgba(60, 64, 67, 0.15);\n",
       "      fill: #174EA6;\n",
       "    }\n",
       "\n",
       "    [theme=dark] .colab-df-convert {\n",
       "      background-color: #3B4455;\n",
       "      fill: #D2E3FC;\n",
       "    }\n",
       "\n",
       "    [theme=dark] .colab-df-convert:hover {\n",
       "      background-color: #434B5C;\n",
       "      box-shadow: 0px 1px 3px 1px rgba(0, 0, 0, 0.15);\n",
       "      filter: drop-shadow(0px 1px 2px rgba(0, 0, 0, 0.3));\n",
       "      fill: #FFFFFF;\n",
       "    }\n",
       "  </style>\n",
       "\n",
       "      <script>\n",
       "        const buttonEl =\n",
       "          document.querySelector('#df-aa092d7a-d2ce-4894-ad54-e15726bdfac0 button.colab-df-convert');\n",
       "        buttonEl.style.display =\n",
       "          google.colab.kernel.accessAllowed ? 'block' : 'none';\n",
       "\n",
       "        async function convertToInteractive(key) {\n",
       "          const element = document.querySelector('#df-aa092d7a-d2ce-4894-ad54-e15726bdfac0');\n",
       "          const dataTable =\n",
       "            await google.colab.kernel.invokeFunction('convertToInteractive',\n",
       "                                                     [key], {});\n",
       "          if (!dataTable) return;\n",
       "\n",
       "          const docLinkHtml = 'Like what you see? Visit the ' +\n",
       "            '<a target=\"_blank\" href=https://colab.research.google.com/notebooks/data_table.ipynb>data table notebook</a>'\n",
       "            + ' to learn more about interactive tables.';\n",
       "          element.innerHTML = '';\n",
       "          dataTable['output_type'] = 'display_data';\n",
       "          await google.colab.output.renderOutput(dataTable, element);\n",
       "          const docLink = document.createElement('div');\n",
       "          docLink.innerHTML = docLinkHtml;\n",
       "          element.appendChild(docLink);\n",
       "        }\n",
       "      </script>\n",
       "    </div>\n",
       "  </div>\n",
       "  "
      ],
      "text/plain": [
       "                dt  switch        src        dst  pktcount  bytecount  dur  \\\n",
       "label                                                                        \n",
       "0     67175  30462       2   10.0.0.7   10.0.0.4         9        882    9   \n",
       "      48908  27528       4   10.0.0.7   10.0.0.6       107      10486  111   \n",
       "      53370  28578       3   10.0.0.5   10.0.0.7       283      27734  290   \n",
       "      76783  41975       5  10.0.0.12   10.0.0.5     47801   54410762  111   \n",
       "      88152  30801       3   10.0.0.5  10.0.0.10       638      62524  653   \n",
       "      90482  24900       5   10.0.0.2   10.0.0.8       451      44198  463   \n",
       "      26811   3939       4   10.0.0.8   10.0.0.5     52540   56007640  116   \n",
       "      94466  30411       8   10.0.0.8  10.0.0.12       908      88984  933   \n",
       "      11036   9816       4  10.0.0.12   10.0.0.7     59724   63665784  131   \n",
       "      7395    9876       3   10.0.0.3   10.0.0.7     64410   68661060  142   \n",
       "1     77314  42095       7  10.0.0.16   10.0.0.5     19847    1071738   67   \n",
       "      12307   9906       4  10.0.0.10   10.0.0.7      7247    7551374   23   \n",
       "      89706  30501       4  10.0.0.13  10.0.0.10     41914   43674388  152   \n",
       "      22085   2919       2   10.0.0.4   10.0.0.3    108149  112691258  387   \n",
       "      32244   2919       7  10.0.0.10   10.0.0.3    122940  128103480  437   \n",
       "      15138  10176       4  10.0.0.10   10.0.0.7     91459   95300278  293   \n",
       "      5902   11515       3  10.0.0.10   10.0.0.8     43326   45145692  140   \n",
       "      15759  10056       4  10.0.0.18   10.0.0.7     85575   89169150  273   \n",
       "      74875  41133       8   10.0.0.3  10.0.0.15      8914     517012   27   \n",
       "      97987   6192       5  10.0.0.14   10.0.0.9     41433   43173186  139   \n",
       "\n",
       "              dur_nsec       tot_dur  flows  ...  pktrate  Pairflow  Protocol  \\\n",
       "label                                        ...                                \n",
       "0     67175  729000000  9.729000e+09      7  ...        0         1      ICMP   \n",
       "      48908  104000000  1.110000e+11     15  ...        0         1      ICMP   \n",
       "      53370  985000000  2.910000e+11      7  ...        0         1      ICMP   \n",
       "      76783  335000000  1.110000e+11      5  ...      447         1       TCP   \n",
       "      88152  201000000  6.530000e+11      6  ...        0         1      ICMP   \n",
       "      90482  204000000  4.630000e+11     11  ...        0         1      ICMP   \n",
       "      26811  687000000  1.170000e+11      3  ...      447         0       UDP   \n",
       "      94466  272000000  9.330000e+11      5  ...        0         1      ICMP   \n",
       "      11036  861000000  1.320000e+11      4  ...      451         0       UDP   \n",
       "      7395    89000000  1.420000e+11      3  ...      450         0       UDP   \n",
       "1     77314  925000000  6.792500e+10      3  ...      285         1       TCP   \n",
       "      12307  327000000  2.332700e+10      6  ...        0         0       UDP   \n",
       "      89706  748000000  1.530000e+11      9  ...      298         1      ICMP   \n",
       "      22085  472000000  3.870000e+11      3  ...      278         0       UDP   \n",
       "      32244  524000000  4.380000e+11      2  ...      277         0       UDP   \n",
       "      15138  350000000  2.930000e+11      3  ...      310         0       UDP   \n",
       "      5902   490000000  1.400000e+11      5  ...      303         0       UDP   \n",
       "      15759  432000000  2.730000e+11      5  ...      307         0       UDP   \n",
       "      74875  816000000  2.781600e+10      3  ...      288         1       TCP   \n",
       "      97987  537000000  1.400000e+11     13  ...      301         1      ICMP   \n",
       "\n",
       "             port_no   tx_bytes   rx_bytes  tx_kbps  rx_kbps  tot_kbps  label  \n",
       "label                                                                          \n",
       "0     67175        4  135801355  271248061        1      1.0       2.0      0  \n",
       "      48908        3   13893118  151017094     1973   1973.0    3946.0      0  \n",
       "      53370        1      34185      29942        0      0.0       0.0      0  \n",
       "      76783        2       5484       1312        0      0.0       0.0      0  \n",
       "      88152        3  133895763  266871383        0   2276.0    2276.0      0  \n",
       "      90482        2  103823076  105548544     2403   2403.0    4806.0      0  \n",
       "      26811        2  756525361       6119     3839      0.0    3839.0      0  \n",
       "      94466        4   30951000       4746     2322      0.0    2322.0      0  \n",
       "      11036        4       3320       3022        0      0.0       0.0      0  \n",
       "      7395         4       3362       3236        0      0.0       0.0      0  \n",
       "1     77314        2    7545436    7012510        0      0.0       0.0      1  \n",
       "      12307        3       3446   35265576        0   3840.0    3840.0      1  \n",
       "      89706        3  236865343  133896155     4975      2.0    4977.0      1  \n",
       "      22085        2       4123       1312        0      0.0       0.0      1  \n",
       "      32244        2       4053       1242        0      0.0       0.0      1  \n",
       "      15138        3       3199       3539        0      0.0       0.0      1  \n",
       "      5902         2       3795       1402        0      0.0       0.0      1  \n",
       "      15759        2       3413       3539        0      0.0       0.0      1  \n",
       "      74875        2       4612       1242        0      0.0       0.0      1  \n",
       "      97987        4   28801366  208044682     2505   5010.0    7515.0      1  \n",
       "\n",
       "[20 rows x 23 columns]"
      ]
     },
     "execution_count": 15,
     "metadata": {},
     "output_type": "execute_result"
    }
   ],
   "source": [
    "orig_df.groupby('label').apply(lambda x: x.sample(n=10))"
   ]
  },
  {
   "cell_type": "code",
   "execution_count": null,
   "metadata": {
    "id": "gmJ8l8lDIXSW"
   },
   "outputs": [],
   "source": [
    "def makeRandomExample(df,cols,nrows):\n",
    "  subsetDf = df[cols]\n",
    "  ex1 = \"\"\n",
    "  col_line = \", \".join(cols)+\"\\n\"\n",
    "  for row in subsetDf.groupby('label').apply(lambda x: x.sample(n=nrows//2)).values:\n",
    "    # print(i)\n",
    "    combined = \", \".join([str(i) for i in row])\n",
    "    # combined = \",\".join(str(i))\n",
    "    print(combined)\n",
    "    ex1 += combined+\" \\n\"\n",
    "  return ex1"
   ]
  },
  {
   "cell_type": "code",
   "execution_count": null,
   "metadata": {
    "colab": {
     "base_uri": "https://localhost:8080/",
     "height": 278
    },
    "id": "zVpEMgNNLM-5",
    "outputId": "c2797631-e1c6-4d2d-e1fc-403fceb4525f"
   },
   "outputs": [
    {
     "name": "stdout",
     "output_type": "stream",
     "text": [
      "889, 87122, 911, 3, ICMP, 0.0, 0\n",
      "47771, 2579634, 82, 7, TCP, 4706.0, 1\n",
      "889, 87122, 911, 3, ICMP, 0.0, 0 \n",
      "47771, 2579634, 82, 7, TCP, 4706.0, 1 \n",
      "\n",
      "input and output tokens  59 3100\n"
     ]
    },
    {
     "data": {
      "application/vnd.google.colaboratory.intrinsic+json": {
       "type": "string"
      },
      "text/plain": [
       "'89, 82389, 911, 3, ICMP, 0.2, 0\\n47771, 2569112, 82, 7, TCP, 4706.2, 1\\n21968, 1230894, 745, 4, ICMP, 0.1, 0\\n87831, 6231427, 889, 8, TCP, 4706.4, 1\\n17076, 8091137, 657, 5, ICMP, 0.3, 0\\n83619, 6952323, 895, 9, TCP, 4706.6, 1\\n81294, 7046858, 945, 6, ICMP, 0.4, 0\\n91442, 6837941, 843, 3, TCP, 4706.8, 1\\n91362, 6098276, 848, 7, ICMP, 0.5, 0\\n73919, 7151455, 811, 4, TCP, 4707.0, 1\\n52715, 6431875, 902, 8, ICMP, 0.6, 0\\n93677, 6125981, 756, 5, TCP, 4707.2, 1\\n81671, 5897702, 982, 9, ICMP, 0.7, 0\\n62419, 2585012, 893, 6, TCP, 4707.4, 1\\n44954, 5171289, 778, 3, ICMP, 0.8, 0\\n68197, 7082445, 932, 7, TCP, 4707.6, 1\\n93656, 7453790, 745, 8, ICMP, 0.9, 0\\n81868, 7077116, 901, 9, TCP, 4707.8, 1\\n49552, 4882567, 851, 6, ICMP, 0.1, 0\\n92897, 6391910, 985, 3, TCP, 4708.0, 1\\n87903, 6228863, 896, 7, ICMP, 0.2, 0\\n81676, 8121651, 745, 4, TCP, 4708.2, 1\\n66149, 5481927, 803, 8, ICMP, 0.3, 0\\n80321, 2464666, 854, 9, TCP, 4708.4, 1\\n71767, 5144764, 945, 6, ICMP, 0.4, 0\\n71762, 7141614, 816, 3, TCP, 4708.6, 1\\n81619, 5459047, 897, 7, ICMP, 0.5, 0\\n96599, 5834605, 791, 4, TCP, 4708.8, 1\\n76654, 7661087, 834, 8, ICMP, 0.6, 0\\n92482, 6079281, 776, 9, TCP, 4709.0, 1\\n86538, 5772511, 890, 6, ICMP, 0.7, 0\\n71775, 6097714, 811, 3, TCP, 4709.2, 1\\n97689, 6181093, 877, 7, ICMP, 0.8, 0\\n88399, 6077115, 934, 8, TCP, 4709.4, 1\\n93654, 6350132, 817, 9, ICMP, 0.9, 0\\n73928, 7907945, 851, 6, TCP, 4709.6, 1\\n71771, 7241894, 805, 3, ICMP, 0.1, 0\\n89821, 7094275, 902, 7, TCP, 4709.8, 1\\n91467, 2529800, 889, 8, ICMP, 0.2, 0\\n91470, 7452854, 945, 4, TCP, 4710.0, 1\\n81831, 6951794, 745, 8, ICMP, 0.3, 0\\n81681, 6079286, 893, 9, TCP, 4710.2, 1\\n81843, 6125987, 982, 6, ICMP, 0.4, 0\\n92481, 5171294, 811, 3, TCP, 4710.4, 1\\n89841, 6431880, 834, 7, ICMP, 0.5, 0\\n83612, 5897707, 890, 8, TCP, 4710.6, 1\\n81843, 6098281, 945, 9, ICMP, 0.6, 0\\n89843, 6350137, 816, 6, TCP, 4710.8, 1\\n81841, 7046863, 877, 3, ICMP, 0.7, 0\\n89843, 7151460, 851, 7, TCP, 4711.0, 1\\n91462, 4882572, 805, 8, ICMP, 0.8, 0\\n83611, 6231432, 902, 9, TCP, 4711.2, 1\\n93654, 7661092, 889, 6, ICMP, 0.9, 0\\n89841, 5772516, 945, 3, TCP, 4711.4, 1\\n83619, 6952328, 745, 7, ICMP, 0.1, 0\\n71768, 6077120, 893, 8, TCP, 4711.6, 1\\n89841, 2529805, 982, 9, ICMP, 0.2, 0\\n91462, 5451952, 811, 6, TCP, 4711.8, 1\\n83619, 6125986, 834, 3, ICMP, 0.3, 0\\n89843, 6391915, 890, 7, TCP, 4712.0, 1\\n93654, 5481932, 945, 8, ICMP, 0.4, 0\\n81841, 7094280, 745, 9, TCP, 4712.2, 1\\n81843, 7241899, 877, 6, ICMP, 0.5, 0\\n89841, 5171299, 851, 3, TCP, 4712.4, 1\\n91462, 7907950, 805, 7, ICMP, 0.6, 0\\n83611, 6350137, 902, 8, TCP, 4712.6, 1\\n89843, 6952333, 889, 9, ICMP, 0.7, 0\\n71768, 6431885, 945, 6, TCP, 4712.8, 1\\n93654, 7453795, 745, 3, ICMP, 0.8, 0\\n81841, 6098286, 893, 7, TCP, 4713.0, 1\\n89841, 7141619, 982, 8, ICMP, 0.9, 0\\n83619, 6228868, 811, 9, TCP, 4713.2, 1\\n81843, 6077125, 834, 6, ICMP, 0.1, 0\\n91462, 6231437, 890, 3, TCP, 4713.4, 1\\n89841, 6125991, 945, 7, ICMP, 0.2, 0\\n71768, 7077121, 745, 8, TCP, 4713.6, 1\\n93654, 4882577, 877, 9, ICMP, 0.3, 0\\n81841, 6951799, 851, 6, TCP, 4713.8, 1\\n89843, 5897712, 805, 3, ICMP, 0.4, 0\\n83611, 7453800, 902, 7, TCP, 4714.0, 1\\n91462, 5772521, 889, 8, ICMP, 0.5, 0\\n81843, 6350142, 945, 9, TCP, 4714.2, 1\\n89841, 7082450, 745, 6, ICMP, 0.6, 0\\n71768, 2529810, 893, 3, TCP, 4714.4, 1\\n93654, 6077126, 982, 7, ICMP, 0.7, 0\\n81841, 7661097, 811, 8, TCP, 4714.6, 1\\n89843, 6098291, 834, 9, ICMP, 0.8, 0\\n83619, 5144769, 890, 6, TCP, 4714.8, 1\\n91462, 6391920, 945, 3, ICMP, 0.9, 0\\n71768, 7241904, 745, 7, TCP, 4715.0, 1\\n93654, 5451957, 877, 8, ICMP, 0.1, 0\\n81841, 6231442, 851, 9, TCP, 4715.2, 1\\n89843, 6077131, 805, 6, ICMP, 0.2, 0\\n83611, 6125996, 902, 3, TCP, 4715.4, 1\\n91462, 7094285, 889, 7, ICMP, 0.3, 0\\n89841, 6951704, 945, 8, TCP, 4715.6, 1\\n81843, 7151465, 745, 9, ICMP, 0.4, 0\\n71768, 4882582, 893, 6, TCP, 4715.8, 1\\n93654, 6350147, 982, 3, ICMP, 0.5, 0\\n81841, 6228873, 811, 7, TCP, 4716.0, 1\\n89843, 5897717, 834, 8, ICMP, 0.6, 0\\n83619, 6077136, 890, 9, TCP, 4716.2, 1\\n91462, 6098296, 945, 6, ICMP, 0.7, 0\\n71768, 7077126, 745, 3, TCP, 4716.4, 1\\n93654, 7907955, 877, 7, ICMP, 0.8, 0\\n81841, 6431890, 851, 8, TCP, 4716.6, 1\\n89843, 7661102, 805, 9, ICMP, 0.9, 0\\n83611, 5772526, 902, 6, TCP, 4716.8, 1\\n91462, 6951804, 889, 3, ICMP, 0.1, 0\\n89841, 6126001, 945, 7, TCP, 4717.0, 1\\n81843, 5481937, 745, 8, ICMP, 0.2, 0\\n71768, 2529815, 893, 9, TCP, 4717.2, 1\\n93654, 6231447, 982, 6, ICMP, 0.3, 0\\n81841, 6077141, 811, 3, TCP, 4717.4, 1\\n89843, 6391925, 834, 7, ICMP, 0.4, 0\\n83619, 5171304, 890, 8, TCP, 4717.6, 1\\n91462, 7241909, 945, 9, ICMP, 0.5, 0\\n71768, 6951809, 745, 6, TCP, 4717.8, 1\\n93654, 4882587, 877, 3, ICMP, 0.6, 0\\n81841, 6350152, 851, 7, TCP, 4718.0, 1\\n89843, 7453805, 805, 8, ICMP, 0.7, 0\\n83611, 6098301, 902, 9, TCP, 4718.2, 1\\n91462, 6228878, 889, 6, ICMP, 0.8, 0\\n89841, 7141624, 945, 3, TCP, 4718.4, 1\\n81843, 6077146, 745, 7, ICMP, 0.9, 0\\n71768, 5897722, 893, 8, TCP, 4718.6, 1\\n93654, 7094290, 982, 9, ICMP, 0.1, 0\\n81841, 7077131, 811, 6, TCP, 4718.8, 1\\n89843, 6951814, 834, 3, ICMP, 0.2, 0\\n83619, 5451962, 890, 7, TCP, 4719.0, 1\\n91462, 6126006, 945, 8, ICMP, 0.3, 0\\n71768, 6231452, 745, 9, TCP, 4719.2, 1\\n93654, 6098306, 877, 6, ICMP, 0.4, 0\\n81841, 6350157, 851, 3, TCP, 4719.4, 1\\n89843, 7661107, 805, 7, ICMP, 0.5, 0\\n83611, 5772531, 902, 8, TCP, 4719'"
      ]
     },
     "execution_count": 17,
     "metadata": {},
     "output_type": "execute_result"
    }
   ],
   "source": [
    "RandomExample = makeRandomExample(orig_df,['pktcount','bytecount','dur','flows','Protocol','tot_kbps','label'],2)\n",
    "print(RandomExample)\n",
    "chatGPT_Response(\"Generate a 10000 rows of synthetic data from the given data in triple quotes '''\"+RandomExample+\"'''\")"
   ]
  },
  {
   "cell_type": "markdown",
   "metadata": {
    "id": "SCsreflhJa4P"
   },
   "source": [
    "### Iterative response of GPT\n",
    "\n",
    "Below Function to iterate the input to GPT, get response and write into a file.\n"
   ]
  },
  {
   "cell_type": "code",
   "execution_count": null,
   "metadata": {
    "id": "jv3lk0PWPuYR"
   },
   "outputs": [],
   "source": [
    "# iterate the prompt and store result\n",
    "def syntheticGenerationUsingGPT(df,cols,no_of_rows_Ex,max_iter,file_to_save):\n",
    "  col_line = \", \".join(cols)\n",
    "  whole_res = col_line+\"\\n\"\n",
    "  WholeRandomExample = \"\"\n",
    "  for i in range(max_iter):\n",
    "    RandomExample = makeRandomExample(orig_df,cols,no_of_rows_Ex)\n",
    "    prompt2 = \"Generate a 10000 rows of random synthetic data from the data given in triple quotes '''\"+RandomExample+\"'''\"\n",
    "    print(prompt2)\n",
    "    res = chatGPT_Response(prompt2)\n",
    "    whole_res += res+\"\\n\"\n",
    "    WholeRandomExample += RandomExample+\"\\n\"\n",
    "  with open(file_to_save, 'w') as f:\n",
    "      f.write(whole_res)\n",
    "  with open(\"examplesTaken.txt\",'w') as r:\n",
    "      r.write(WholeRandomExample)\n",
    "  return None"
   ]
  },
  {
   "cell_type": "markdown",
   "metadata": {
    "id": "6PVHYIOfoOeD"
   },
   "source": [
    "#### Representative of data\n",
    "\n",
    "- 25000 data points of class - 0\n",
    "- 25000 data points of class - 1\n",
    "- select 10 rows from class 0\n",
    "- select 10 rows from class 1"
   ]
  },
  {
   "cell_type": "code",
   "execution_count": null,
   "metadata": {
    "id": "arB5uSEaoNix"
   },
   "outputs": [],
   "source": [
    "import random\n",
    "def distribution(df):\n",
    "  class_0 = df[df.label == 0]\n",
    "  class_1 = df[df.label == 1]\n",
    "  class0_indices = random.sample(range(len(class_0)), 10)\n",
    "  class1_indices = random.sample(range(len(class_1)), 10)\n",
    "  class0Df = class_0.iloc[class0_indices]\n",
    "  class1Df = class_1.iloc[class1_indices]\n",
    "  all_rows = \"\"\n",
    "  for i,row in c0.iterrows():\n",
    "    all_rows += \",\".join([str(i) for i in row.values])+\"\\n\"\n",
    "  for i,row in c1.iterrows():\n",
    "    all_rows += \",\".join([str(i) for i in row.values])+\"\\n\"\n",
    "  return all_rows"
   ]
  },
  {
   "cell_type": "code",
   "execution_count": null,
   "metadata": {
    "colab": {
     "base_uri": "https://localhost:8080/",
     "height": 174
    },
    "id": "akufsY1Hpxma",
    "outputId": "f2b6be43-7ab7-4e35-802b-6332a1a8d974"
   },
   "outputs": [
    {
     "data": {
      "application/vnd.google.colaboratory.intrinsic+json": {
       "type": "string"
      },
      "text/plain": [
       "'31011,3,10.0.0.6,10.0.0.10,139,13622,142,900000000,143000000000.0,9,4942,29,2842,0,1,ICMP,1,90703,135546040,0,0.0,0.0,0\\n3399,3,10.0.0.2,10.0.0.5,110954,118276964,245,261000000,245000000000.0,5,7916,13532,14425112,451,0,UDP,2,5142,262720012,0,3838.0,3838.0,0\\n31221,6,10.0.0.6,10.0.0.10,344,33712,352,879000000,353000000000.0,7,4942,29,2842,0,1,ICMP,1,105836,101398,0,0.0,0.0,0\\n2578,7,10.0.0.11,10.0.0.3,39325,41920450,87,250000000,87250000000.0,2,1814,13529,14421914,450,0,UDP,2,3584,17999558,0,3838.0,3838.0,0\\n31101,7,10.0.0.10,10.0.0.3,835,81830,853,127000000,853000000000.0,11,4942,30,2940,1,1,ICMP,3,135784401,406356359,3,3.0,6.0,0\\n27287,7,10.0.0.7,10.0.0.12,635,62230,651,113000000,651000000000.0,3,948,29,2842,0,1,ICMP,4,68474,135528348,0,0.0,0.0,0\\n33933,2,10.0.0.2,10.0.0.5,740,72520,758,378000000,758000000000.0,3,3034,30,2940,1,1,ICMP,4,270286645,270958819,0,0.0,0.0,0\\n5982,4,10.0.0.11,10.0.0.5,734,71932,751,907000000,752000000000.0,9,1278,29,2842,0,0,ICMP,1,5016,1562,0,0.0,0.0,0\\n3279,4,10.0.0.9,10.0.0.5,79407,84647862,174,516000000,175000000000.0,4,7916,13491,14381406,449,0,UDP,3,496653074,5144,10239,0.0,10239.0,0\\n31753,7,10.0.0.14,10.0.0.1,91023,4915242,306,900000000,307000000000.0,5,18351,7828,422712,260,1,TCP,4,16045693,153080559,241,225.0,466.0,0\\n3219,3,10.0.0.3,10.0.0.5,5269,5490298,16,364000000,16364000000.0,5,7894,0,0,0,0,UDP,4,4934,363123228,0,5395.0,5395.0,1\\n9966,6,10.0.0.18,10.0.0.7,57508,59923336,183,466000000,183000000000.0,3,1931,9456,9853152,315,0,UDP,3,196046295,3791,6459,0.0,6459.0,1\\n3549,7,10.0.0.3,10.0.0.5,103763,108121046,347,526000000,348000000000.0,2,7916,8196,8540232,273,0,UDP,3,276816961,143930035,0,0.0,0.0,1\\n2649,4,10.0.0.11,10.0.0.3,108745,115922170,263,631000000,264000000000.0,3,2385,2369,2525354,78,0,UDP,4,3833,168355535,0,2759.0,2759.0,1\\n26957,5,10.0.0.2,10.0.0.7,64030,66719260,221,52000000,221000000000.0,4,948,9095,9476990,303,1,ICMP,3,35931,66828005,0,2522.0,2522.0,1\\n30492,3,10.0.0.1,10.0.0.7,131643,135621014,1490,197000000,1490000000000.0,9,2059,29,2842,0,1,ICMP,2,89647,135545718,0,0.0,0.0,1\\n3429,4,10.0.0.9,10.0.0.5,134645,143531570,324,531000000,325000000000.0,3,7916,1118,1191788,37,0,UDP,3,638026834,5466,2790,0.0,2790.0,1\\n10749,7,10.0.0.13,10.0.0.3,87241,4711014,143,910000000,144000000000.0,5,4357,18328,989712,610,1,TCP,2,124652161,7796911,4187,315.0,4502.0,1\\n24840,5,10.0.0.4,10.0.0.8,83434,86938228,297,618000000,298000000000.0,11,2997,8631,8993502,287,1,ICMP,1,188916507,186839306,4786,4786.0,9572.0,1\\n28098,3,10.0.0.1,10.0.0.7,131469,135603962,1311,394000000,1310000000000.0,7,2790,29,2842,0,1,ICMP,4,271296887,271295265,2,2.0,4.0,1\\n'"
      ]
     },
     "execution_count": 41,
     "metadata": {},
     "output_type": "execute_result"
    }
   ],
   "source": [
    "distribution(orig_df)"
   ]
  },
  {
   "cell_type": "code",
   "execution_count": null,
   "metadata": {
    "id": "7PrJq-NaUDQr"
   },
   "outputs": [],
   "source": [
    "c0"
   ]
  },
  {
   "cell_type": "code",
   "execution_count": null,
   "metadata": {
    "id": "VxKcyV_AJJ8F"
   },
   "outputs": [],
   "source": [
    "x = c0.to_string(header=False,\n",
    "                  index=False,\n",
    "                  index_names=False).split('\\n')\n",
    "x"
   ]
  },
  {
   "cell_type": "code",
   "execution_count": null,
   "metadata": {
    "id": "AkguvW7bUcBW"
   },
   "outputs": [],
   "source": [
    "for i in x:\n",
    "  print(i.split(\" \"))"
   ]
  },
  {
   "cell_type": "code",
   "execution_count": null,
   "metadata": {
    "id": "91EC9uTAVc8T"
   },
   "outputs": [],
   "source": [
    "c0.columns"
   ]
  },
  {
   "cell_type": "code",
   "execution_count": null,
   "metadata": {
    "id": "TRNTiHAdG3Ve"
   },
   "outputs": [],
   "source": []
  },
  {
   "cell_type": "code",
   "execution_count": null,
   "metadata": {
    "id": "MKkdtVbxq3cr"
   },
   "outputs": [],
   "source": [
    "index,pktcount,bytecount,dur,flows,Protocol,tot_kbps,label\n",
    "67967,917,89866,939,7,ICMP,2.0,0\n",
    "44631,42432,2291328,135,7,TCP,0.0,0\n",
    "43673,57767,63395158,130,11,TCP,0.0,0\n",
    "102459,352,34496,361,5,ICMP,2.0,0\n",
    "103296,694,68012,711,5,ICMP,2.0,0\n",
    "4090,44980,46869160,143,4,UDP,0.0,1\n",
    "36469,190018,10260972,324,5,TCP,110.0,1\n",
    "54209,35625,37121250,101,5,ICMP,5734.0,1\n",
    "14985,44971,46859782,143,5,UDP,0.0,1\n",
    "71300,125746,6790284,430,5,TCP,0.0,1"
   ]
  },
  {
   "cell_type": "code",
   "execution_count": null,
   "metadata": {
    "id": "cjj1lMAuqIX1"
   },
   "outputs": [],
   "source": [
    "cols = ['pktcount','bytecount','dur','flows','Protocol','tot_kbps','label']\n",
    "for row in c0[cols].values:\n",
    "  print(row)"
   ]
  },
  {
   "cell_type": "code",
   "execution_count": null,
   "metadata": {
    "colab": {
     "base_uri": "https://localhost:8080/"
    },
    "id": "rLMpMnF4aOSw",
    "outputId": "7f81313e-939a-4fd3-f4e5-6ec7bdbdb414"
   },
   "outputs": [
    {
     "name": "stdout",
     "output_type": "stream",
     "text": [
      "857, 83986, 878, 7, ICMP, 4.0, 0\n",
      "88081, 5813586, 270, 4, TCP, 4098.0, 0\n",
      "878, 86044, 912, 3, ICMP, 0.0, 0\n",
      "313, 30674, 321, 4, ICMP, 0.0, 0\n",
      "112853, 120301298, 250, 2, UDP, 0.0, 0\n",
      "14495, 15103790, 50, 14, ICMP, 2582.0, 1\n",
      "131044, 135562312, 950, 15, ICMP, 10136.0, 1\n",
      "123290, 128468180, 440, 2, UDP, 0.0, 1\n",
      "107621, 5811534, 174, 9, TCP, 4228.0, 1\n",
      "24211, 1404238, 80, 9, TCP, 0.0, 1\n",
      "Generate a 10000 rows of random synthetic data from the data given in triple quotes '''857, 83986, 878, 7, ICMP, 4.0, 0 \n",
      "88081, 5813586, 270, 4, TCP, 4098.0, 0 \n",
      "878, 86044, 912, 3, ICMP, 0.0, 0 \n",
      "313, 30674, 321, 4, ICMP, 0.0, 0 \n",
      "112853, 120301298, 250, 2, UDP, 0.0, 0 \n",
      "14495, 15103790, 50, 14, ICMP, 2582.0, 1 \n",
      "131044, 135562312, 950, 15, ICMP, 10136.0, 1 \n",
      "123290, 128468180, 440, 2, UDP, 0.0, 1 \n",
      "107621, 5811534, 174, 9, TCP, 4228.0, 1 \n",
      "24211, 1404238, 80, 9, TCP, 0.0, 1 \n",
      "'''\n",
      "input and output tokens  236 674\n"
     ]
    }
   ],
   "source": [
    "cols = ['pktcount','bytecount','dur','flows','Protocol','tot_kbps','label']\n",
    "syntheticGenerationUsingGPT(df = orig_df,\n",
    "                            cols = cols,\n",
    "                            no_of_rows_Ex = 10,\n",
    "                            max_iter = 1,\n",
    "                            file_to_save = \"SyntheticGenerated5.txt\")"
   ]
  },
  {
   "cell_type": "code",
   "execution_count": null,
   "metadata": {
    "id": "FlFnIKJrTXys"
   },
   "outputs": [],
   "source": [
    "dfgen = pd.read_csv(\"/content/SyntheticGenerated5.txt\",sep=\",\")\n",
    "dfgen"
   ]
  },
  {
   "cell_type": "code",
   "execution_count": null,
   "metadata": {
    "colab": {
     "base_uri": "https://localhost:8080/",
     "height": 311
    },
    "id": "6lA_P0jPaE7e",
    "outputId": "b91e2fb4-dd96-46f8-a631-134efcdf5ac5"
   },
   "outputs": [
    {
     "data": {
      "text/html": [
       "\n",
       "  <div id=\"df-31052b90-77f1-4c36-8fe2-7590140f1d9f\">\n",
       "    <div class=\"colab-df-container\">\n",
       "      <div>\n",
       "<style scoped>\n",
       "    .dataframe tbody tr th:only-of-type {\n",
       "        vertical-align: middle;\n",
       "    }\n",
       "\n",
       "    .dataframe tbody tr th {\n",
       "        vertical-align: top;\n",
       "    }\n",
       "\n",
       "    .dataframe thead th {\n",
       "        text-align: right;\n",
       "    }\n",
       "</style>\n",
       "<table border=\"1\" class=\"dataframe\">\n",
       "  <thead>\n",
       "    <tr style=\"text-align: right;\">\n",
       "      <th></th>\n",
       "      <th>pktcount</th>\n",
       "      <th>bytecount</th>\n",
       "      <th>dur</th>\n",
       "      <th>flows</th>\n",
       "      <th>tot_kbps</th>\n",
       "      <th>label</th>\n",
       "    </tr>\n",
       "  </thead>\n",
       "  <tbody>\n",
       "    <tr>\n",
       "      <th>count</th>\n",
       "      <td>104345.000000</td>\n",
       "      <td>1.043450e+05</td>\n",
       "      <td>104345.000000</td>\n",
       "      <td>104345.000000</td>\n",
       "      <td>103839.000000</td>\n",
       "      <td>104345.000000</td>\n",
       "    </tr>\n",
       "    <tr>\n",
       "      <th>mean</th>\n",
       "      <td>52860.954746</td>\n",
       "      <td>3.818660e+07</td>\n",
       "      <td>321.497398</td>\n",
       "      <td>5.654234</td>\n",
       "      <td>2007.578742</td>\n",
       "      <td>0.390857</td>\n",
       "    </tr>\n",
       "    <tr>\n",
       "      <th>std</th>\n",
       "      <td>52023.241460</td>\n",
       "      <td>4.877748e+07</td>\n",
       "      <td>283.518232</td>\n",
       "      <td>2.950036</td>\n",
       "      <td>3144.437173</td>\n",
       "      <td>0.487945</td>\n",
       "    </tr>\n",
       "    <tr>\n",
       "      <th>min</th>\n",
       "      <td>0.000000</td>\n",
       "      <td>0.000000e+00</td>\n",
       "      <td>0.000000</td>\n",
       "      <td>2.000000</td>\n",
       "      <td>0.000000</td>\n",
       "      <td>0.000000</td>\n",
       "    </tr>\n",
       "    <tr>\n",
       "      <th>25%</th>\n",
       "      <td>808.000000</td>\n",
       "      <td>7.957600e+04</td>\n",
       "      <td>127.000000</td>\n",
       "      <td>3.000000</td>\n",
       "      <td>0.000000</td>\n",
       "      <td>0.000000</td>\n",
       "    </tr>\n",
       "    <tr>\n",
       "      <th>50%</th>\n",
       "      <td>42828.000000</td>\n",
       "      <td>6.471930e+06</td>\n",
       "      <td>251.000000</td>\n",
       "      <td>5.000000</td>\n",
       "      <td>4.000000</td>\n",
       "      <td>0.000000</td>\n",
       "    </tr>\n",
       "    <tr>\n",
       "      <th>75%</th>\n",
       "      <td>94796.000000</td>\n",
       "      <td>7.620354e+07</td>\n",
       "      <td>412.000000</td>\n",
       "      <td>7.000000</td>\n",
       "      <td>3838.000000</td>\n",
       "      <td>1.000000</td>\n",
       "    </tr>\n",
       "    <tr>\n",
       "      <th>max</th>\n",
       "      <td>260006.000000</td>\n",
       "      <td>1.471280e+08</td>\n",
       "      <td>1881.000000</td>\n",
       "      <td>17.000000</td>\n",
       "      <td>20580.000000</td>\n",
       "      <td>1.000000</td>\n",
       "    </tr>\n",
       "  </tbody>\n",
       "</table>\n",
       "</div>\n",
       "      <button class=\"colab-df-convert\" onclick=\"convertToInteractive('df-31052b90-77f1-4c36-8fe2-7590140f1d9f')\"\n",
       "              title=\"Convert this dataframe to an interactive table.\"\n",
       "              style=\"display:none;\">\n",
       "        \n",
       "  <svg xmlns=\"http://www.w3.org/2000/svg\" height=\"24px\"viewBox=\"0 0 24 24\"\n",
       "       width=\"24px\">\n",
       "    <path d=\"M0 0h24v24H0V0z\" fill=\"none\"/>\n",
       "    <path d=\"M18.56 5.44l.94 2.06.94-2.06 2.06-.94-2.06-.94-.94-2.06-.94 2.06-2.06.94zm-11 1L8.5 8.5l.94-2.06 2.06-.94-2.06-.94L8.5 2.5l-.94 2.06-2.06.94zm10 10l.94 2.06.94-2.06 2.06-.94-2.06-.94-.94-2.06-.94 2.06-2.06.94z\"/><path d=\"M17.41 7.96l-1.37-1.37c-.4-.4-.92-.59-1.43-.59-.52 0-1.04.2-1.43.59L10.3 9.45l-7.72 7.72c-.78.78-.78 2.05 0 2.83L4 21.41c.39.39.9.59 1.41.59.51 0 1.02-.2 1.41-.59l7.78-7.78 2.81-2.81c.8-.78.8-2.07 0-2.86zM5.41 20L4 18.59l7.72-7.72 1.47 1.35L5.41 20z\"/>\n",
       "  </svg>\n",
       "      </button>\n",
       "      \n",
       "  <style>\n",
       "    .colab-df-container {\n",
       "      display:flex;\n",
       "      flex-wrap:wrap;\n",
       "      gap: 12px;\n",
       "    }\n",
       "\n",
       "    .colab-df-convert {\n",
       "      background-color: #E8F0FE;\n",
       "      border: none;\n",
       "      border-radius: 50%;\n",
       "      cursor: pointer;\n",
       "      display: none;\n",
       "      fill: #1967D2;\n",
       "      height: 32px;\n",
       "      padding: 0 0 0 0;\n",
       "      width: 32px;\n",
       "    }\n",
       "\n",
       "    .colab-df-convert:hover {\n",
       "      background-color: #E2EBFA;\n",
       "      box-shadow: 0px 1px 2px rgba(60, 64, 67, 0.3), 0px 1px 3px 1px rgba(60, 64, 67, 0.15);\n",
       "      fill: #174EA6;\n",
       "    }\n",
       "\n",
       "    [theme=dark] .colab-df-convert {\n",
       "      background-color: #3B4455;\n",
       "      fill: #D2E3FC;\n",
       "    }\n",
       "\n",
       "    [theme=dark] .colab-df-convert:hover {\n",
       "      background-color: #434B5C;\n",
       "      box-shadow: 0px 1px 3px 1px rgba(0, 0, 0, 0.15);\n",
       "      filter: drop-shadow(0px 1px 2px rgba(0, 0, 0, 0.3));\n",
       "      fill: #FFFFFF;\n",
       "    }\n",
       "  </style>\n",
       "\n",
       "      <script>\n",
       "        const buttonEl =\n",
       "          document.querySelector('#df-31052b90-77f1-4c36-8fe2-7590140f1d9f button.colab-df-convert');\n",
       "        buttonEl.style.display =\n",
       "          google.colab.kernel.accessAllowed ? 'block' : 'none';\n",
       "\n",
       "        async function convertToInteractive(key) {\n",
       "          const element = document.querySelector('#df-31052b90-77f1-4c36-8fe2-7590140f1d9f');\n",
       "          const dataTable =\n",
       "            await google.colab.kernel.invokeFunction('convertToInteractive',\n",
       "                                                     [key], {});\n",
       "          if (!dataTable) return;\n",
       "\n",
       "          const docLinkHtml = 'Like what you see? Visit the ' +\n",
       "            '<a target=\"_blank\" href=https://colab.research.google.com/notebooks/data_table.ipynb>data table notebook</a>'\n",
       "            + ' to learn more about interactive tables.';\n",
       "          element.innerHTML = '';\n",
       "          dataTable['output_type'] = 'display_data';\n",
       "          await google.colab.output.renderOutput(dataTable, element);\n",
       "          const docLink = document.createElement('div');\n",
       "          docLink.innerHTML = docLinkHtml;\n",
       "          element.appendChild(docLink);\n",
       "        }\n",
       "      </script>\n",
       "    </div>\n",
       "  </div>\n",
       "  "
      ],
      "text/plain": [
       "            pktcount     bytecount            dur          flows  \\\n",
       "count  104345.000000  1.043450e+05  104345.000000  104345.000000   \n",
       "mean    52860.954746  3.818660e+07     321.497398       5.654234   \n",
       "std     52023.241460  4.877748e+07     283.518232       2.950036   \n",
       "min         0.000000  0.000000e+00       0.000000       2.000000   \n",
       "25%       808.000000  7.957600e+04     127.000000       3.000000   \n",
       "50%     42828.000000  6.471930e+06     251.000000       5.000000   \n",
       "75%     94796.000000  7.620354e+07     412.000000       7.000000   \n",
       "max    260006.000000  1.471280e+08    1881.000000      17.000000   \n",
       "\n",
       "            tot_kbps          label  \n",
       "count  103839.000000  104345.000000  \n",
       "mean     2007.578742       0.390857  \n",
       "std      3144.437173       0.487945  \n",
       "min         0.000000       0.000000  \n",
       "25%         0.000000       0.000000  \n",
       "50%         4.000000       0.000000  \n",
       "75%      3838.000000       1.000000  \n",
       "max     20580.000000       1.000000  "
      ]
     },
     "execution_count": 31,
     "metadata": {},
     "output_type": "execute_result"
    }
   ],
   "source": [
    "orig_df[cols].describe()"
   ]
  },
  {
   "cell_type": "code",
   "execution_count": null,
   "metadata": {
    "id": "ODNe9Lo6spaH"
   },
   "outputs": [],
   "source": [
    "'''index,pktcount,bytecount,dur,flows,tot_kbps,label\n",
    "count,104345.0,104345.0,104345.0,104345.0,103839.0,104345.0\n",
    "mean,52860.95474627438,38186596.6435766,321.49739805453066,5.654233552158704,2007.5787420911217,0.3908572523839187\n",
    "std,52023.241459901285,48777482.4821864,283.5182322732592,2.9500364378025274,3144.4371725399496,0.48794481491435904\n",
    "min,0.0,0.0,0.0,2.0,0.0,0.0\n",
    "25%,808.0,79576.0,127.0,3.0,0.0,0.0\n",
    "50%,42828.0,6471930.0,251.0,5.0,4.0,0.0\n",
    "75%,94796.0,76203544.0,412.0,7.0,3838.0,1.0\n",
    "max,260006.0,147128002.0,1881.0,17.0,20580.0,1.0'''"
   ]
  },
  {
   "cell_type": "code",
   "execution_count": null,
   "metadata": {
    "id": "_CZdMe5LemGk"
   },
   "outputs": [],
   "source": [
    "prompt1 = \"\"\"consider the following columns in triple quotes '''pktcount,bytecount,protocol,label'''\n",
    "and consider the descriptive statistics of columns in respective order pktcount mean = 52860.954746, bytecount mean = 3.818,\n",
    "and protocol with unique values UDP and TCP. Generate a 1000 rows of random data considering the above statistical values\n",
    "for each column and distribution of protocol column values being 60% for TCP 40% for UDP\n",
    "label values including 0 and 1 distribution of class 0 to be 60% and  class1 as 40%\"\"\"\n",
    "res = chatGPT_Response(prompt1)\n",
    "print(res)"
   ]
  },
  {
   "cell_type": "code",
   "execution_count": null,
   "metadata": {
    "id": "EXo6vZxzJ_O-"
   },
   "outputs": [],
   "source": [
    "with open(\"dataGenerated.txt\", \"w\") as f:\n",
    "  f.write(res)"
   ]
  },
  {
   "cell_type": "code",
   "execution_count": null,
   "metadata": {
    "id": "xpoggmNFG2Jk"
   },
   "outputs": [],
   "source": [
    "dfgen = pd.read_csv(\"/content/dataGenerated.txt\",sep=',')\n",
    "dfgen"
   ]
  },
  {
   "cell_type": "code",
   "execution_count": null,
   "metadata": {
    "id": "A21zvuraHLIG"
   },
   "outputs": [],
   "source": [
    "dfgen.dtypes"
   ]
  },
  {
   "cell_type": "code",
   "execution_count": null,
   "metadata": {
    "id": "QibBsn_zQjJh"
   },
   "outputs": [],
   "source": [
    "def FindIncorrectValues(df,col,datatype):\n",
    "  incorrectVal = []\n",
    "  for i in df[col]:\n",
    "    try:\n",
    "      j = datatype(i)\n",
    "    except:\n",
    "      incorrectVal.append(i)\n",
    "  return df[df[col].isin(incorrectVal)]\n",
    "FindIncorrectValues(dfgen,\"pktcount\",float)"
   ]
  },
  {
   "cell_type": "code",
   "execution_count": null,
   "metadata": {
    "id": "44Tt7044Q1Y3"
   },
   "outputs": [],
   "source": [
    "dfgen.drop(FindIncorrectValues(dfgen,\"pktcount\",float).index, axis=0, inplace=True)\n",
    "dfgen.pktcount = dfgen.pktcount.astype('float')"
   ]
  },
  {
   "cell_type": "markdown",
   "metadata": {
    "id": "m05qOI5xRdQP"
   },
   "source": [
    "pktcount mean = 52860.954746, bytecount mean = 3.818"
   ]
  },
  {
   "cell_type": "code",
   "execution_count": null,
   "metadata": {
    "colab": {
     "base_uri": "https://localhost:8080/"
    },
    "id": "PYd1VMW6QIj6",
    "outputId": "899e96c9-24f0-4768-e19f-87d6af9aa659"
   },
   "outputs": [
    {
     "data": {
      "text/plain": [
       "(33, 7)"
      ]
     },
     "execution_count": 120,
     "metadata": {},
     "output_type": "execute_result"
    }
   ],
   "source": [
    "dfgen.shape"
   ]
  },
  {
   "cell_type": "code",
   "execution_count": null,
   "metadata": {
    "id": "OLGnUu8pHO3N"
   },
   "outputs": [],
   "source": [
    "dfgen.describe()"
   ]
  },
  {
   "cell_type": "code",
   "execution_count": null,
   "metadata": {
    "id": "_VB1yCseS14L"
   },
   "outputs": [],
   "source": [
    "dfgen"
   ]
  },
  {
   "cell_type": "code",
   "execution_count": null,
   "metadata": {
    "id": "BeymemdYS34T"
   },
   "outputs": [],
   "source": [
    "exTaken"
   ]
  },
  {
   "cell_type": "code",
   "execution_count": null,
   "metadata": {
    "id": "7h3GqgZzPiyU"
   },
   "outputs": [],
   "source": [
    "exTaken = pd.read_csv(\"/content/examplesTaken.txt\",sep=\",\",header=None)\n",
    "exTaken.describe()"
   ]
  },
  {
   "cell_type": "code",
   "execution_count": null,
   "metadata": {
    "id": "B13ChZadQMdi"
   },
   "outputs": [],
   "source": [
    "exTaken"
   ]
  },
  {
   "cell_type": "code",
   "execution_count": null,
   "metadata": {
    "id": "GtFRTNjEmve7"
   },
   "outputs": [],
   "source": [
    "import random\n",
    "import pandas as pd\n",
    "\n",
    "pktcount = [random.randint(0,1000000) for i in range(10000)]\n",
    "bytecount = [random.randint(0,1000000) for i in range(10000)]\n",
    "dur = [random.randint(0,1000000) for i in range(10000)]\n",
    "flows = [random.randint(0,1000000) for i in range(10000)]\n",
    "Protocol = [random.choice(['ICMP','TCP','UDP']) for i in range(10000)]\n",
    "tot_kbps = [random.randint(0,1000000) for i in range(10000)]\n",
    "label = [random.randint(0,1) for i in range(10000)]\n",
    "\n",
    "df = pd.DataFrame({'pktcount':pktcount,'bytecount':bytecount,'dur':dur,'flows':flows,'Protocol':Protocol,'tot_kbps':tot_kbps,'label':label})\n",
    "df"
   ]
  },
  {
   "cell_type": "code",
   "execution_count": null,
   "metadata": {
    "colab": {
     "base_uri": "https://localhost:8080/"
    },
    "id": "MqHCFwPCm3t3",
    "outputId": "279e9970-8cb8-4dd8-8a9e-fdfe77644d40"
   },
   "outputs": [
    {
     "data": {
      "text/plain": [
       "1    5092\n",
       "0    4908\n",
       "Name: label, dtype: int64"
      ]
     },
     "execution_count": 24,
     "metadata": {},
     "output_type": "execute_result"
    }
   ],
   "source": [
    "df.label.value_counts()"
   ]
  },
  {
   "cell_type": "code",
   "execution_count": null,
   "metadata": {
    "id": "M_aPkUg0m-Hl"
   },
   "outputs": [],
   "source": [
    "df.describe()"
   ]
  },
  {
   "cell_type": "code",
   "execution_count": null,
   "metadata": {
    "id": "Q7OBmEJPnyZW"
   },
   "outputs": [],
   "source": [
    "import numpy as np\n",
    "import pandas as pd\n",
    "\n",
    "#create dataframe with column names\n",
    "df = pd.DataFrame(columns=['pktcount', 'bytecount', 'dur', 'flows', 'Protocol', 'tot_kbps', 'label'])\n",
    "\n",
    "#calculate descriptive statistics\n",
    "pktcount_mean = 52860.954746\n",
    "pktcount_std = 52023.241460\n",
    "bytecount_mean = 3.818\n",
    "bytecount_std = 4.877748e+07\n",
    "\n",
    "#generate random values for pktcount and bytecount using normal distribution\n",
    "pktcount = np.random.normal(pktcount_mean, pktcount_std, 10000)\n",
    "bytecount = np.random.normal(bytecount_mean, bytecount_std, 10000)\n",
    "\n",
    "#convert values to int\n",
    "pktcount = pktcount.astype(int)\n",
    "bytecount = bytecount.astype(int)\n",
    "\n",
    "#generate values for remaining columns\n",
    "dur = np.random.randint(low=0, high=1000, size=10000)\n",
    "flows = np.random.randint(low=0, high=20, size=10000)\n",
    "Protocol = np.random.randint(low=0, high=3, size=10000)\n",
    "tot_kbps = np.random.randint(low=0, high=10000, size=10000)\n",
    "\n",
    "#generate values for label column with class distribution 60:40\n",
    "label = np.random.randint(low=0, high=2, size=10000)\n",
    "label[label==0] = np.random.choice([0,1], size=(np.count_nonzero(label==0)), p=[0.6, 0.4])\n",
    "label[label==1] = np.random.choice([0,1], size=(np.count_nonzero(label==1)), p=[0.4, 0.6])\n",
    "\n",
    "#assign values to dataframe\n",
    "df['pktcount'] = pktcount\n",
    "df['bytecount'] = bytecount\n",
    "df['dur'] = dur\n",
    "df['flows'] = flows\n",
    "df['Protocol'] = Protocol\n",
    "df['tot_kbps'] = tot_kbps\n",
    "df['label'] = label\n",
    "\n",
    "#view dataframe\n",
    "df.head()"
   ]
  },
  {
   "cell_type": "code",
   "execution_count": null,
   "metadata": {
    "id": "fpjwnvCLtfQ0"
   },
   "outputs": [],
   "source": [
    "import pandas as pd\n",
    "import numpy as np\n",
    "\n",
    "# create dataframe\n",
    "df = pd.DataFrame(columns=['index', 'pktcount', 'bytecount', 'dur', 'flows', 'tot_kbps', 'label'])\n",
    "\n",
    "# fill values for each column\n",
    "df['index'] = np.random.randint(0, 10000, 10000)\n",
    "df['pktcount'] = np.random.randint(0, 260006, 10000)\n",
    "df['bytecount'] = np.random.randint(0, 147128002, 10000)\n",
    "df['dur'] = np.random.randint(0, 1881, 10000)\n",
    "df['flows'] = np.random.randint(2, 17, 10000)\n",
    "df['tot_kbps'] = np.random.randint(0, 20580, 10000)\n",
    "df['label'] = np.random.randint(0, 2, 10000)\n",
    "df.to_csv('synthetic_data.csv', index=False)"
   ]
  },
  {
   "cell_type": "code",
   "execution_count": null,
   "metadata": {
    "colab": {
     "base_uri": "https://localhost:8080/"
    },
    "id": "Q3X-JZTsJOpb",
    "outputId": "ea7fe2cb-7530-42ab-f6d3-f4f959818951"
   },
   "outputs": [
    {
     "data": {
      "text/plain": [
       "1    5013\n",
       "0    4987\n",
       "Name: label, dtype: int64"
      ]
     },
     "execution_count": 37,
     "metadata": {},
     "output_type": "execute_result"
    }
   ],
   "source": [
    "df.label.value_counts()"
   ]
  },
  {
   "cell_type": "markdown",
   "metadata": {
    "id": "w2gkw4MIEEC9"
   },
   "source": [
    "row, pktcount, bytecount, protocol, label\n",
    "1, 52860, 3.818, TCP, 0\n",
    "2, 52860, 3.818, TCP, 0\n",
    "3, 52860, 3.818, TCP, 0\n",
    "4, 52860, 3.818, UDP, 0\n",
    "5, 52860, 3.818, TCP, 0\n",
    "6, 52860, 3.818, UDP, 0\n",
    "7, 52860, 3.818, TCP, 0\n",
    "8, 52860, 3.818, TCP, 0\n",
    "9, 52860, 3.818, TCP, 0\n",
    "10, 52860, 3.818, UDP, 0\n",
    "11, 52860, 3.818, TCP, 1\n",
    "12, 52860, 3.818, UDP, 0\n",
    "13, 52860, 3.818, TCP, 0\n",
    "14, 52860, 3.818, TCP, 0\n",
    "15, 52860, 3.818, UDP, 1\n",
    "16, 52860, 3.818, TCP, 0\n",
    "17, 52860, 3.818, UDP, 0\n",
    "18, 52860, 3.818, TCP, 0\n",
    "19, 52860, 3.818, TCP, 0\n",
    "20, 52860, 3.818, UDP, 0\n",
    "21, 52860, 3.818, TCP, 1\n",
    "22, 52860, 3.818, UDP, 0\n",
    "23, 52860, 3.818, TCP, 0\n",
    "24, 52860, 3.818, TCP, 0\n",
    "25, 52860, 3.818, UDP, 1\n",
    "26, 52860, 3.818, TCP, 0\n",
    "27, 52860, 3.818, UDP, 0\n",
    "28, 52860, 3.818, TCP, 0\n",
    "29, 52860, 3.818, TCP, 0\n",
    "30, 52860, 3.818, UDP, 0\n",
    "31, 52860, 3.818, TCP, 1\n",
    "32, 52860, 3.818, UDP, 0\n",
    "33, 52860, 3.818, TCP, 0\n",
    "34, 52860, 3.818, TCP, 0\n",
    "35, 52860, 3.818, UDP, 1\n",
    "36, 52860, 3.818, TCP, 0\n",
    "37, 52860, 3.818, UDP, 0\n",
    "38, 52860, 3.818, TCP, 0\n",
    "39, 52860, 3.818, TCP, 0\n",
    "40, 52860, 3.818, UDP, 0\n",
    "41, 52860, 3.818, TCP, 0\n",
    "42, 52860, 3.818, UDP, 0\n",
    "43, 52860, 3.818, TCP, 1\n",
    "44, 52860, 3.818, TCP, 0\n",
    "45, 52860, 3.818, UDP, 0\n",
    "46, 52860, 3.818, TCP, 0\n",
    "47, 52860, 3.818, TCP, 0\n",
    "48, 52860, 3.818, UDP, 1\n",
    "49, 52860, 3.818, TCP, 0\n",
    "50, 52860, 3.818, UDP, 0\n",
    "51, 52860, 3.818, TCP, 0\n",
    "52, 52860, 3.818, TCP, 0\n",
    "53, 52860, 3.818, UDP, 0\n",
    "54, 52860, 3.818, TCP, 1\n",
    "55, 52860, 3.818, UDP, 0\n",
    "56, 52860, 3.818, TCP, 0\n",
    "57, 52860, 3.818, TCP, 0\n",
    "58, 52860, 3.818, UDP, 1\n",
    "59, 52860, 3.818, TCP, 0\n",
    "60, 52860, 3.818, UDP, 0\n",
    "61, 52860, 3.818, TCP, 0\n",
    "62, 52860, 3.818, TCP, 0\n",
    "63, 52860, 3.818, UDP, 0\n",
    "64, 52860, 3.818, TCP, 1\n",
    "65, 52860, 3.818, UDP, 0\n",
    "66, 52860, 3.818, TCP, 0\n",
    "67, 52860, 3.818, TCP, 0\n",
    "68, 52860, 3.818, UDP, 1\n",
    "69, 52860, 3.818, TCP, 0\n",
    "70, 52860, 3.818, UDP, 0\n",
    "71, 52860, 3.818, TCP, 0\n",
    "72, 52860, 3.818, TCP, 0\n",
    "73, 52860, 3.818, UDP, 0\n",
    "74, 52860, 3.818, TCP, 1\n",
    "75, 52860, 3.818, UDP, 0\n",
    "76, 52860, 3.818, TCP, 0\n",
    "77, 52860, 3.818, TCP, 0\n",
    "78, 52860, 3.818, UDP, 1\n",
    "79, 52860, 3.818, TCP, 0\n",
    "80, 52860, 3.818, UDP, 0\n",
    "81, 52860, 3.818, TCP, 0\n",
    "82, 52860, 3.818, TCP, 0\n",
    "83, 52860, 3.818, UDP, 0\n",
    "84, 52860, 3.818, TCP, 1\n",
    "85, 52860, 3.818, UDP, 0\n",
    "86, 52860, 3.818, TCP, 0\n",
    "87, 52860, 3.818, TCP, 0\n",
    "88, 52860, 3.818, UDP, 1\n",
    "89, 52860, 3.818, TCP, 0\n",
    "90, 52860, 3.818, UDP, 0\n",
    "91, 52860, 3.818, TCP, 0\n",
    "92, 52860, 3.818, TCP, 0\n",
    "93, 52860, 3.818, UDP, 0\n",
    "94, 52860, 3.818, TCP, 1\n",
    "95, 52860, 3.818, UDP, 0\n",
    "96, 52860, 3.818, TCP, 0\n",
    "97, 52860, 3.818, TCP, 0\n",
    "98, 52860, 3.818, UDP, 1\n",
    "99, 52860, 3.818, TCP, 0\n",
    "100, 52860, 3.818, UDP, 0\n",
    "101, 52860, 3.818, TCP, 0\n",
    "102, 52860, 3.818, TCP, 0\n",
    "103, 52860, 3.818, UDP, 0\n",
    "104, 52860, 3.818, TCP, 1\n",
    "105, 52860, 3.818, UDP, 0\n",
    "106, 52860, 3.818, TCP, 0\n",
    "107, 52860, 3.818, TCP, 0\n",
    "108, 52860, 3.818, UDP, 1\n",
    "109, 52860, 3.818, TCP, 0\n",
    "110, 52860, 3.818, UDP, 0\n",
    "111, 52860, 3.818, TCP, 0\n",
    "112, 52860, 3.818, TCP, 0\n",
    "113, 52860, 3.818, UDP, 0\n",
    "114, 52860, 3.818, TCP, 1\n",
    "115, 52860, 3.818, UDP, 0\n",
    "116, 52860, 3.818, TCP, 0\n",
    "117, 52860, 3.818, TCP, 0\n",
    "118, 52860, 3.818, UDP, 1\n",
    "119, 52860, 3.818, TCP, 0\n",
    "120, 52860, 3.818, UDP, 0\n",
    "121, 52860, 3.818, TCP, 0\n",
    "122, 52860, 3.818, TCP, 0\n",
    "123, 52860, 3.818, UDP, 0\n",
    "124, 52860, 3.818, TCP, 1\n",
    "125, 52860, 3.818, UDP, 0\n",
    "126, 52860, 3.818, TCP, 0\n",
    "127, 52860, 3.818, TCP, 0\n",
    "128, 52860, 3.818, UDP, 1\n",
    "129, 52860, 3.818, TCP, 0\n",
    "130, 52860, 3.818, UDP, 0\n",
    "131, 52860, 3.818, TCP, 0\n",
    "132, 52860, 3.818, TCP, 0\n",
    "133, 52860, 3.818, UDP, 0\n",
    "134, 52860, 3.818, TCP, 1\n",
    "135, 52860, 3.818, UDP, 0\n",
    "136, 52860, 3.818, TCP, 0\n",
    "137, 52860, 3.818, TCP, 0\n",
    "138, 52860, 3.818, UDP, 1\n",
    "139, 52860, 3.818, TCP, 0\n",
    "140, 52860, 3.818, UDP, 0\n",
    "141, 52860, 3.818, TCP, 0\n",
    "142, 52860, 3.818, TCP, 0\n",
    "143, 52860, 3.818, UDP, 0\n",
    "144, 52860, 3.818, TCP, 1\n",
    "145, 52860, 3.818, UDP, 0\n",
    "146, 52860, 3.818, TCP, 0\n",
    "147, 52860, 3.818, TCP, 0\n",
    "148, 52860, 3.818, UDP, 1\n",
    "149, 52860, 3.818, TCP, 0\n",
    "150, 52860, 3.818, UDP, 0\n",
    "151, 52860, 3.818, TCP, 0\n",
    "152, 52860, 3.818, TCP, 0\n",
    "153, 52860, 3.818, UDP, 0\n",
    "154, 52860, 3.818, TCP, 1\n",
    "155, 52860, 3.818, UDP, 0\n",
    "156, 52860, 3.818, TCP, 0\n",
    "157, 52860, 3.818, TCP, 0\n",
    "158, 52860, 3.818, UDP, 1\n",
    "159, 52860, 3.818, TCP, 0\n",
    "160, 52860, 3.818, UDP, 0\n",
    "161, 52860, 3.818, TCP, 0\n",
    "162, 52860, 3.818, TCP, 0\n",
    "163, 52860, 3.818, UDP, 0\n",
    "164, 52860, 3.818, TCP, 1\n",
    "165, 52860, 3.818, UDP, 0\n",
    "166, 52860, 3.818, TCP, 0\n",
    "167, 52860, 3.818, TCP, 0\n",
    "168, 52860, 3.818, UDP, 1\n",
    "169, 52860, 3.818, TCP, 0\n",
    "170, 52860, 3.818, UDP, 0\n",
    "171, 52860, 3.818, TCP, 0\n",
    "172, 52860, 3.818, TCP, 0\n",
    "173, 52860, 3.818, UDP, 0\n",
    "174, 52860, 3.818, TCP, 1\n",
    "175, 52860, 3.818, UDP, 0\n",
    "176, 52860, 3.818, TCP, 0\n",
    "177, 52860, 3.818, TCP, 0\n",
    "178, 52860, 3.818, UDP, 1\n",
    "179, 52860, 3.818, TCP, 0\n",
    "180, 52860, 3.818, UDP, 0\n",
    "181, 52860, 3.818, TCP, 0\n",
    "182, 52860, 3.818, TCP, 0\n",
    "183, 52860, 3.818, UDP, 0\n",
    "184, 52860, 3.818, TCP, 1\n",
    "185, 52860, 3.818, UDP, 0\n",
    "186, 52860, 3.818, TCP, 0\n",
    "187, 52860, 3.818, TCP, 0\n",
    "188, 52860, 3.818, UDP, 1\n",
    "189, 52860, 3.818, TCP, 0\n",
    "190, 52860, 3.818, UDP, 0\n",
    "191, 52860, 3.818, TCP, 0\n",
    "192, 52860, 3.818, TCP, 0\n",
    "193, 52860, 3.818, UDP, 0\n",
    "194, 52860, 3.818, TCP, 1\n",
    "195, 52860, 3.818, UDP, 0\n",
    "196, 52860, 3.818, TCP, 0\n",
    "197, 52860, 3.818, TCP, 0\n",
    "198, 52860, 3.818, UDP, 1\n",
    "199, 52860, 3.818, TCP, 0\n",
    "200, 52860, 3.818, UDP, 0\n",
    "201, 52860, 3.818, TCP, 0\n",
    "202, 52860, 3.818, TCP, 0\n",
    "203, 52860, 3.818, UDP, 0\n",
    "204, 52860, 3.818, TCP, 1\n",
    "205, 52860, 3.818, UDP, 0\n",
    "206, 52860, 3.818, TCP, 0\n",
    "207, 52860, 3.818, TCP, 0\n",
    "208, 52860, 3.818, UDP, 1\n",
    "209, 52860, 3.818, TCP, 0\n",
    "210, 52860, 3.818, UDP, 0\n",
    "211, 52860, 3.818, TCP, 0\n",
    "212, 52860, 3.818, TCP, 0\n",
    "213, 52860, 3.818, UDP, 0\n",
    "214, 52860, 3.818, TCP, 1\n",
    "215, 52860, 3.818, UDP, 0\n",
    "216, 52860, 3.818, TCP, 0\n",
    "217, 52860, 3.818, TCP, 0\n",
    "218, 52860, 3.818, UDP, 1\n",
    "219, 52860, 3.818, TCP, 0\n",
    "220, 52860, 3.818, UDP, 0\n",
    "221, 52860, 3.818, TCP, 0\n",
    "222, 52860, 3.818, TCP, 0\n",
    "223, 52860, 3.818, UDP, 0\n",
    "224, 52860, 3.818, TCP, 1\n",
    "225, 52860, 3.818, UDP, 0\n",
    "226, 52860, 3.818, TCP, 0\n",
    "227, 52860, 3.818, TCP, 0\n",
    "228, 52860, 3.818, UDP, 1\n",
    "229, 52860, 3.818, TCP, 0\n",
    "230, 52860, 3.818, UDP, 0\n",
    "231, 52860, 3.818, TCP, 0\n",
    "232, 52860, 3.818, TCP, 0\n",
    "233, 52860, 3.818, UDP, 0\n",
    "234, 52860, 3.818, TCP, 1\n",
    "235, 52860, 3.818, UDP, 0\n",
    "236, 52860, 3.818, TCP, 0\n",
    "237, 52860, 3.818, TCP, 0\n",
    "238, 52860, 3.818, UDP, 1\n",
    "239, 52860, 3.818, TCP, 0\n"
   ]
  },
  {
   "cell_type": "code",
   "execution_count": null,
   "metadata": {
    "colab": {
     "base_uri": "https://localhost:8080/",
     "height": 73
    },
    "id": "JDk2z7BmZ0ZN",
    "outputId": "292ccc72-cf72-431c-9109-da4f9770d808"
   },
   "outputs": [
    {
     "name": "stdout",
     "output_type": "stream",
     "text": [
      "Generate a 10000 rows of synthetic data from the given data statistics in triple quotes '''mean = 9.438321e+07, standard deviation= protocol={TCP:40%,UDP:60%}'''\n"
     ]
    },
    {
     "data": {
      "application/vnd.google.colaboratory.intrinsic+json": {
       "type": "string"
      },
      "text/plain": [
       "'row1: 8055045255, TCP\\nrow2:'"
      ]
     },
     "execution_count": 64,
     "metadata": {},
     "output_type": "execute_result"
    }
   ],
   "source": [
    "prompt2 = \"Generate a 10000 rows of synthetic data from the given data statistics in triple quotes '''mean = 9.438321e+07, standard deviation= protocol={TCP:40%,UDP:60%}'''\"\n",
    "print(prompt2)\n",
    "chatGPT_Response(prompt2)"
   ]
  },
  {
   "cell_type": "code",
   "execution_count": null,
   "metadata": {
    "colab": {
     "base_uri": "https://localhost:8080/"
    },
    "id": "ROx3NnsnvdbL",
    "outputId": "61c8d7ec-b7ac-4cb9-ca7a-4800650c8521"
   },
   "outputs": [
    {
     "name": "stdout",
     "output_type": "stream",
     "text": [
      "Writing data.txt\n"
     ]
    }
   ],
   "source": [
    "%%writefile data.txt\n",
    "45304,48294064,100,3,UDP,0.0,0\\n\n",
    "31937,1724598,54,3,TCP,131,1"
   ]
  },
  {
   "cell_type": "code",
   "execution_count": null,
   "metadata": {
    "id": "OiuYxpMLqBk8"
   },
   "outputs": [],
   "source": [
    "with open(\"data.txt\") as f:\n",
    "    data = f.readlines()\n",
    "\n",
    "# Generate 10,000 rows of data\n",
    "generated_data = []\n",
    "for i in range(5):\n",
    "    # Randomly select a line of text from the data\n",
    "    prompt = random.choice(data).strip()\n",
    "\n",
    "    # Generate the next line of data using ChatGPT\n",
    "    response = openai.Completion.create(\n",
    "        engine=\"TD3\",\n",
    "        prompt=prompt,\n",
    "        max_tokens=50,\n",
    "        n=1,\n",
    "        stop=None,\n",
    "        temperature=0.7,\n",
    "    )\n",
    "\n",
    "    # Append the generated line of data to the list\n",
    "    generated_data.append(response.choices[0].text.strip())\n",
    "\n",
    "# Write the generated data to a new text file\n",
    "with open(\"generated_data.txt\", \"w\") as f:\n",
    "    f.write(\"\\n\".join(generated_data))"
   ]
  },
  {
   "cell_type": "code",
   "execution_count": null,
   "metadata": {
    "colab": {
     "base_uri": "https://localhost:8080/"
    },
    "id": "v7rSQo9CfiXW",
    "outputId": "73714e36-305d-4e70-a250-4e7a777d807c"
   },
   "outputs": [
    {
     "data": {
      "text/plain": [
       "247"
      ]
     },
     "execution_count": 14,
     "metadata": {},
     "output_type": "execute_result"
    }
   ],
   "source": [
    "len(prompt1)#, prompt1.getBytes().length()"
   ]
  },
  {
   "cell_type": "code",
   "execution_count": null,
   "metadata": {
    "colab": {
     "base_uri": "https://localhost:8080/",
     "height": 174
    },
    "id": "JdMLTZ_f29qQ",
    "outputId": "1dc9cd7e-bbf6-408c-cf74-0bc6008a8529"
   },
   "outputs": [
    {
     "data": {
      "application/vnd.google.colaboratory.intrinsic+json": {
       "type": "string"
      },
      "text/plain": [
       "'pktcount,bytecount,dur,flows,Protocol,tot_kbps,label\\n58025,35680862,57,9,TCP,25.6,1\\n4092,6861768,82,2,UDP,0.0,0\\n4919,933300,88,5,TCP,90.3,1\\n19385,32287582,45,7,UDP,0.0,0\\n288154,53550244,59,3,TCP,161.3,1\\n10156,8546604,86,4,TCP,347.1,1\\n53682,17129020,22,2,UDP,0.0,0\\n40612,16964444,79,6,UDP,0.0,0\\n4345,7238459,66,4,UDP,0.0,0\\n56718,5164124,43,5,TCP,39.2,1\\n83395,781726,47,1,TCP,14.3,1\\n45643,35212320,77,9,UDP,0.0,0\\n44083,7093076,28,1,UDP,0.0,0\\n38237,657365,70,2,TCP,127.5,1\\n96817,951145,35,6,UDP,0.0,0\\n38178,3113287,89,2,UDP,0.0,0\\n41510,9179682,41,4,UDP,0.0,0\\n89456,28186953,22,8,TCP,90.9,1\\n99943,2450388,23,6,UDP,0.0,0\\n84514,6873536,74,7,TCP,244.8,1\\n58783,19227220,92,2,TCP,73.2,1\\n10911,1941104,71,7,TCP,0.0,0\\n64912,35739735,81,9,TCP,304.8,1\\n98326,5129996,20,1,TCP,19.2,1\\n98812,369918,26,8,TCP,19.1,1\\n52420,30845594,57,3,UDP,0.0,0\\n42008,2281300,83,5,UDP,0.0,0\\n34546,6300208,55,7,TCP,2.6,1\\n57967,36726544,33,1,TCP,14.9,1\\n45860,2334773,72,2,TCP,70.5,1\\n86876,9857590,43,9,TCP,389.4,1\\n61634,3998939,63,5,UDP,0.0,0\\n42977,4133986,26,8,TCP,1.3,1\\n41109,8372286,77,6,TCP,163.7,1\\n38232,1427881,99,1,UDP,0.0,0\\n70714,9823761,70,9,TCP,173.8,1\\n77935,35565195,28,7,UDP,0.0,0\\n18658,9059674,50,3,UDP,0.0,0\\n47362,22978927,73,4,TCP,301.6,1\\n31851,1665301,93,5,UDP,0.0,0\\n72309,6955464,42,7,TCP,104.6,1\\n44229,3784390,62,2,TCP,48.9,1\\n41738,6339860,73,1,TCP,192.7,1\\n47521,4144666,69,9,TCP,135.1,1\\n52935,4443689,97,5,UDP,0.0,0\\n27575,21276068,54,3,TCP,311.3,1\\n62990,983337,90,6,TCP,77.7,1\\n38240,8316520,67,7,TCP,78.8,1\\n69498,8718796,71,3,TCP,63.3,1\\n87607,3111798,98,7,TCP,356.9,1\\n48279,4018806,54,1,TCP,72.1,1\\n87983,2071790,55,9,TCP,14.1,1\\n50783,4474012,84,3,UDP,0.0,0\\n93986,2450289,78,6,TCP,96.5,1\\n90347,271318,54,4,UDP,0.0,0\\n71920,5307376,28,5,UDP,0.0,0\\n49327,3619389,62,8,UDP,0.0,0\\n37519,6325366,54,1,UDP,0.0,0\\n58219,4795383,77,2,UDP,0.0,0\\n77316,9331863,86,2,TCP,240.3,1\\n60014,4572286,84,4,TCP,60.1,1\\n96699,3715131,68,2,TCP,182.2,1\\n83003,8602125,56,9,UDP,0.0,0\\n66479,6644420,40,1,UDP,0.0,0\\n92393,3091245,20,8,UDP,0.0,0\\n27423,7026250,90,2,TCP,211.3,1\\n84548,5938020,65,7,TCP,155.1,1\\n42387,876684,35,3,TCP,376.1,1\\n87331,1747716,98,7,TCP,283.9,1\\n65822,3608201,49,1,TCP,404.2,1\\n87902,5308766,55,4,TCP,45.7,1\\n663,384448,88,3,TCP,316.1,1\\n9488,3131076,63,2,UDP,0.0,0\\n85802,2656490,38,1,UDP,0.0,0\\n44799,7977903,44,4,TCP,303.3,1\\n37404,6682148,42,1,TCP,198.5,1\\n5355,7160926,63,2,UDP,0.0,0\\n68323,2212373,47,3,UDP,0.0,0\\n70577,1109171,90,2,UDP,0.0,0\\n59146,9900145,40,8,UDP,0.0,0\\n83268,553237,86,7,UDP,0.0,0\\n72671,15433525,90,9,UDP,0.0,0\\n42719,7309229,41,4,TCP,147.1,1\\n97368,2474801,59,1,TCP,28.5,1\\n38496,2719821,68,6,TCP,55.1,1\\n84522,9410708,30,5,TCP,381.2,1\\n71101,8978434,33,4,UDP,0.0,0\\n70466,7370944,61,6,UDP,0.0,0\\n55782,8616226,79,6,UDP,0.0,0\\n28445,7391860,63,7,TCP,12.8,1\\n61773,1740375,22,1,TCP,157.3,1\\n95174,2672348,26,1,UDP,0.0,0\\n13839,7878070,49,3,TCP,42.2,1\\n26102,6070500,87,7,TCP,25.8,1\\n44096,3087109,85,8,TCP,261.9,1\\n93544,1211461,50,7,TCP,127.7,1\\n17338,8796418,47,2,UDP,0.0,0\\n67801,4820438,59,4,UDP,0.0,0\\n91851,4479230,86,8,UDP,0.0,0\\n76497,296439,91,2,TCP,249.5,1\\n37451,3210251,89,4,UDP,0.0,0\\n33775,6634847,65,3,TCP,330.3,1\\n91676,2770204,23,7,UDP,0.0,0\\n43117,573149,35,2,TCP,320.7,1\\n81551,1864098,40,9,TCP,211.8,1\\n69448,2194268,59,7,TCP,34.7,1\\n96651,2807127,58,3,UDP,0.0,0'"
      ]
     },
     "execution_count": 15,
     "metadata": {},
     "output_type": "execute_result"
    }
   ],
   "source": [
    "chatGPT_Response(prompt1)"
   ]
  },
  {
   "cell_type": "code",
   "execution_count": null,
   "metadata": {
    "id": "i7r35Oy39CFm"
   },
   "outputs": [],
   "source": []
  },
  {
   "cell_type": "markdown",
   "metadata": {
    "id": "EUIMKl4-9BBE"
   },
   "source": [
    "### Synthetic Data prep"
   ]
  },
  {
   "cell_type": "code",
   "execution_count": null,
   "metadata": {
    "colab": {
     "base_uri": "https://localhost:8080/"
    },
    "id": "e77L9eYb87CT",
    "outputId": "abba004d-d838-45cf-cdd1-f11759b82465"
   },
   "outputs": [
    {
     "name": "stdout",
     "output_type": "stream",
     "text": [
      "Writing syntheticData.txt\n"
     ]
    }
   ],
   "source": [
    "%%writefile syntheticData.txt\n",
    "\n",
    "index,pktcount,bytecount,dur,flows,tot_kbps,label\n",
    "1,22384.98,13164902.88,324.25,5.0,4.0,1\n",
    "2,50257.87,32887714.12,311.75,7.0,3838.0,0\n",
    "3,84101.96,49772962.20,281.50,2.0,0.0,1\n",
    "4,121709.90,74101455.44,405.00,3.0,0.0,0\n",
    "5,150125.53,90807911.44,294.25,5.0,4.0,1\n",
    "6,175599.19,109980492.36,177.00,17.0,20580.0,0\n",
    "7,206956.78,132509331.52,186.25,4.0,2.0,1\n",
    "8,241314.21,157726638.80,255.50,2.0,0.0,0\n",
    "9,270500.33,179768743.44,360.75,7.0,3838.0,1\n",
    "10,307983.00,204767012.00,399.50,5.0,4.0,0\n",
    "11,343440.32,230937894.56,127.00,3.0,0.0,1\n",
    "12,373345.48,254614081.52,267.25,4.0,2.0,0\n",
    "13,408813.02,281167505.36,173.50,2.0,0.0,1\n",
    "14,441819.14,306545396.48,336.00,7.0,3838.0,0\n",
    "15,474545.44,333739056.00,395.25,5.0,4.0,1\n",
    "16,505063.11,359040881.44,323.00,3.0,0.0,0\n",
    "17,539206.68,387855427.84,155.75,4.0,2.0,1\n",
    "18,571530.00,415122080.00,400.50,2.0,0.0,0\n",
    "19,603913.90,444812220.80,187.25,7.0,3838.0,1\n",
    "20,637388.09,475137022.72,304.00,5.0,4.0,0\n",
    "21,670021.21,503620892.16,319.75,3.0,0.0,1\n",
    "22,704437.26,534902345.44,180.50,4.0,2.0,0\n",
    "23,735798.95,563774551.60,358.25,2.0,0.0,1\n",
    "24,767945.60,594418096.00,387.00,7.0,3838.0,0\n",
    "25,800835.90,624756720.80,170.75,5.0,4.0,1\n",
    "26,833193.91,655017920.96,288.50,3.0,0.0,0\n",
    "27,867787.48,687585387.84,365.25,4.0,2.0,1\n",
    "28,899719.00,717070080.00,155.00,2.0,0.0,0\n",
    "29,932950.19,749204524.72,335.75,7.0,3838.0,1\n",
    "30,965657.03,779455400.96,389.50,5.0,4.0,0\n",
    "31,999020.12,811591067.84,191.25,3.0,0.0,1\n",
    "32,1032790.32,843663235.84,301.00,4.0,2.0,0\n",
    "33,1065809.27,874826674.88,168.75,2.0,0.0,1\n",
    "34,1099669.74,908278368.00,372.50,7.0,3838.0,0\n",
    "35,1132074.45,939132032.00,395.25,5.0,4.0,1\n",
    "36,1165782.64,971708019.52,187.00,3.0,0.0,0\n",
    "37,1199069.54,1003265704.96,334.75,4.0,2.0,1\n",
    "38,1233164.00,1036258880.00,163.50,2.0,0.0,0\n",
    "39,1267136.00,1069110400.00,363.25,7.0,3838.0,1\n",
    "40,1300284.10,1101567088.00,397.00,5.0,4.0,0\n",
    "41,1334518.08,1135361336.32,195.75,3.0,0.0,1\n",
    "42,1367781.20,1167759872.00,309.50,4.0,2.0,0\n",
    "43,1401765.28,1201221760.00,175.25,2.0,0.0,1\n",
    "44,1435307.92,1234576128.00,380.00,7.0,3838.0,0\n",
    "45,1469079.20,1268906880.00,395.25,5.0,4.0,1\n",
    "46,1502631.68,1301937408.00,183.00,3.0,0.0,0\n",
    "47,1536387.22,1336155038.72,317.75,4.0,2.0,1\n",
    "48,1569862.00,1368972800.00,168.50,2.0,0.0,0\n",
    "49,1603837.71,1403340011.28,378.25,7.0,3838.0,1\n",
    "50,1637110.00,1436174400.00,397.00,5.0,4.0,0\n",
    "51,1670767.99,1470452223.04,192.75,3.0,0.0,1\n",
    "52,1704024.00,1503376000.00,306.50,4.0,2.0,0\n",
    "53,1737600.32,1537640064.00,174.25,2.0,0.0,1\n",
    "54,1770669.00,1570222400.00,386.00,7.0,3838.0,0\n",
    "55,1804071.05,1604422243.20,395.25,5.0,4.0,1\n",
    "56,1837151.36,1637131648.00,181.00,3.0,0.0,0\n",
    "57,1871020.68,1671219082.72,324.75,4.0,2.0,1\n",
    "58,1904142.00,1703968000.00,162.50,2.0,0.0,0\n",
    "59,1938181.00,1738486400.00,384.25,7.0,3838.0,1\n",
    "60,1971219.20,1771747200.00,397.00,5.0,4.0,0\n",
    "61,2004420.08,1805884928.00,190.75,3.0,0.0,1\n",
    "62,2037402.00,1838582400.00,303.50,4.0,2.0,0\n",
    "63,2071047.90,1873048478.40,173.25,2.0,0.0,1\n",
    "64,2104144.00,1906140800.00,392.00,7.0,3838.0,0\n",
    "65,2137576.45,1940752043.20,395.25,5.0,4.0,1\n",
    "66,2170639.36,1973540448.00,179.00,3.0,0.0,0\n",
    "67,2204358.74,2007944862.88,332.75,4.0,2.0,1\n",
    "68,2237140.00,2041056000.00,161.50,2.0,0.0,0\n",
    "69,2271174.19,2075999814.72,381.25,7.0,3838.0,1\n",
    "70,2304221.00,2108649600.00,397.00,5.0,4.0,0\n",
    "71,2337657.99,2142428223.04,188.75,3.0,0.0,1\n",
    "72,2370644.00,2175481600.00,301.50,4.0,2.0,0\n",
    "73,2404467.28,2209800704.00,172.25,2.0,0.0,1\n",
    "74,2437798.00,2242524800.00,390.00,7.0,3838.0,0\n",
    "75,2471455.05,2277559243.20,395.25,5.0,4.0,1\n",
    "76,2504616.36,2310322448.00,177.00,3.0,0.0,0\n",
    "77,2538375.68,2344663482.72,330.75,4.0,2.0,1\n",
    "78,2571122.00,2377536000.00,160.50,2.0,0.0,0\n",
    "79,2605274.19,2412591814.72,379.25,7.0,3838.0,1\n",
    "80,2637961.00,2444646400.00,397.00,5.0,4.0,0\n",
    "81,2671667.99,2478444823.04,186.75,3.0,0.0,1\n",
    "82,2705024.00,2511488000.00,300.50,4.0,2.0,0\n",
    "83,2739097.90,2545692478.40,171.25,2.0,0.0,1\n",
    "84,2771824.00,2578172800.00,388.00,7.0,3838.0,0\n",
    "85,2805775.45,2612968043.20,395.25,5.0,4.0,1\n",
    "86,2838336.36,2645746448.00,175.00,3.0,0.0,0\n",
    "87,2872385.68,2680925482.72,328.75,4.0,2.0,1\n",
    "88,2905022.00,2713056000.00,159.50,2.0,0.0,0\n",
    "89,2939071.00,2748220400.00,377.25,7.0,3838.0,1\n",
    "90,2971758.10,2781114688.00,397.00,5.0,4.0,0\n",
    "91,3005485.08,2815308416.32,184.75,3.0,0.0,1\n",
    "92,3038552.00,2847756800.00,299.50,4.0,2.0,0\n",
    "93,3073097.90,2882905478.40,170.25,2.0,0.0,1\n",
    "94,3105984.00,2915456000.00,386.00,7.0,3838.0,0\n",
    "95,3140035.05,2950451243.20,395.25,5.0,4.0,1\n",
    "96,3173096.36,2983229648.00,183.00,3.0,0.0,0\n",
    "97,3207245.68,3017645082.72,327.75,4.0,2.0,1\n",
    "98,3240282.00,3050336000.00,158.50,2.0,0.0,0\n",
    "99,3275031.00,3085850400.00,376.25,7.0,3838.0,1\n",
    "100,3307718.10,3118744688.00,397.00,5.0,4.0,0\n",
    "101,3341445.08,3152938416.32,192.75,3.0,0.0,1\n",
    "102,3374752.00,3185688000.00,298.50,4.0,2.0,0\n",
    "103,3409297.90,3220836878.40,169.25,2.0,0.0,1\n",
    "104,3442184.00,3253390400.00,385.00,7.0,3838.0,0\n",
    "105,3476235.05,32883856"
   ]
  },
  {
   "cell_type": "markdown",
   "metadata": {
    "id": "IrXbu5Cc9Ozu"
   },
   "source": [
    "### Synthetic Data Load"
   ]
  },
  {
   "cell_type": "code",
   "execution_count": null,
   "metadata": {
    "colab": {
     "base_uri": "https://localhost:8080/",
     "height": 424
    },
    "id": "q16BZmAsuL_c",
    "outputId": "b2658b69-8575-4082-92cd-48855fd25009"
   },
   "outputs": [
    {
     "data": {
      "text/html": [
       "\n",
       "  <div id=\"df-a04d92e9-814f-475e-8b26-ae132b94bd30\">\n",
       "    <div class=\"colab-df-container\">\n",
       "      <div>\n",
       "<style scoped>\n",
       "    .dataframe tbody tr th:only-of-type {\n",
       "        vertical-align: middle;\n",
       "    }\n",
       "\n",
       "    .dataframe tbody tr th {\n",
       "        vertical-align: top;\n",
       "    }\n",
       "\n",
       "    .dataframe thead th {\n",
       "        text-align: right;\n",
       "    }\n",
       "</style>\n",
       "<table border=\"1\" class=\"dataframe\">\n",
       "  <thead>\n",
       "    <tr style=\"text-align: right;\">\n",
       "      <th></th>\n",
       "      <th>index</th>\n",
       "      <th>pktcount</th>\n",
       "      <th>bytecount</th>\n",
       "      <th>dur</th>\n",
       "      <th>flows</th>\n",
       "      <th>tot_kbps</th>\n",
       "      <th>label</th>\n",
       "    </tr>\n",
       "  </thead>\n",
       "  <tbody>\n",
       "    <tr>\n",
       "      <th>0</th>\n",
       "      <td>1</td>\n",
       "      <td>22384.98</td>\n",
       "      <td>1.316490e+07</td>\n",
       "      <td>324.25</td>\n",
       "      <td>5.0</td>\n",
       "      <td>4.0</td>\n",
       "      <td>1.0</td>\n",
       "    </tr>\n",
       "    <tr>\n",
       "      <th>1</th>\n",
       "      <td>2</td>\n",
       "      <td>50257.87</td>\n",
       "      <td>3.288771e+07</td>\n",
       "      <td>311.75</td>\n",
       "      <td>7.0</td>\n",
       "      <td>3838.0</td>\n",
       "      <td>0.0</td>\n",
       "    </tr>\n",
       "    <tr>\n",
       "      <th>2</th>\n",
       "      <td>3</td>\n",
       "      <td>84101.96</td>\n",
       "      <td>4.977296e+07</td>\n",
       "      <td>281.50</td>\n",
       "      <td>2.0</td>\n",
       "      <td>0.0</td>\n",
       "      <td>1.0</td>\n",
       "    </tr>\n",
       "    <tr>\n",
       "      <th>3</th>\n",
       "      <td>4</td>\n",
       "      <td>121709.90</td>\n",
       "      <td>7.410146e+07</td>\n",
       "      <td>405.00</td>\n",
       "      <td>3.0</td>\n",
       "      <td>0.0</td>\n",
       "      <td>0.0</td>\n",
       "    </tr>\n",
       "    <tr>\n",
       "      <th>4</th>\n",
       "      <td>5</td>\n",
       "      <td>150125.53</td>\n",
       "      <td>9.080791e+07</td>\n",
       "      <td>294.25</td>\n",
       "      <td>5.0</td>\n",
       "      <td>4.0</td>\n",
       "      <td>1.0</td>\n",
       "    </tr>\n",
       "    <tr>\n",
       "      <th>...</th>\n",
       "      <td>...</td>\n",
       "      <td>...</td>\n",
       "      <td>...</td>\n",
       "      <td>...</td>\n",
       "      <td>...</td>\n",
       "      <td>...</td>\n",
       "      <td>...</td>\n",
       "    </tr>\n",
       "    <tr>\n",
       "      <th>100</th>\n",
       "      <td>101</td>\n",
       "      <td>3341445.08</td>\n",
       "      <td>3.152938e+09</td>\n",
       "      <td>192.75</td>\n",
       "      <td>3.0</td>\n",
       "      <td>0.0</td>\n",
       "      <td>1.0</td>\n",
       "    </tr>\n",
       "    <tr>\n",
       "      <th>101</th>\n",
       "      <td>102</td>\n",
       "      <td>3374752.00</td>\n",
       "      <td>3.185688e+09</td>\n",
       "      <td>298.50</td>\n",
       "      <td>4.0</td>\n",
       "      <td>2.0</td>\n",
       "      <td>0.0</td>\n",
       "    </tr>\n",
       "    <tr>\n",
       "      <th>102</th>\n",
       "      <td>103</td>\n",
       "      <td>3409297.90</td>\n",
       "      <td>3.220837e+09</td>\n",
       "      <td>169.25</td>\n",
       "      <td>2.0</td>\n",
       "      <td>0.0</td>\n",
       "      <td>1.0</td>\n",
       "    </tr>\n",
       "    <tr>\n",
       "      <th>103</th>\n",
       "      <td>104</td>\n",
       "      <td>3442184.00</td>\n",
       "      <td>3.253390e+09</td>\n",
       "      <td>385.00</td>\n",
       "      <td>7.0</td>\n",
       "      <td>3838.0</td>\n",
       "      <td>0.0</td>\n",
       "    </tr>\n",
       "    <tr>\n",
       "      <th>104</th>\n",
       "      <td>105</td>\n",
       "      <td>3476235.05</td>\n",
       "      <td>3.288386e+07</td>\n",
       "      <td>NaN</td>\n",
       "      <td>NaN</td>\n",
       "      <td>NaN</td>\n",
       "      <td>NaN</td>\n",
       "    </tr>\n",
       "  </tbody>\n",
       "</table>\n",
       "<p>105 rows × 7 columns</p>\n",
       "</div>\n",
       "      <button class=\"colab-df-convert\" onclick=\"convertToInteractive('df-a04d92e9-814f-475e-8b26-ae132b94bd30')\"\n",
       "              title=\"Convert this dataframe to an interactive table.\"\n",
       "              style=\"display:none;\">\n",
       "        \n",
       "  <svg xmlns=\"http://www.w3.org/2000/svg\" height=\"24px\"viewBox=\"0 0 24 24\"\n",
       "       width=\"24px\">\n",
       "    <path d=\"M0 0h24v24H0V0z\" fill=\"none\"/>\n",
       "    <path d=\"M18.56 5.44l.94 2.06.94-2.06 2.06-.94-2.06-.94-.94-2.06-.94 2.06-2.06.94zm-11 1L8.5 8.5l.94-2.06 2.06-.94-2.06-.94L8.5 2.5l-.94 2.06-2.06.94zm10 10l.94 2.06.94-2.06 2.06-.94-2.06-.94-.94-2.06-.94 2.06-2.06.94z\"/><path d=\"M17.41 7.96l-1.37-1.37c-.4-.4-.92-.59-1.43-.59-.52 0-1.04.2-1.43.59L10.3 9.45l-7.72 7.72c-.78.78-.78 2.05 0 2.83L4 21.41c.39.39.9.59 1.41.59.51 0 1.02-.2 1.41-.59l7.78-7.78 2.81-2.81c.8-.78.8-2.07 0-2.86zM5.41 20L4 18.59l7.72-7.72 1.47 1.35L5.41 20z\"/>\n",
       "  </svg>\n",
       "      </button>\n",
       "      \n",
       "  <style>\n",
       "    .colab-df-container {\n",
       "      display:flex;\n",
       "      flex-wrap:wrap;\n",
       "      gap: 12px;\n",
       "    }\n",
       "\n",
       "    .colab-df-convert {\n",
       "      background-color: #E8F0FE;\n",
       "      border: none;\n",
       "      border-radius: 50%;\n",
       "      cursor: pointer;\n",
       "      display: none;\n",
       "      fill: #1967D2;\n",
       "      height: 32px;\n",
       "      padding: 0 0 0 0;\n",
       "      width: 32px;\n",
       "    }\n",
       "\n",
       "    .colab-df-convert:hover {\n",
       "      background-color: #E2EBFA;\n",
       "      box-shadow: 0px 1px 2px rgba(60, 64, 67, 0.3), 0px 1px 3px 1px rgba(60, 64, 67, 0.15);\n",
       "      fill: #174EA6;\n",
       "    }\n",
       "\n",
       "    [theme=dark] .colab-df-convert {\n",
       "      background-color: #3B4455;\n",
       "      fill: #D2E3FC;\n",
       "    }\n",
       "\n",
       "    [theme=dark] .colab-df-convert:hover {\n",
       "      background-color: #434B5C;\n",
       "      box-shadow: 0px 1px 3px 1px rgba(0, 0, 0, 0.15);\n",
       "      filter: drop-shadow(0px 1px 2px rgba(0, 0, 0, 0.3));\n",
       "      fill: #FFFFFF;\n",
       "    }\n",
       "  </style>\n",
       "\n",
       "      <script>\n",
       "        const buttonEl =\n",
       "          document.querySelector('#df-a04d92e9-814f-475e-8b26-ae132b94bd30 button.colab-df-convert');\n",
       "        buttonEl.style.display =\n",
       "          google.colab.kernel.accessAllowed ? 'block' : 'none';\n",
       "\n",
       "        async function convertToInteractive(key) {\n",
       "          const element = document.querySelector('#df-a04d92e9-814f-475e-8b26-ae132b94bd30');\n",
       "          const dataTable =\n",
       "            await google.colab.kernel.invokeFunction('convertToInteractive',\n",
       "                                                     [key], {});\n",
       "          if (!dataTable) return;\n",
       "\n",
       "          const docLinkHtml = 'Like what you see? Visit the ' +\n",
       "            '<a target=\"_blank\" href=https://colab.research.google.com/notebooks/data_table.ipynb>data table notebook</a>'\n",
       "            + ' to learn more about interactive tables.';\n",
       "          element.innerHTML = '';\n",
       "          dataTable['output_type'] = 'display_data';\n",
       "          await google.colab.output.renderOutput(dataTable, element);\n",
       "          const docLink = document.createElement('div');\n",
       "          docLink.innerHTML = docLinkHtml;\n",
       "          element.appendChild(docLink);\n",
       "        }\n",
       "      </script>\n",
       "    </div>\n",
       "  </div>\n",
       "  "
      ],
      "text/plain": [
       "     index    pktcount     bytecount     dur  flows  tot_kbps  label\n",
       "0        1    22384.98  1.316490e+07  324.25    5.0       4.0    1.0\n",
       "1        2    50257.87  3.288771e+07  311.75    7.0    3838.0    0.0\n",
       "2        3    84101.96  4.977296e+07  281.50    2.0       0.0    1.0\n",
       "3        4   121709.90  7.410146e+07  405.00    3.0       0.0    0.0\n",
       "4        5   150125.53  9.080791e+07  294.25    5.0       4.0    1.0\n",
       "..     ...         ...           ...     ...    ...       ...    ...\n",
       "100    101  3341445.08  3.152938e+09  192.75    3.0       0.0    1.0\n",
       "101    102  3374752.00  3.185688e+09  298.50    4.0       2.0    0.0\n",
       "102    103  3409297.90  3.220837e+09  169.25    2.0       0.0    1.0\n",
       "103    104  3442184.00  3.253390e+09  385.00    7.0    3838.0    0.0\n",
       "104    105  3476235.05  3.288386e+07     NaN    NaN       NaN    NaN\n",
       "\n",
       "[105 rows x 7 columns]"
      ]
     },
     "execution_count": 2,
     "metadata": {},
     "output_type": "execute_result"
    }
   ],
   "source": [
    "import pandas as pd\n",
    "df = pd.read_csv(\"/content/syntheticData.txt\",sep=\",\")\n",
    "df"
   ]
  },
  {
   "cell_type": "code",
   "execution_count": null,
   "metadata": {
    "colab": {
     "base_uri": "https://localhost:8080/"
    },
    "id": "XrVC1rTm9baJ",
    "outputId": "ac0058a8-b3fd-4f0a-c6fd-686123c6d626"
   },
   "outputs": [
    {
     "data": {
      "text/plain": [
       "index        0\n",
       "pktcount     0\n",
       "bytecount    0\n",
       "dur          1\n",
       "flows        1\n",
       "tot_kbps     1\n",
       "label        1\n",
       "dtype: int64"
      ]
     },
     "execution_count": 3,
     "metadata": {},
     "output_type": "execute_result"
    }
   ],
   "source": [
    "df.isna().sum()"
   ]
  },
  {
   "cell_type": "code",
   "execution_count": null,
   "metadata": {
    "colab": {
     "base_uri": "https://localhost:8080/",
     "height": 300
    },
    "id": "39gUoR8Q9j5o",
    "outputId": "bf9593e1-3310-4221-de3a-85d2433ecd74"
   },
   "outputs": [
    {
     "data": {
      "text/html": [
       "\n",
       "  <div id=\"df-2345121b-ec6b-404d-a6e3-435fee2cddf0\">\n",
       "    <div class=\"colab-df-container\">\n",
       "      <div>\n",
       "<style scoped>\n",
       "    .dataframe tbody tr th:only-of-type {\n",
       "        vertical-align: middle;\n",
       "    }\n",
       "\n",
       "    .dataframe tbody tr th {\n",
       "        vertical-align: top;\n",
       "    }\n",
       "\n",
       "    .dataframe thead th {\n",
       "        text-align: right;\n",
       "    }\n",
       "</style>\n",
       "<table border=\"1\" class=\"dataframe\">\n",
       "  <thead>\n",
       "    <tr style=\"text-align: right;\">\n",
       "      <th></th>\n",
       "      <th>index</th>\n",
       "      <th>pktcount</th>\n",
       "      <th>bytecount</th>\n",
       "      <th>dur</th>\n",
       "      <th>flows</th>\n",
       "      <th>tot_kbps</th>\n",
       "      <th>label</th>\n",
       "    </tr>\n",
       "  </thead>\n",
       "  <tbody>\n",
       "    <tr>\n",
       "      <th>count</th>\n",
       "      <td>105.000000</td>\n",
       "      <td>1.050000e+02</td>\n",
       "      <td>1.050000e+02</td>\n",
       "      <td>104.000000</td>\n",
       "      <td>104.000000</td>\n",
       "      <td>104.000000</td>\n",
       "      <td>104.000000</td>\n",
       "    </tr>\n",
       "    <tr>\n",
       "      <th>mean</th>\n",
       "      <td>53.000000</td>\n",
       "      <td>1.738306e+06</td>\n",
       "      <td>1.532239e+09</td>\n",
       "      <td>287.459135</td>\n",
       "      <td>4.336538</td>\n",
       "      <td>974.057692</td>\n",
       "      <td>0.500000</td>\n",
       "    </tr>\n",
       "    <tr>\n",
       "      <th>std</th>\n",
       "      <td>30.454885</td>\n",
       "      <td>1.014900e+06</td>\n",
       "      <td>9.845280e+08</td>\n",
       "      <td>94.184312</td>\n",
       "      <td>2.138916</td>\n",
       "      <td>2481.383007</td>\n",
       "      <td>0.502421</td>\n",
       "    </tr>\n",
       "    <tr>\n",
       "      <th>min</th>\n",
       "      <td>1.000000</td>\n",
       "      <td>2.238498e+04</td>\n",
       "      <td>1.316490e+07</td>\n",
       "      <td>127.000000</td>\n",
       "      <td>2.000000</td>\n",
       "      <td>0.000000</td>\n",
       "      <td>0.000000</td>\n",
       "    </tr>\n",
       "    <tr>\n",
       "      <th>25%</th>\n",
       "      <td>27.000000</td>\n",
       "      <td>8.677875e+05</td>\n",
       "      <td>6.550179e+08</td>\n",
       "      <td>182.500000</td>\n",
       "      <td>3.000000</td>\n",
       "      <td>0.000000</td>\n",
       "      <td>0.000000</td>\n",
       "    </tr>\n",
       "    <tr>\n",
       "      <th>50%</th>\n",
       "      <td>53.000000</td>\n",
       "      <td>1.737600e+06</td>\n",
       "      <td>1.503376e+09</td>\n",
       "      <td>308.000000</td>\n",
       "      <td>4.000000</td>\n",
       "      <td>2.000000</td>\n",
       "      <td>0.500000</td>\n",
       "    </tr>\n",
       "    <tr>\n",
       "      <th>75%</th>\n",
       "      <td>79.000000</td>\n",
       "      <td>2.605274e+06</td>\n",
       "      <td>2.377536e+09</td>\n",
       "      <td>384.437500</td>\n",
       "      <td>5.000000</td>\n",
       "      <td>4.000000</td>\n",
       "      <td>1.000000</td>\n",
       "    </tr>\n",
       "    <tr>\n",
       "      <th>max</th>\n",
       "      <td>105.000000</td>\n",
       "      <td>3.476235e+06</td>\n",
       "      <td>3.253390e+09</td>\n",
       "      <td>405.000000</td>\n",
       "      <td>17.000000</td>\n",
       "      <td>20580.000000</td>\n",
       "      <td>1.000000</td>\n",
       "    </tr>\n",
       "  </tbody>\n",
       "</table>\n",
       "</div>\n",
       "      <button class=\"colab-df-convert\" onclick=\"convertToInteractive('df-2345121b-ec6b-404d-a6e3-435fee2cddf0')\"\n",
       "              title=\"Convert this dataframe to an interactive table.\"\n",
       "              style=\"display:none;\">\n",
       "        \n",
       "  <svg xmlns=\"http://www.w3.org/2000/svg\" height=\"24px\"viewBox=\"0 0 24 24\"\n",
       "       width=\"24px\">\n",
       "    <path d=\"M0 0h24v24H0V0z\" fill=\"none\"/>\n",
       "    <path d=\"M18.56 5.44l.94 2.06.94-2.06 2.06-.94-2.06-.94-.94-2.06-.94 2.06-2.06.94zm-11 1L8.5 8.5l.94-2.06 2.06-.94-2.06-.94L8.5 2.5l-.94 2.06-2.06.94zm10 10l.94 2.06.94-2.06 2.06-.94-2.06-.94-.94-2.06-.94 2.06-2.06.94z\"/><path d=\"M17.41 7.96l-1.37-1.37c-.4-.4-.92-.59-1.43-.59-.52 0-1.04.2-1.43.59L10.3 9.45l-7.72 7.72c-.78.78-.78 2.05 0 2.83L4 21.41c.39.39.9.59 1.41.59.51 0 1.02-.2 1.41-.59l7.78-7.78 2.81-2.81c.8-.78.8-2.07 0-2.86zM5.41 20L4 18.59l7.72-7.72 1.47 1.35L5.41 20z\"/>\n",
       "  </svg>\n",
       "      </button>\n",
       "      \n",
       "  <style>\n",
       "    .colab-df-container {\n",
       "      display:flex;\n",
       "      flex-wrap:wrap;\n",
       "      gap: 12px;\n",
       "    }\n",
       "\n",
       "    .colab-df-convert {\n",
       "      background-color: #E8F0FE;\n",
       "      border: none;\n",
       "      border-radius: 50%;\n",
       "      cursor: pointer;\n",
       "      display: none;\n",
       "      fill: #1967D2;\n",
       "      height: 32px;\n",
       "      padding: 0 0 0 0;\n",
       "      width: 32px;\n",
       "    }\n",
       "\n",
       "    .colab-df-convert:hover {\n",
       "      background-color: #E2EBFA;\n",
       "      box-shadow: 0px 1px 2px rgba(60, 64, 67, 0.3), 0px 1px 3px 1px rgba(60, 64, 67, 0.15);\n",
       "      fill: #174EA6;\n",
       "    }\n",
       "\n",
       "    [theme=dark] .colab-df-convert {\n",
       "      background-color: #3B4455;\n",
       "      fill: #D2E3FC;\n",
       "    }\n",
       "\n",
       "    [theme=dark] .colab-df-convert:hover {\n",
       "      background-color: #434B5C;\n",
       "      box-shadow: 0px 1px 3px 1px rgba(0, 0, 0, 0.15);\n",
       "      filter: drop-shadow(0px 1px 2px rgba(0, 0, 0, 0.3));\n",
       "      fill: #FFFFFF;\n",
       "    }\n",
       "  </style>\n",
       "\n",
       "      <script>\n",
       "        const buttonEl =\n",
       "          document.querySelector('#df-2345121b-ec6b-404d-a6e3-435fee2cddf0 button.colab-df-convert');\n",
       "        buttonEl.style.display =\n",
       "          google.colab.kernel.accessAllowed ? 'block' : 'none';\n",
       "\n",
       "        async function convertToInteractive(key) {\n",
       "          const element = document.querySelector('#df-2345121b-ec6b-404d-a6e3-435fee2cddf0');\n",
       "          const dataTable =\n",
       "            await google.colab.kernel.invokeFunction('convertToInteractive',\n",
       "                                                     [key], {});\n",
       "          if (!dataTable) return;\n",
       "\n",
       "          const docLinkHtml = 'Like what you see? Visit the ' +\n",
       "            '<a target=\"_blank\" href=https://colab.research.google.com/notebooks/data_table.ipynb>data table notebook</a>'\n",
       "            + ' to learn more about interactive tables.';\n",
       "          element.innerHTML = '';\n",
       "          dataTable['output_type'] = 'display_data';\n",
       "          await google.colab.output.renderOutput(dataTable, element);\n",
       "          const docLink = document.createElement('div');\n",
       "          docLink.innerHTML = docLinkHtml;\n",
       "          element.appendChild(docLink);\n",
       "        }\n",
       "      </script>\n",
       "    </div>\n",
       "  </div>\n",
       "  "
      ],
      "text/plain": [
       "            index      pktcount     bytecount         dur       flows  \\\n",
       "count  105.000000  1.050000e+02  1.050000e+02  104.000000  104.000000   \n",
       "mean    53.000000  1.738306e+06  1.532239e+09  287.459135    4.336538   \n",
       "std     30.454885  1.014900e+06  9.845280e+08   94.184312    2.138916   \n",
       "min      1.000000  2.238498e+04  1.316490e+07  127.000000    2.000000   \n",
       "25%     27.000000  8.677875e+05  6.550179e+08  182.500000    3.000000   \n",
       "50%     53.000000  1.737600e+06  1.503376e+09  308.000000    4.000000   \n",
       "75%     79.000000  2.605274e+06  2.377536e+09  384.437500    5.000000   \n",
       "max    105.000000  3.476235e+06  3.253390e+09  405.000000   17.000000   \n",
       "\n",
       "           tot_kbps       label  \n",
       "count    104.000000  104.000000  \n",
       "mean     974.057692    0.500000  \n",
       "std     2481.383007    0.502421  \n",
       "min        0.000000    0.000000  \n",
       "25%        0.000000    0.000000  \n",
       "50%        2.000000    0.500000  \n",
       "75%        4.000000    1.000000  \n",
       "max    20580.000000    1.000000  "
      ]
     },
     "execution_count": 4,
     "metadata": {},
     "output_type": "execute_result"
    }
   ],
   "source": [
    "df.describe()"
   ]
  },
  {
   "cell_type": "markdown",
   "metadata": {
    "id": "qAXrk7j-FULM"
   },
   "source": [
    "### Data Exploration: EDA and Graphs"
   ]
  },
  {
   "cell_type": "code",
   "execution_count": null,
   "metadata": {
    "id": "C5ggkc5bHKrP"
   },
   "outputs": [],
   "source": [
    "df = pd.read_csv(\"/content/data_at_2023_06_09_14_15_30.txt\")\n",
    "# df = df[[\"pktcount\",\"bytecount\",\"dur\",\"flows\",\"tot_kbps\"]]"
   ]
  },
  {
   "cell_type": "code",
   "execution_count": null,
   "metadata": {
    "id": "VUrUZ9rCv8uR"
   },
   "outputs": [],
   "source": [
    "orig_df = pd.read_csv(\"/content/drive/MyDrive/Research_paper_Work/Original_dataset_sdn.csv\",sep=\";\")"
   ]
  },
  {
   "cell_type": "code",
   "execution_count": null,
   "metadata": {
    "colab": {
     "base_uri": "https://localhost:8080/",
     "height": 383
    },
    "id": "I56QsFqNwhAk",
    "outputId": "3b4916f3-ff44-44d8-de87-3e23cad8ac4a"
   },
   "outputs": [
    {
     "data": {
      "image/png": "[encoded data removed]",
      "text/plain": [
       "<Figure size 2000x700 with 4 Axes>"
      ]
     },
     "metadata": {},
     "output_type": "display_data"
    }
   ],
   "source": [
    "import warnings\n",
    "warnings.filterwarnings(\"ignore\")\n",
    "import seaborn as sns\n",
    "from matplotlib import pyplot as plt\n",
    "fig,ax = plt.subplots(nrows=1,ncols=2,figsize=(20,7))\n",
    "sns.heatmap(df.iloc[:,1:].corr(),annot=True,ax=ax[0]).set_title(\"Synthetic Data\")\n",
    "sns.heatmap(orig_df[df.columns[1:]].corr(),annot=True,ax=ax[1]).set_title(\"Original Data\")\n",
    "plt.show()"
   ]
  },
  {
   "cell_type": "code",
   "execution_count": null,
   "metadata": {
    "colab": {
     "base_uri": "https://localhost:8080/",
     "height": 112
    },
    "id": "CV_j0_djw4AM",
    "outputId": "38895d02-5220-49bd-9292-099eae4a9eaf"
   },
   "outputs": [
    {
     "data": {
      "text/html": [
       "\n",
       "  <div id=\"df-a009f0c1-8923-4ad0-a5f5-aee74d14be71\">\n",
       "    <div class=\"colab-df-container\">\n",
       "      <div>\n",
       "<style scoped>\n",
       "    .dataframe tbody tr th:only-of-type {\n",
       "        vertical-align: middle;\n",
       "    }\n",
       "\n",
       "    .dataframe tbody tr th {\n",
       "        vertical-align: top;\n",
       "    }\n",
       "\n",
       "    .dataframe thead th {\n",
       "        text-align: right;\n",
       "    }\n",
       "</style>\n",
       "<table border=\"1\" class=\"dataframe\">\n",
       "  <thead>\n",
       "    <tr style=\"text-align: right;\">\n",
       "      <th></th>\n",
       "      <th>original_labels_count</th>\n",
       "      <th>original_labels%</th>\n",
       "      <th>sythentic_labels_count</th>\n",
       "      <th>sythentic_labels%</th>\n",
       "    </tr>\n",
       "  </thead>\n",
       "  <tbody>\n",
       "    <tr>\n",
       "      <th>0</th>\n",
       "      <td>63561</td>\n",
       "      <td>0.609143</td>\n",
       "      <td>52</td>\n",
       "      <td>0.5</td>\n",
       "    </tr>\n",
       "    <tr>\n",
       "      <th>1</th>\n",
       "      <td>40784</td>\n",
       "      <td>0.390857</td>\n",
       "      <td>52</td>\n",
       "      <td>0.5</td>\n",
       "    </tr>\n",
       "  </tbody>\n",
       "</table>\n",
       "</div>\n",
       "      <button class=\"colab-df-convert\" onclick=\"convertToInteractive('df-a009f0c1-8923-4ad0-a5f5-aee74d14be71')\"\n",
       "              title=\"Convert this dataframe to an interactive table.\"\n",
       "              style=\"display:none;\">\n",
       "        \n",
       "  <svg xmlns=\"http://www.w3.org/2000/svg\" height=\"24px\"viewBox=\"0 0 24 24\"\n",
       "       width=\"24px\">\n",
       "    <path d=\"M0 0h24v24H0V0z\" fill=\"none\"/>\n",
       "    <path d=\"M18.56 5.44l.94 2.06.94-2.06 2.06-.94-2.06-.94-.94-2.06-.94 2.06-2.06.94zm-11 1L8.5 8.5l.94-2.06 2.06-.94-2.06-.94L8.5 2.5l-.94 2.06-2.06.94zm10 10l.94 2.06.94-2.06 2.06-.94-2.06-.94-.94-2.06-.94 2.06-2.06.94z\"/><path d=\"M17.41 7.96l-1.37-1.37c-.4-.4-.92-.59-1.43-.59-.52 0-1.04.2-1.43.59L10.3 9.45l-7.72 7.72c-.78.78-.78 2.05 0 2.83L4 21.41c.39.39.9.59 1.41.59.51 0 1.02-.2 1.41-.59l7.78-7.78 2.81-2.81c.8-.78.8-2.07 0-2.86zM5.41 20L4 18.59l7.72-7.72 1.47 1.35L5.41 20z\"/>\n",
       "  </svg>\n",
       "      </button>\n",
       "      \n",
       "  <style>\n",
       "    .colab-df-container {\n",
       "      display:flex;\n",
       "      flex-wrap:wrap;\n",
       "      gap: 12px;\n",
       "    }\n",
       "\n",
       "    .colab-df-convert {\n",
       "      background-color: #E8F0FE;\n",
       "      border: none;\n",
       "      border-radius: 50%;\n",
       "      cursor: pointer;\n",
       "      display: none;\n",
       "      fill: #1967D2;\n",
       "      height: 32px;\n",
       "      padding: 0 0 0 0;\n",
       "      width: 32px;\n",
       "    }\n",
       "\n",
       "    .colab-df-convert:hover {\n",
       "      background-color: #E2EBFA;\n",
       "      box-shadow: 0px 1px 2px rgba(60, 64, 67, 0.3), 0px 1px 3px 1px rgba(60, 64, 67, 0.15);\n",
       "      fill: #174EA6;\n",
       "    }\n",
       "\n",
       "    [theme=dark] .colab-df-convert {\n",
       "      background-color: #3B4455;\n",
       "      fill: #D2E3FC;\n",
       "    }\n",
       "\n",
       "    [theme=dark] .colab-df-convert:hover {\n",
       "      background-color: #434B5C;\n",
       "      box-shadow: 0px 1px 3px 1px rgba(0, 0, 0, 0.15);\n",
       "      filter: drop-shadow(0px 1px 2px rgba(0, 0, 0, 0.3));\n",
       "      fill: #FFFFFF;\n",
       "    }\n",
       "  </style>\n",
       "\n",
       "      <script>\n",
       "        const buttonEl =\n",
       "          document.querySelector('#df-a009f0c1-8923-4ad0-a5f5-aee74d14be71 button.colab-df-convert');\n",
       "        buttonEl.style.display =\n",
       "          google.colab.kernel.accessAllowed ? 'block' : 'none';\n",
       "\n",
       "        async function convertToInteractive(key) {\n",
       "          const element = document.querySelector('#df-a009f0c1-8923-4ad0-a5f5-aee74d14be71');\n",
       "          const dataTable =\n",
       "            await google.colab.kernel.invokeFunction('convertToInteractive',\n",
       "                                                     [key], {});\n",
       "          if (!dataTable) return;\n",
       "\n",
       "          const docLinkHtml = 'Like what you see? Visit the ' +\n",
       "            '<a target=\"_blank\" href=https://colab.research.google.com/notebooks/data_table.ipynb>data table notebook</a>'\n",
       "            + ' to learn more about interactive tables.';\n",
       "          element.innerHTML = '';\n",
       "          dataTable['output_type'] = 'display_data';\n",
       "          await google.colab.output.renderOutput(dataTable, element);\n",
       "          const docLink = document.createElement('div');\n",
       "          docLink.innerHTML = docLinkHtml;\n",
       "          element.appendChild(docLink);\n",
       "        }\n",
       "      </script>\n",
       "    </div>\n",
       "  </div>\n",
       "  "
      ],
      "text/plain": [
       "   original_labels_count  original_labels%  sythentic_labels_count  \\\n",
       "0                  63561          0.609143                      52   \n",
       "1                  40784          0.390857                      52   \n",
       "\n",
       "   sythentic_labels%  \n",
       "0                0.5  \n",
       "1                0.5  "
      ]
     },
     "execution_count": 9,
     "metadata": {},
     "output_type": "execute_result"
    }
   ],
   "source": [
    "labelCompDf = pd.DataFrame()\n",
    "labelCompDf[\"original_labels_count\"] = orig_df.label.value_counts()\n",
    "labelCompDf[\"original_labels%\"] = orig_df.label.value_counts(normalize=True)\n",
    "labelCompDf[\"sythentic_labels_count\"] = df.label.value_counts()\n",
    "labelCompDf[\"sythentic_labels%\"] = df.label.value_counts(normalize=True)\n",
    "labelCompDf"
   ]
  },
  {
   "cell_type": "markdown",
   "metadata": {
    "id": "vvjNmvWw3zi_"
   },
   "source": [
    "### Distributions\n"
   ]
  },
  {
   "cell_type": "markdown",
   "metadata": {
    "id": "9e16a0d3"
   },
   "source": [
    "#### Distibution of Null values in Original Data Set"
   ]
  },
  {
   "cell_type": "code",
   "execution_count": null,
   "metadata": {
    "colab": {
     "base_uri": "https://localhost:8080/",
     "height": 556
    },
    "id": "ea0d5744",
    "outputId": "9935f3cd-c1d4-4a89-bb65-9138752534f2"
   },
   "outputs": [
    {
     "data": {
      "image/png": "[encoded data removed]",
      "text/plain": [
       "<Figure size 800x500 with 1 Axes>"
      ]
     },
     "metadata": {},
     "output_type": "display_data"
    }
   ],
   "source": [
    "# Calculate percentage of null values\n",
    "null_percentage = orig_df.isnull().sum() / orig_df.shape[0] * 100\n",
    "# Plot\n",
    "fig, ax = plt.subplots(figsize=(8, 5))\n",
    "ax.bar(null_percentage.index, null_percentage.values)\n",
    "ax.set_title('Percentage of Null Values in Each Column')\n",
    "ax.set_ylabel('Percentage of Null Values')\n",
    "ax.set_xlabel('Columns')\n",
    "ax.set_xticklabels(null_percentage.index, rotation=90)\n",
    "plt.show()"
   ]
  },
  {
   "cell_type": "markdown",
   "metadata": {
    "id": "31f7695d"
   },
   "source": [
    "#### Distibution of Null values in Synthetic Data Set"
   ]
  },
  {
   "cell_type": "code",
   "execution_count": null,
   "metadata": {
    "colab": {
     "base_uri": "https://localhost:8080/",
     "height": 543
    },
    "id": "66f75501",
    "outputId": "c2cfc8e2-6728-4cf2-f1f6-0afb9aa12d5c"
   },
   "outputs": [
    {
     "data": {
      "image/png": "[encoded data removed]",
      "text/plain": [
       "<Figure size 800x500 with 1 Axes>"
      ]
     },
     "metadata": {},
     "output_type": "display_data"
    }
   ],
   "source": [
    "# Calculate percentage of null values\n",
    "null_percentage = df.isnull().sum() / orig_df.shape[0] * 100\n",
    "# Plot\n",
    "fig, ax = plt.subplots(figsize=(8, 5))\n",
    "ax.bar(null_percentage.index, null_percentage.values)\n",
    "ax.set_title('Percentage of Null Values in Each Column')\n",
    "ax.set_ylabel('Percentage of Null Values')\n",
    "ax.set_xlabel('Columns')\n",
    "ax.set_xticklabels(null_percentage.index, rotation=90)\n",
    "plt.show()"
   ]
  },
  {
   "cell_type": "markdown",
   "metadata": {
    "id": "ddea77cc"
   },
   "source": [
    "#### Packet Count column"
   ]
  },
  {
   "cell_type": "code",
   "execution_count": null,
   "metadata": {
    "id": "5b15b966",
    "scrolled": true
   },
   "outputs": [],
   "source": [
    "# importing the necessary libraries\n",
    "import pandas as pd\n",
    "import seaborn as sns\n",
    "import matplotlib.pyplot as plt\n",
    "\n",
    "# plotting the distributions\n",
    "plt.figure(figsize=(12,7))\n",
    "sns.distplot(orig_df['pktcount'], label='Original')\n",
    "sns.distplot(df['pktcount'], label='Synthesized')\n",
    "plt.legend()\n",
    "plt.show()\n",
    "\n",
    "# checking if the distributions are same or not\n",
    "from scipy.stats import ks_2samp\n"
   ]
  },
  {
   "cell_type": "code",
   "execution_count": null,
   "metadata": {
    "colab": {
     "base_uri": "https://localhost:8080/",
     "height": 424
    },
    "id": "el3Nb6W6M7Ri",
    "outputId": "87e2f95a-20fa-41a4-b23e-15abfd63e0a4"
   },
   "outputs": [
    {
     "data": {
      "text/html": [
       "\n",
       "  <div id=\"df-bfb435df-23f2-45df-9e97-b422fa2666ee\">\n",
       "    <div class=\"colab-df-container\">\n",
       "      <div>\n",
       "<style scoped>\n",
       "    .dataframe tbody tr th:only-of-type {\n",
       "        vertical-align: middle;\n",
       "    }\n",
       "\n",
       "    .dataframe tbody tr th {\n",
       "        vertical-align: top;\n",
       "    }\n",
       "\n",
       "    .dataframe thead th {\n",
       "        text-align: right;\n",
       "    }\n",
       "</style>\n",
       "<table border=\"1\" class=\"dataframe\">\n",
       "  <thead>\n",
       "    <tr style=\"text-align: right;\">\n",
       "      <th></th>\n",
       "      <th>pktcount</th>\n",
       "      <th>bytecount</th>\n",
       "      <th>dur</th>\n",
       "      <th>flows</th>\n",
       "      <th>tot_kbps</th>\n",
       "    </tr>\n",
       "  </thead>\n",
       "  <tbody>\n",
       "    <tr>\n",
       "      <th>0</th>\n",
       "      <td>71737</td>\n",
       "      <td>21891375</td>\n",
       "      <td>1450</td>\n",
       "      <td>15</td>\n",
       "      <td>2090</td>\n",
       "    </tr>\n",
       "    <tr>\n",
       "      <th>1</th>\n",
       "      <td>36077</td>\n",
       "      <td>11684418</td>\n",
       "      <td>1065</td>\n",
       "      <td>8</td>\n",
       "      <td>1245</td>\n",
       "    </tr>\n",
       "    <tr>\n",
       "      <th>2</th>\n",
       "      <td>81861</td>\n",
       "      <td>73938202</td>\n",
       "      <td>1790</td>\n",
       "      <td>10</td>\n",
       "      <td>9082</td>\n",
       "    </tr>\n",
       "    <tr>\n",
       "      <th>3</th>\n",
       "      <td>102025</td>\n",
       "      <td>44589048</td>\n",
       "      <td>1804</td>\n",
       "      <td>12</td>\n",
       "      <td>1022</td>\n",
       "    </tr>\n",
       "    <tr>\n",
       "      <th>4</th>\n",
       "      <td>52745</td>\n",
       "      <td>81855976</td>\n",
       "      <td>1401</td>\n",
       "      <td>9</td>\n",
       "      <td>8147</td>\n",
       "    </tr>\n",
       "    <tr>\n",
       "      <th>...</th>\n",
       "      <td>...</td>\n",
       "      <td>...</td>\n",
       "      <td>...</td>\n",
       "      <td>...</td>\n",
       "      <td>...</td>\n",
       "    </tr>\n",
       "    <tr>\n",
       "      <th>87</th>\n",
       "      <td>63890</td>\n",
       "      <td>98352704</td>\n",
       "      <td>1490</td>\n",
       "      <td>11</td>\n",
       "      <td>7102</td>\n",
       "    </tr>\n",
       "    <tr>\n",
       "      <th>88</th>\n",
       "      <td>81796</td>\n",
       "      <td>78801403</td>\n",
       "      <td>1451</td>\n",
       "      <td>10</td>\n",
       "      <td>7298</td>\n",
       "    </tr>\n",
       "    <tr>\n",
       "      <th>89</th>\n",
       "      <td>91247</td>\n",
       "      <td>72630201</td>\n",
       "      <td>1403</td>\n",
       "      <td>11</td>\n",
       "      <td>8162</td>\n",
       "    </tr>\n",
       "    <tr>\n",
       "      <th>90</th>\n",
       "      <td>91586</td>\n",
       "      <td>84589103</td>\n",
       "      <td>1563</td>\n",
       "      <td>12</td>\n",
       "      <td>9062</td>\n",
       "    </tr>\n",
       "    <tr>\n",
       "      <th>91</th>\n",
       "      <td>81449</td>\n",
       "      <td>41456810</td>\n",
       "      <td>1655</td>\n",
       "      <td>10</td>\n",
       "      <td>5102</td>\n",
       "    </tr>\n",
       "  </tbody>\n",
       "</table>\n",
       "<p>92 rows × 5 columns</p>\n",
       "</div>\n",
       "      <button class=\"colab-df-convert\" onclick=\"convertToInteractive('df-bfb435df-23f2-45df-9e97-b422fa2666ee')\"\n",
       "              title=\"Convert this dataframe to an interactive table.\"\n",
       "              style=\"display:none;\">\n",
       "        \n",
       "  <svg xmlns=\"http://www.w3.org/2000/svg\" height=\"24px\"viewBox=\"0 0 24 24\"\n",
       "       width=\"24px\">\n",
       "    <path d=\"M0 0h24v24H0V0z\" fill=\"none\"/>\n",
       "    <path d=\"M18.56 5.44l.94 2.06.94-2.06 2.06-.94-2.06-.94-.94-2.06-.94 2.06-2.06.94zm-11 1L8.5 8.5l.94-2.06 2.06-.94-2.06-.94L8.5 2.5l-.94 2.06-2.06.94zm10 10l.94 2.06.94-2.06 2.06-.94-2.06-.94-.94-2.06-.94 2.06-2.06.94z\"/><path d=\"M17.41 7.96l-1.37-1.37c-.4-.4-.92-.59-1.43-.59-.52 0-1.04.2-1.43.59L10.3 9.45l-7.72 7.72c-.78.78-.78 2.05 0 2.83L4 21.41c.39.39.9.59 1.41.59.51 0 1.02-.2 1.41-.59l7.78-7.78 2.81-2.81c.8-.78.8-2.07 0-2.86zM5.41 20L4 18.59l7.72-7.72 1.47 1.35L5.41 20z\"/>\n",
       "  </svg>\n",
       "      </button>\n",
       "      \n",
       "  <style>\n",
       "    .colab-df-container {\n",
       "      display:flex;\n",
       "      flex-wrap:wrap;\n",
       "      gap: 12px;\n",
       "    }\n",
       "\n",
       "    .colab-df-convert {\n",
       "      background-color: #E8F0FE;\n",
       "      border: none;\n",
       "      border-radius: 50%;\n",
       "      cursor: pointer;\n",
       "      display: none;\n",
       "      fill: #1967D2;\n",
       "      height: 32px;\n",
       "      padding: 0 0 0 0;\n",
       "      width: 32px;\n",
       "    }\n",
       "\n",
       "    .colab-df-convert:hover {\n",
       "      background-color: #E2EBFA;\n",
       "      box-shadow: 0px 1px 2px rgba(60, 64, 67, 0.3), 0px 1px 3px 1px rgba(60, 64, 67, 0.15);\n",
       "      fill: #174EA6;\n",
       "    }\n",
       "\n",
       "    [theme=dark] .colab-df-convert {\n",
       "      background-color: #3B4455;\n",
       "      fill: #D2E3FC;\n",
       "    }\n",
       "\n",
       "    [theme=dark] .colab-df-convert:hover {\n",
       "      background-color: #434B5C;\n",
       "      box-shadow: 0px 1px 3px 1px rgba(0, 0, 0, 0.15);\n",
       "      filter: drop-shadow(0px 1px 2px rgba(0, 0, 0, 0.3));\n",
       "      fill: #FFFFFF;\n",
       "    }\n",
       "  </style>\n",
       "\n",
       "      <script>\n",
       "        const buttonEl =\n",
       "          document.querySelector('#df-bfb435df-23f2-45df-9e97-b422fa2666ee button.colab-df-convert');\n",
       "        buttonEl.style.display =\n",
       "          google.colab.kernel.accessAllowed ? 'block' : 'none';\n",
       "\n",
       "        async function convertToInteractive(key) {\n",
       "          const element = document.querySelector('#df-bfb435df-23f2-45df-9e97-b422fa2666ee');\n",
       "          const dataTable =\n",
       "            await google.colab.kernel.invokeFunction('convertToInteractive',\n",
       "                                                     [key], {});\n",
       "          if (!dataTable) return;\n",
       "\n",
       "          const docLinkHtml = 'Like what you see? Visit the ' +\n",
       "            '<a target=\"_blank\" href=https://colab.research.google.com/notebooks/data_table.ipynb>data table notebook</a>'\n",
       "            + ' to learn more about interactive tables.';\n",
       "          element.innerHTML = '';\n",
       "          dataTable['output_type'] = 'display_data';\n",
       "          await google.colab.output.renderOutput(dataTable, element);\n",
       "          const docLink = document.createElement('div');\n",
       "          docLink.innerHTML = docLinkHtml;\n",
       "          element.appendChild(docLink);\n",
       "        }\n",
       "      </script>\n",
       "    </div>\n",
       "  </div>\n",
       "  "
      ],
      "text/plain": [
       "    pktcount  bytecount   dur  flows  tot_kbps\n",
       "0      71737   21891375  1450     15      2090\n",
       "1      36077   11684418  1065      8      1245\n",
       "2      81861   73938202  1790     10      9082\n",
       "3     102025   44589048  1804     12      1022\n",
       "4      52745   81855976  1401      9      8147\n",
       "..       ...        ...   ...    ...       ...\n",
       "87     63890   98352704  1490     11      7102\n",
       "88     81796   78801403  1451     10      7298\n",
       "89     91247   72630201  1403     11      8162\n",
       "90     91586   84589103  1563     12      9062\n",
       "91     81449   41456810  1655     10      5102\n",
       "\n",
       "[92 rows x 5 columns]"
      ]
     },
     "execution_count": 25,
     "metadata": {},
     "output_type": "execute_result"
    }
   ],
   "source": [
    "df"
   ]
  },
  {
   "cell_type": "code",
   "execution_count": null,
   "metadata": {
    "id": "y9ZrBAArHd91"
   },
   "outputs": [],
   "source": [
    "pd.DataFrame(ks_2samp(orig_df['pktcount'], df['pktcount']))"
   ]
  },
  {
   "cell_type": "code",
   "execution_count": null,
   "metadata": {
    "colab": {
     "base_uri": "https://localhost:8080/"
    },
    "id": "k1Aagqz8MnWb",
    "outputId": "b733b605-ba08-467e-ed56-3526aa41ab69"
   },
   "outputs": [
    {
     "name": "stdout",
     "output_type": "stream",
     "text": [
      "Chi-square statistic: 0.0\n",
      "P-value: 1.0\n",
      "Degrees of freedom: 1\n",
      "Expected frequencies:\n",
      "[[45.5 45.5]\n",
      " [ 0.5  0.5]]\n"
     ]
    }
   ],
   "source": [
    "from scipy.stats import chi2_contingency\n",
    "observed = pd.crosstab(orig_df['label'], df['label'])\n",
    "\n",
    "# Perform the chi-square test\n",
    "chi2, p_value, dof, expected = chi2_contingency(observed)\n",
    "\n",
    "# Print the results\n",
    "print(\"Chi-square statistic:\", chi2)\n",
    "print(\"P-value:\", p_value)\n",
    "print(\"Degrees of freedom:\", dof)\n",
    "print(\"Expected frequencies:\")\n",
    "print(expected)"
   ]
  },
  {
   "cell_type": "markdown",
   "metadata": {
    "id": "f1e7c675"
   },
   "source": [
    "#### Byte count"
   ]
  },
  {
   "cell_type": "code",
   "execution_count": null,
   "metadata": {
    "colab": {
     "base_uri": "https://localhost:8080/",
     "height": 616
    },
    "id": "022fdea9",
    "outputId": "b328a58a-986c-4ef1-9ee8-b5408f39b80e"
   },
   "outputs": [
    {
     "data": {
      "image/png": "[encoded data removed]",
      "text/plain": [
       "<Figure size 1200x700 with 1 Axes>"
      ]
     },
     "metadata": {},
     "output_type": "display_data"
    },
    {
     "data": {
      "text/plain": [
       "KstestResult(statistic=0.9238095238095239, pvalue=7.96373129899601e-118, statistic_location=147128002.0, statistic_sign=1)"
      ]
     },
     "execution_count": 13,
     "metadata": {},
     "output_type": "execute_result"
    }
   ],
   "source": [
    "# importing the necessary libraries\n",
    "import pandas as pd\n",
    "import seaborn as sns\n",
    "import matplotlib.pyplot as plt\n",
    "\n",
    "# plotting the distributions\n",
    "plt.figure(figsize=(12,7))\n",
    "sns.distplot(orig_df['bytecount'], label='Original')\n",
    "sns.distplot(df['bytecount'], label='Synthesized')\n",
    "plt.legend()\n",
    "plt.show()\n",
    "\n",
    "# checking if the distributions are same or not\n",
    "from scipy.stats import ks_2samp\n",
    "ks_2samp(orig_df['bytecount'], df['bytecount'])"
   ]
  },
  {
   "cell_type": "markdown",
   "metadata": {
    "id": "4dba1c13"
   },
   "source": [
    "#### Duration"
   ]
  },
  {
   "cell_type": "code",
   "execution_count": null,
   "metadata": {
    "colab": {
     "base_uri": "https://localhost:8080/",
     "height": 592
    },
    "id": "8f5b1a0e",
    "outputId": "cbd8df53-f41f-4683-9806-31727ecf3785"
   },
   "outputs": [
    {
     "data": {
      "image/png": "[encoded data removed]",
      "text/plain": [
       "<Figure size 1200x700 with 1 Axes>"
      ]
     },
     "metadata": {},
     "output_type": "display_data"
    },
    {
     "data": {
      "text/plain": [
       "KstestResult(statistic=0.297131995737583, pvalue=1.0298301059842427e-08, statistic_location=154.0, statistic_sign=1)"
      ]
     },
     "execution_count": 14,
     "metadata": {},
     "output_type": "execute_result"
    }
   ],
   "source": [
    "# importing the necessary libraries\n",
    "import pandas as pd\n",
    "import seaborn as sns\n",
    "import matplotlib.pyplot as plt\n",
    "\n",
    "# plotting the distributions\n",
    "plt.figure(figsize=(12,7))\n",
    "sns.distplot(orig_df['dur'], label='Original')\n",
    "sns.distplot(df['dur'], label='Synthesized')\n",
    "plt.legend()\n",
    "plt.show()\n",
    "\n",
    "# checking if the distributions are same or not\n",
    "from scipy.stats import ks_2samp\n",
    "ks_2samp(orig_df['dur'], df['dur'])"
   ]
  },
  {
   "cell_type": "markdown",
   "metadata": {
    "id": "As48iwJW5386"
   },
   "source": [
    "#### Flows Column Distribution"
   ]
  },
  {
   "cell_type": "code",
   "execution_count": null,
   "metadata": {
    "colab": {
     "base_uri": "https://localhost:8080/",
     "height": 602
    },
    "id": "b1fb73cf",
    "outputId": "ab769dc1-801d-44fb-929e-678257193f41"
   },
   "outputs": [
    {
     "data": {
      "image/png": "[encoded data removed]",
      "text/plain": [
       "<Figure size 1200x700 with 1 Axes>"
      ]
     },
     "metadata": {},
     "output_type": "display_data"
    },
    {
     "data": {
      "text/plain": [
       "KstestResult(statistic=0.1941106539889424, pvalue=0.0006107992416055407, statistic_location=4.0, statistic_sign=-1)"
      ]
     },
     "execution_count": 15,
     "metadata": {},
     "output_type": "execute_result"
    }
   ],
   "source": [
    "# importing the necessary libraries\n",
    "import pandas as pd\n",
    "import seaborn as sns\n",
    "import matplotlib.pyplot as plt\n",
    "\n",
    "# plotting the distributions\n",
    "plt.figure(figsize=(12,7))\n",
    "sns.distplot(orig_df['flows'], label='Original')\n",
    "sns.distplot(df['flows'], label='Synthesized')\n",
    "plt.legend()\n",
    "plt.show()\n",
    "\n",
    "# checking if the distributions are same or not\n",
    "from scipy.stats import ks_2samp\n",
    "ks_2samp(orig_df['flows'], df['flows'])"
   ]
  },
  {
   "cell_type": "markdown",
   "metadata": {
    "id": "CN0P-qvx58v3"
   },
   "source": [
    "#### tot_kbps distribution"
   ]
  },
  {
   "cell_type": "code",
   "execution_count": null,
   "metadata": {
    "colab": {
     "base_uri": "https://localhost:8080/",
     "height": 584
    },
    "id": "24dab5ad",
    "outputId": "cb0c8501-e25a-45df-f2de-329c60130d8a"
   },
   "outputs": [
    {
     "data": {
      "image/png": "[encoded data removed]",
      "text/plain": [
       "<Figure size 1200x700 with 1 Axes>"
      ]
     },
     "metadata": {},
     "output_type": "display_data"
    },
    {
     "data": {
      "text/plain": [
       "KstestResult(statistic=0.2772387387079035, pvalue=1.2577902805099909e-07, statistic_location=4.0, statistic_sign=-1)"
      ]
     },
     "execution_count": 16,
     "metadata": {},
     "output_type": "execute_result"
    }
   ],
   "source": [
    "# importing the necessary libraries\n",
    "import pandas as pd\n",
    "import seaborn as sns\n",
    "import matplotlib.pyplot as plt\n",
    "\n",
    "# loading the data\n",
    "# original_df = pd.read_csv('Original_Data.csv')\n",
    "# synthesized_df = pd.read_csv('Synthesized_Data.csv')\n",
    "\n",
    "# plotting the distributions\n",
    "plt.figure(figsize=(12,7))\n",
    "sns.distplot(orig_df['tot_kbps'], label='Original')\n",
    "sns.distplot(df['tot_kbps'], label='Synthesized')\n",
    "plt.legend()\n",
    "plt.show()\n",
    "\n",
    "# checking if the distributions are same or not\n",
    "from scipy.stats import ks_2samp\n",
    "ks_2samp(orig_df['tot_kbps'], df['tot_kbps'])"
   ]
  },
  {
   "cell_type": "code",
   "execution_count": null,
   "metadata": {
    "colab": {
     "base_uri": "https://localhost:8080/"
    },
    "id": "ZbcLssCK6B79",
    "outputId": "79c3253c-a625-4dc8-f8e8-82917ebcfbbb"
   },
   "outputs": [
    {
     "name": "stdout",
     "output_type": "stream",
     "text": [
      "Distribution of label:\n",
      "0    0.609143\n",
      "1    0.390857\n",
      "Name: label, dtype: float64\n",
      "Distribution of category:\n",
      "1.0    0.5\n",
      "0.0    0.5\n",
      "Name: label, dtype: float64\n"
     ]
    }
   ],
   "source": [
    "# Calculate the distribution of both categorical columns\n",
    "\n",
    "# Calculating distribution of 'label'\n",
    "labels_dist = orig_df['label'].value_counts(normalize=True)\n",
    "\n",
    "# Calculating distribution of 'category'\n",
    "category_dist = df['label'].value_counts(normalize=True)\n",
    "\n",
    "# Print the result\n",
    "print('Distribution of label:')\n",
    "print(labels_dist)\n",
    "\n",
    "print('Distribution of category:')\n",
    "print(category_dist)"
   ]
  },
  {
   "cell_type": "markdown",
   "metadata": {},
   "source": [
    "#### outliers removal"
   ]
  },
  {
   "cell_type": "code",
   "execution_count": 20,
   "metadata": {},
   "outputs": [
    {
     "name": "stdout",
     "output_type": "stream",
     "text": [
      "dt\n",
      "switch\n",
      "src\n",
      "dst\n",
      "pktcount\n",
      "bytecount\n",
      "dur\n",
      "dur_nsec\n",
      "tot_dur\n",
      "tot_dur\n",
      "           dt  switch        src       dst  pktcount  bytecount  dur  \\\n",
      "0       11425       1   10.0.0.1  10.0.0.8     45304   48294064  100   \n",
      "1       11605       1   10.0.0.1  10.0.0.8    126395  134737070  280   \n",
      "2       11425       1   10.0.0.2  10.0.0.8     90333   96294978  200   \n",
      "3       11425       1   10.0.0.2  10.0.0.8     90333   96294978  200   \n",
      "4       11425       1   10.0.0.2  10.0.0.8     90333   96294978  200   \n",
      "...       ...     ...        ...       ...       ...        ...  ...   \n",
      "103834   5262       3   10.0.0.5  10.0.0.7        79       7742   81   \n",
      "103835   5262       3   10.0.0.5  10.0.0.7        79       7742   81   \n",
      "103836   5262       3  10.0.0.11  10.0.0.5        31       3038   31   \n",
      "103837   5262       3  10.0.0.11  10.0.0.5        31       3038   31   \n",
      "103838   5262       3  10.0.0.11  10.0.0.5        31       3038   31   \n",
      "\n",
      "         dur_nsec       tot_dur  flows  ...  pktrate  Pairflow  Protocol  \\\n",
      "0       716000000  1.010000e+11      3  ...      451         0       UDP   \n",
      "1       734000000  2.810000e+11      2  ...      451         0       UDP   \n",
      "2       744000000  2.010000e+11      3  ...      451         0       UDP   \n",
      "3       744000000  2.010000e+11      3  ...      451         0       UDP   \n",
      "4       744000000  2.010000e+11      3  ...      451         0       UDP   \n",
      "...           ...           ...    ...  ...      ...       ...       ...   \n",
      "103834  842000000  8.184200e+10      5  ...        0         0      ICMP   \n",
      "103835  842000000  8.184200e+10      5  ...        0         0      ICMP   \n",
      "103836  805000000  3.180500e+10      5  ...        1         0      ICMP   \n",
      "103837  805000000  3.180500e+10      5  ...        1         0      ICMP   \n",
      "103838  805000000  3.180500e+10      5  ...        1         0      ICMP   \n",
      "\n",
      "        port_no   tx_bytes rx_bytes  tx_kbps  rx_kbps  tot_kbps  label  \n",
      "0             3  143928631     3917        0      0.0       0.0      0  \n",
      "1             4       3842     3520        0      0.0       0.0      0  \n",
      "2             1       3795     1242        0      0.0       0.0      0  \n",
      "3             2       3688     1492        0      0.0       0.0      0  \n",
      "4             3       3413     3665        0      0.0       0.0      0  \n",
      "...         ...        ...      ...      ...      ...       ...    ...  \n",
      "103834        1      15209    12720        1      1.0       2.0      0  \n",
      "103835        3      15099    14693        1      1.0       2.0      0  \n",
      "103836        2       3409     3731        0      0.0       0.0      0  \n",
      "103837        1      15209    12720        1      1.0       2.0      0  \n",
      "103838        3      15099    14693        1      1.0       2.0      0  \n",
      "\n",
      "[96157 rows x 23 columns]\n",
      "flows\n",
      "packetins\n",
      "pktperflow\n",
      "byteperflow\n",
      "pktrate\n",
      "Pairflow\n",
      "Protocol\n",
      "port_no\n",
      "tx_bytes\n",
      "rx_bytes\n",
      "tx_kbps\n",
      "rx_kbps\n",
      "rx_kbps\n",
      "           dt  switch        src       dst  pktcount  bytecount  dur  \\\n",
      "0       11425       1   10.0.0.1  10.0.0.8     45304   48294064  100   \n",
      "1       11605       1   10.0.0.1  10.0.0.8    126395  134737070  280   \n",
      "2       11425       1   10.0.0.2  10.0.0.8     90333   96294978  200   \n",
      "3       11425       1   10.0.0.2  10.0.0.8     90333   96294978  200   \n",
      "4       11425       1   10.0.0.2  10.0.0.8     90333   96294978  200   \n",
      "...       ...     ...        ...       ...       ...        ...  ...   \n",
      "103834   5262       3   10.0.0.5  10.0.0.7        79       7742   81   \n",
      "103835   5262       3   10.0.0.5  10.0.0.7        79       7742   81   \n",
      "103836   5262       3  10.0.0.11  10.0.0.5        31       3038   31   \n",
      "103837   5262       3  10.0.0.11  10.0.0.5        31       3038   31   \n",
      "103838   5262       3  10.0.0.11  10.0.0.5        31       3038   31   \n",
      "\n",
      "         dur_nsec       tot_dur  flows  ...  pktrate  Pairflow  Protocol  \\\n",
      "0       716000000  1.010000e+11      3  ...      451         0       UDP   \n",
      "1       734000000  2.810000e+11      2  ...      451         0       UDP   \n",
      "2       744000000  2.010000e+11      3  ...      451         0       UDP   \n",
      "3       744000000  2.010000e+11      3  ...      451         0       UDP   \n",
      "4       744000000  2.010000e+11      3  ...      451         0       UDP   \n",
      "...           ...           ...    ...  ...      ...       ...       ...   \n",
      "103834  842000000  8.184200e+10      5  ...        0         0      ICMP   \n",
      "103835  842000000  8.184200e+10      5  ...        0         0      ICMP   \n",
      "103836  805000000  3.180500e+10      5  ...        1         0      ICMP   \n",
      "103837  805000000  3.180500e+10      5  ...        1         0      ICMP   \n",
      "103838  805000000  3.180500e+10      5  ...        1         0      ICMP   \n",
      "\n",
      "        port_no   tx_bytes rx_bytes  tx_kbps  rx_kbps  tot_kbps  label  \n",
      "0             3  143928631     3917        0      0.0       0.0      0  \n",
      "1             4       3842     3520        0      0.0       0.0      0  \n",
      "2             1       3795     1242        0      0.0       0.0      0  \n",
      "3             2       3688     1492        0      0.0       0.0      0  \n",
      "4             3       3413     3665        0      0.0       0.0      0  \n",
      "...         ...        ...      ...      ...      ...       ...    ...  \n",
      "103834        1      15209    12720        1      1.0       2.0      0  \n",
      "103835        3      15099    14693        1      1.0       2.0      0  \n",
      "103836        2       3409     3731        0      0.0       0.0      0  \n",
      "103837        1      15209    12720        1      1.0       2.0      0  \n",
      "103838        3      15099    14693        1      1.0       2.0      0  \n",
      "\n",
      "[79962 rows x 23 columns]\n",
      "tot_kbps\n",
      "tot_kbps\n",
      "           dt  switch        src       dst  pktcount  bytecount  dur  \\\n",
      "0       11425       1   10.0.0.1  10.0.0.8     45304   48294064  100   \n",
      "1       11605       1   10.0.0.1  10.0.0.8    126395  134737070  280   \n",
      "2       11425       1   10.0.0.2  10.0.0.8     90333   96294978  200   \n",
      "3       11425       1   10.0.0.2  10.0.0.8     90333   96294978  200   \n",
      "4       11425       1   10.0.0.2  10.0.0.8     90333   96294978  200   \n",
      "...       ...     ...        ...       ...       ...        ...  ...   \n",
      "103834   5262       3   10.0.0.5  10.0.0.7        79       7742   81   \n",
      "103835   5262       3   10.0.0.5  10.0.0.7        79       7742   81   \n",
      "103836   5262       3  10.0.0.11  10.0.0.5        31       3038   31   \n",
      "103837   5262       3  10.0.0.11  10.0.0.5        31       3038   31   \n",
      "103838   5262       3  10.0.0.11  10.0.0.5        31       3038   31   \n",
      "\n",
      "         dur_nsec       tot_dur  flows  ...  pktrate  Pairflow  Protocol  \\\n",
      "0       716000000  1.010000e+11      3  ...      451         0       UDP   \n",
      "1       734000000  2.810000e+11      2  ...      451         0       UDP   \n",
      "2       744000000  2.010000e+11      3  ...      451         0       UDP   \n",
      "3       744000000  2.010000e+11      3  ...      451         0       UDP   \n",
      "4       744000000  2.010000e+11      3  ...      451         0       UDP   \n",
      "...           ...           ...    ...  ...      ...       ...       ...   \n",
      "103834  842000000  8.184200e+10      5  ...        0         0      ICMP   \n",
      "103835  842000000  8.184200e+10      5  ...        0         0      ICMP   \n",
      "103836  805000000  3.180500e+10      5  ...        1         0      ICMP   \n",
      "103837  805000000  3.180500e+10      5  ...        1         0      ICMP   \n",
      "103838  805000000  3.180500e+10      5  ...        1         0      ICMP   \n",
      "\n",
      "        port_no   tx_bytes rx_bytes  tx_kbps  rx_kbps  tot_kbps  label  \n",
      "0             3  143928631     3917        0      0.0       0.0      0  \n",
      "1             4       3842     3520        0      0.0       0.0      0  \n",
      "2             1       3795     1242        0      0.0       0.0      0  \n",
      "3             2       3688     1492        0      0.0       0.0      0  \n",
      "4             3       3413     3665        0      0.0       0.0      0  \n",
      "...         ...        ...      ...      ...      ...       ...    ...  \n",
      "103834        1      15209    12720        1      1.0       2.0      0  \n",
      "103835        3      15099    14693        1      1.0       2.0      0  \n",
      "103836        2       3409     3731        0      0.0       0.0      0  \n",
      "103837        1      15209    12720        1      1.0       2.0      0  \n",
      "103838        3      15099    14693        1      1.0       2.0      0  \n",
      "\n",
      "[99255 rows x 23 columns]\n",
      "label\n"
     ]
    },
    {
     "data": {
      "text/html": [
       "<div>\n",
       "<style scoped>\n",
       "    .dataframe tbody tr th:only-of-type {\n",
       "        vertical-align: middle;\n",
       "    }\n",
       "\n",
       "    .dataframe tbody tr th {\n",
       "        vertical-align: top;\n",
       "    }\n",
       "\n",
       "    .dataframe thead th {\n",
       "        text-align: right;\n",
       "    }\n",
       "</style>\n",
       "<table border=\"1\" class=\"dataframe\">\n",
       "  <thead>\n",
       "    <tr style=\"text-align: right;\">\n",
       "      <th></th>\n",
       "      <th>dt</th>\n",
       "      <th>switch</th>\n",
       "      <th>src</th>\n",
       "      <th>dst</th>\n",
       "      <th>pktcount</th>\n",
       "      <th>bytecount</th>\n",
       "      <th>dur</th>\n",
       "      <th>dur_nsec</th>\n",
       "      <th>tot_dur</th>\n",
       "      <th>flows</th>\n",
       "      <th>...</th>\n",
       "      <th>pktrate</th>\n",
       "      <th>Pairflow</th>\n",
       "      <th>Protocol</th>\n",
       "      <th>port_no</th>\n",
       "      <th>tx_bytes</th>\n",
       "      <th>rx_bytes</th>\n",
       "      <th>tx_kbps</th>\n",
       "      <th>rx_kbps</th>\n",
       "      <th>tot_kbps</th>\n",
       "      <th>label</th>\n",
       "    </tr>\n",
       "  </thead>\n",
       "  <tbody>\n",
       "    <tr>\n",
       "      <th>0</th>\n",
       "      <td>11425</td>\n",
       "      <td>1</td>\n",
       "      <td>10.0.0.1</td>\n",
       "      <td>10.0.0.8</td>\n",
       "      <td>45304</td>\n",
       "      <td>48294064</td>\n",
       "      <td>100</td>\n",
       "      <td>716000000</td>\n",
       "      <td>1.010000e+11</td>\n",
       "      <td>3</td>\n",
       "      <td>...</td>\n",
       "      <td>451</td>\n",
       "      <td>0</td>\n",
       "      <td>UDP</td>\n",
       "      <td>3</td>\n",
       "      <td>143928631</td>\n",
       "      <td>3917</td>\n",
       "      <td>0</td>\n",
       "      <td>0.0</td>\n",
       "      <td>0.0</td>\n",
       "      <td>0</td>\n",
       "    </tr>\n",
       "    <tr>\n",
       "      <th>1</th>\n",
       "      <td>11605</td>\n",
       "      <td>1</td>\n",
       "      <td>10.0.0.1</td>\n",
       "      <td>10.0.0.8</td>\n",
       "      <td>126395</td>\n",
       "      <td>134737070</td>\n",
       "      <td>280</td>\n",
       "      <td>734000000</td>\n",
       "      <td>2.810000e+11</td>\n",
       "      <td>2</td>\n",
       "      <td>...</td>\n",
       "      <td>451</td>\n",
       "      <td>0</td>\n",
       "      <td>UDP</td>\n",
       "      <td>4</td>\n",
       "      <td>3842</td>\n",
       "      <td>3520</td>\n",
       "      <td>0</td>\n",
       "      <td>0.0</td>\n",
       "      <td>0.0</td>\n",
       "      <td>0</td>\n",
       "    </tr>\n",
       "    <tr>\n",
       "      <th>2</th>\n",
       "      <td>11425</td>\n",
       "      <td>1</td>\n",
       "      <td>10.0.0.2</td>\n",
       "      <td>10.0.0.8</td>\n",
       "      <td>90333</td>\n",
       "      <td>96294978</td>\n",
       "      <td>200</td>\n",
       "      <td>744000000</td>\n",
       "      <td>2.010000e+11</td>\n",
       "      <td>3</td>\n",
       "      <td>...</td>\n",
       "      <td>451</td>\n",
       "      <td>0</td>\n",
       "      <td>UDP</td>\n",
       "      <td>1</td>\n",
       "      <td>3795</td>\n",
       "      <td>1242</td>\n",
       "      <td>0</td>\n",
       "      <td>0.0</td>\n",
       "      <td>0.0</td>\n",
       "      <td>0</td>\n",
       "    </tr>\n",
       "    <tr>\n",
       "      <th>3</th>\n",
       "      <td>11425</td>\n",
       "      <td>1</td>\n",
       "      <td>10.0.0.2</td>\n",
       "      <td>10.0.0.8</td>\n",
       "      <td>90333</td>\n",
       "      <td>96294978</td>\n",
       "      <td>200</td>\n",
       "      <td>744000000</td>\n",
       "      <td>2.010000e+11</td>\n",
       "      <td>3</td>\n",
       "      <td>...</td>\n",
       "      <td>451</td>\n",
       "      <td>0</td>\n",
       "      <td>UDP</td>\n",
       "      <td>2</td>\n",
       "      <td>3688</td>\n",
       "      <td>1492</td>\n",
       "      <td>0</td>\n",
       "      <td>0.0</td>\n",
       "      <td>0.0</td>\n",
       "      <td>0</td>\n",
       "    </tr>\n",
       "    <tr>\n",
       "      <th>4</th>\n",
       "      <td>11425</td>\n",
       "      <td>1</td>\n",
       "      <td>10.0.0.2</td>\n",
       "      <td>10.0.0.8</td>\n",
       "      <td>90333</td>\n",
       "      <td>96294978</td>\n",
       "      <td>200</td>\n",
       "      <td>744000000</td>\n",
       "      <td>2.010000e+11</td>\n",
       "      <td>3</td>\n",
       "      <td>...</td>\n",
       "      <td>451</td>\n",
       "      <td>0</td>\n",
       "      <td>UDP</td>\n",
       "      <td>3</td>\n",
       "      <td>3413</td>\n",
       "      <td>3665</td>\n",
       "      <td>0</td>\n",
       "      <td>0.0</td>\n",
       "      <td>0.0</td>\n",
       "      <td>0</td>\n",
       "    </tr>\n",
       "    <tr>\n",
       "      <th>...</th>\n",
       "      <td>...</td>\n",
       "      <td>...</td>\n",
       "      <td>...</td>\n",
       "      <td>...</td>\n",
       "      <td>...</td>\n",
       "      <td>...</td>\n",
       "      <td>...</td>\n",
       "      <td>...</td>\n",
       "      <td>...</td>\n",
       "      <td>...</td>\n",
       "      <td>...</td>\n",
       "      <td>...</td>\n",
       "      <td>...</td>\n",
       "      <td>...</td>\n",
       "      <td>...</td>\n",
       "      <td>...</td>\n",
       "      <td>...</td>\n",
       "      <td>...</td>\n",
       "      <td>...</td>\n",
       "      <td>...</td>\n",
       "      <td>...</td>\n",
       "    </tr>\n",
       "    <tr>\n",
       "      <th>103834</th>\n",
       "      <td>5262</td>\n",
       "      <td>3</td>\n",
       "      <td>10.0.0.5</td>\n",
       "      <td>10.0.0.7</td>\n",
       "      <td>79</td>\n",
       "      <td>7742</td>\n",
       "      <td>81</td>\n",
       "      <td>842000000</td>\n",
       "      <td>8.184200e+10</td>\n",
       "      <td>5</td>\n",
       "      <td>...</td>\n",
       "      <td>0</td>\n",
       "      <td>0</td>\n",
       "      <td>ICMP</td>\n",
       "      <td>1</td>\n",
       "      <td>15209</td>\n",
       "      <td>12720</td>\n",
       "      <td>1</td>\n",
       "      <td>1.0</td>\n",
       "      <td>2.0</td>\n",
       "      <td>0</td>\n",
       "    </tr>\n",
       "    <tr>\n",
       "      <th>103835</th>\n",
       "      <td>5262</td>\n",
       "      <td>3</td>\n",
       "      <td>10.0.0.5</td>\n",
       "      <td>10.0.0.7</td>\n",
       "      <td>79</td>\n",
       "      <td>7742</td>\n",
       "      <td>81</td>\n",
       "      <td>842000000</td>\n",
       "      <td>8.184200e+10</td>\n",
       "      <td>5</td>\n",
       "      <td>...</td>\n",
       "      <td>0</td>\n",
       "      <td>0</td>\n",
       "      <td>ICMP</td>\n",
       "      <td>3</td>\n",
       "      <td>15099</td>\n",
       "      <td>14693</td>\n",
       "      <td>1</td>\n",
       "      <td>1.0</td>\n",
       "      <td>2.0</td>\n",
       "      <td>0</td>\n",
       "    </tr>\n",
       "    <tr>\n",
       "      <th>103836</th>\n",
       "      <td>5262</td>\n",
       "      <td>3</td>\n",
       "      <td>10.0.0.11</td>\n",
       "      <td>10.0.0.5</td>\n",
       "      <td>31</td>\n",
       "      <td>3038</td>\n",
       "      <td>31</td>\n",
       "      <td>805000000</td>\n",
       "      <td>3.180500e+10</td>\n",
       "      <td>5</td>\n",
       "      <td>...</td>\n",
       "      <td>1</td>\n",
       "      <td>0</td>\n",
       "      <td>ICMP</td>\n",
       "      <td>2</td>\n",
       "      <td>3409</td>\n",
       "      <td>3731</td>\n",
       "      <td>0</td>\n",
       "      <td>0.0</td>\n",
       "      <td>0.0</td>\n",
       "      <td>0</td>\n",
       "    </tr>\n",
       "    <tr>\n",
       "      <th>103837</th>\n",
       "      <td>5262</td>\n",
       "      <td>3</td>\n",
       "      <td>10.0.0.11</td>\n",
       "      <td>10.0.0.5</td>\n",
       "      <td>31</td>\n",
       "      <td>3038</td>\n",
       "      <td>31</td>\n",
       "      <td>805000000</td>\n",
       "      <td>3.180500e+10</td>\n",
       "      <td>5</td>\n",
       "      <td>...</td>\n",
       "      <td>1</td>\n",
       "      <td>0</td>\n",
       "      <td>ICMP</td>\n",
       "      <td>1</td>\n",
       "      <td>15209</td>\n",
       "      <td>12720</td>\n",
       "      <td>1</td>\n",
       "      <td>1.0</td>\n",
       "      <td>2.0</td>\n",
       "      <td>0</td>\n",
       "    </tr>\n",
       "    <tr>\n",
       "      <th>103838</th>\n",
       "      <td>5262</td>\n",
       "      <td>3</td>\n",
       "      <td>10.0.0.11</td>\n",
       "      <td>10.0.0.5</td>\n",
       "      <td>31</td>\n",
       "      <td>3038</td>\n",
       "      <td>31</td>\n",
       "      <td>805000000</td>\n",
       "      <td>3.180500e+10</td>\n",
       "      <td>5</td>\n",
       "      <td>...</td>\n",
       "      <td>1</td>\n",
       "      <td>0</td>\n",
       "      <td>ICMP</td>\n",
       "      <td>3</td>\n",
       "      <td>15099</td>\n",
       "      <td>14693</td>\n",
       "      <td>1</td>\n",
       "      <td>1.0</td>\n",
       "      <td>2.0</td>\n",
       "      <td>0</td>\n",
       "    </tr>\n",
       "  </tbody>\n",
       "</table>\n",
       "<p>99255 rows × 23 columns</p>\n",
       "</div>"
      ],
      "text/plain": [
       "           dt  switch        src       dst  pktcount  bytecount  dur  \\\n",
       "0       11425       1   10.0.0.1  10.0.0.8     45304   48294064  100   \n",
       "1       11605       1   10.0.0.1  10.0.0.8    126395  134737070  280   \n",
       "2       11425       1   10.0.0.2  10.0.0.8     90333   96294978  200   \n",
       "3       11425       1   10.0.0.2  10.0.0.8     90333   96294978  200   \n",
       "4       11425       1   10.0.0.2  10.0.0.8     90333   96294978  200   \n",
       "...       ...     ...        ...       ...       ...        ...  ...   \n",
       "103834   5262       3   10.0.0.5  10.0.0.7        79       7742   81   \n",
       "103835   5262       3   10.0.0.5  10.0.0.7        79       7742   81   \n",
       "103836   5262       3  10.0.0.11  10.0.0.5        31       3038   31   \n",
       "103837   5262       3  10.0.0.11  10.0.0.5        31       3038   31   \n",
       "103838   5262       3  10.0.0.11  10.0.0.5        31       3038   31   \n",
       "\n",
       "         dur_nsec       tot_dur  flows  ...  pktrate  Pairflow  Protocol  \\\n",
       "0       716000000  1.010000e+11      3  ...      451         0       UDP   \n",
       "1       734000000  2.810000e+11      2  ...      451         0       UDP   \n",
       "2       744000000  2.010000e+11      3  ...      451         0       UDP   \n",
       "3       744000000  2.010000e+11      3  ...      451         0       UDP   \n",
       "4       744000000  2.010000e+11      3  ...      451         0       UDP   \n",
       "...           ...           ...    ...  ...      ...       ...       ...   \n",
       "103834  842000000  8.184200e+10      5  ...        0         0      ICMP   \n",
       "103835  842000000  8.184200e+10      5  ...        0         0      ICMP   \n",
       "103836  805000000  3.180500e+10      5  ...        1         0      ICMP   \n",
       "103837  805000000  3.180500e+10      5  ...        1         0      ICMP   \n",
       "103838  805000000  3.180500e+10      5  ...        1         0      ICMP   \n",
       "\n",
       "        port_no   tx_bytes rx_bytes  tx_kbps  rx_kbps  tot_kbps  label  \n",
       "0             3  143928631     3917        0      0.0       0.0      0  \n",
       "1             4       3842     3520        0      0.0       0.0      0  \n",
       "2             1       3795     1242        0      0.0       0.0      0  \n",
       "3             2       3688     1492        0      0.0       0.0      0  \n",
       "4             3       3413     3665        0      0.0       0.0      0  \n",
       "...         ...        ...      ...      ...      ...       ...    ...  \n",
       "103834        1      15209    12720        1      1.0       2.0      0  \n",
       "103835        3      15099    14693        1      1.0       2.0      0  \n",
       "103836        2       3409     3731        0      0.0       0.0      0  \n",
       "103837        1      15209    12720        1      1.0       2.0      0  \n",
       "103838        3      15099    14693        1      1.0       2.0      0  \n",
       "\n",
       "[99255 rows x 23 columns]"
      ]
     },
     "execution_count": 20,
     "metadata": {},
     "output_type": "execute_result"
    }
   ],
   "source": [
    "# Define function to remove outliers  \n",
    "def remove_outliers(df, col_name):  \n",
    "    # Calculate Q1, Q3 and IQR  \n",
    "    Q1 = df[col_name].quantile(0.25)  \n",
    "    Q3 = df[col_name].quantile(0.75)  \n",
    "    IQR = Q3 - Q1  \n",
    "    # Calculate the lower and upper bounds  \n",
    "    lower_bound = Q1 - 1.5 * IQR  \n",
    "    upper_bound = Q3 + 1.5 * IQR        \n",
    "    # Remove the outliers  \n",
    "    df = df[(df[col_name] > lower_bound) & (df[col_name] < upper_bound)]        \n",
    "    return df  \n",
    "df_out = pd.DataFrame()\n",
    "for col_name in orig_df.columns:\n",
    "    print(col_name)\n",
    "    if orig_df[col_name].dtype in [int,float]:\n",
    "        print(col_name)\n",
    "        df_out = remove_outliers(orig_df, col_name)\n",
    "        print(df_out)\n",
    "df_out"
   ]
  },
  {
   "cell_type": "code",
   "execution_count": 21,
   "metadata": {},
   "outputs": [],
   "source": [
    "df_out.to_csv(\"outlier_removed_data.csv\",index=False)"
   ]
  },
  {
   "cell_type": "code",
   "execution_count": 24,
   "metadata": {},
   "outputs": [],
   "source": [
    "def distribution(df,n_rows=10):\n",
    "    df = df.drop([\"src\",\"dst\"],axis=1)\n",
    "    class_0 = df[df.label == 0]\n",
    "    class_1 = df[df.label == 1]\n",
    "    class0_indices = random.sample(range(len(class_0)), n_rows//2)  \n",
    "    class1_indices = random.sample(range(len(class_1)), n_rows//2)\n",
    "    class0Df = class_0.iloc[class0_indices] \n",
    "    class1Df = class_1.iloc[class1_indices]\n",
    "    all_rows = \",\".join(df.columns.values)+\"\\n\"\n",
    "    for i,row in class0Df.iterrows():\n",
    "        all_rows += \",\".join([str(i) for i in row.values])+\"\\n\"\n",
    "    for i,row in class1Df.iterrows():\n",
    "        all_rows += \",\".join([str(i) for i in row.values])+\"\\n\"\n",
    "    return all_rows\n",
    "\n",
    "def getStats(df):\n",
    "    tempDf = pd.DataFrame(df.drop([\"src\",\"dst\",\"label\"],axis=1).describe()).reset_index()\n",
    "    all_rows = \",\".join(tempDf.columns)+\"\\n\"\n",
    "    for i,row in tempDf.iterrows():\n",
    "        all_rows += \",\".join([str(i).split(\".\")[0] for i in row.values])+\"\\n\"\n",
    "    return all_rows\n",
    "\n",
    "def chatGPT_Response(user_prompt,max_token):\n",
    "    max_token = max_token \n",
    "    Modified_response = openai.Completion.create(engine =\"TD3\",prompt=user_prompt,\n",
    "                                               max_tokens=max_token,temperature=0.5)\n",
    "    return Modified_response.choices[0].text.lstrip(), Modified_response"
   ]
  },
  {
   "cell_type": "code",
   "execution_count": null,
   "metadata": {},
   "outputs": [],
   "source": [
    "def drop_outliers(df, z_thresh=3):  \n",
    "    \"\"\"  \n",
    "    Drop outliers from all columns of a dataframe using the z-score method.  \n",
    "    \"\"\"  \n",
    "    # Loop through each column  \n",
    "    for col in df.columns:  \n",
    "        # Calculate the z-score for each value in the column  \n",
    "        z_scores = np.abs((df[col] - df[col].mean()) / df[col].std())  \n",
    "        # Drop rows where the z-score is greater than the threshold  \n",
    "        df = df[z_scores < z_thresh]  \n",
    "    return df  "
   ]
  }
 ],
 "metadata": {
  "colab": {
   "provenance": []
  },
  "kernelspec": {
   "display_name": "Python 3 (ipykernel)",
   "language": "python",
   "name": "python3"
  },
  "language_info": {
   "codemirror_mode": {
    "name": "ipython",
    "version": 3
   },
   "file_extension": ".py",
   "mimetype": "text/x-python",
   "name": "python",
   "nbconvert_exporter": "python",
   "pygments_lexer": "ipython3",
   "version": "3.10.5"
  }
 },
 "nbformat": 4,
 "nbformat_minor": 1
}
